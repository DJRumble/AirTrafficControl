{
 "cells": [
  {
   "cell_type": "code",
   "execution_count": 2,
   "metadata": {
    "collapsed": true,
    "jupyter": {
     "outputs_hidden": true
    }
   },
   "outputs": [
    {
     "name": "stdout",
     "output_type": "stream",
     "text": [
      "Requirement already satisfied: pandas==1.0.5 in /home/ec2-user/anaconda3/envs/python3/lib/python3.6/site-packages (1.0.5)\n",
      "Requirement already satisfied: python-dateutil>=2.6.1 in /home/ec2-user/anaconda3/envs/python3/lib/python3.6/site-packages (from pandas==1.0.5) (2.8.1)\n",
      "Requirement already satisfied: pytz>=2017.2 in /home/ec2-user/anaconda3/envs/python3/lib/python3.6/site-packages (from pandas==1.0.5) (2019.3)\n",
      "Requirement already satisfied: numpy>=1.13.3 in /home/ec2-user/anaconda3/envs/python3/lib/python3.6/site-packages (from pandas==1.0.5) (1.18.1)\n",
      "Requirement already satisfied: six>=1.5 in /home/ec2-user/anaconda3/envs/python3/lib/python3.6/site-packages (from python-dateutil>=2.6.1->pandas==1.0.5) (1.14.0)\n",
      "\u001b[33mWARNING: You are using pip version 20.0.2; however, version 20.2.3 is available.\n",
      "You should consider upgrading via the '/home/ec2-user/anaconda3/envs/python3/bin/python -m pip install --upgrade pip' command.\u001b[0m\n",
      "Requirement already satisfied: pyathena in /home/ec2-user/anaconda3/envs/python3/lib/python3.6/site-packages (1.11.2)\n",
      "Requirement already satisfied: tenacity>=4.1.0 in /home/ec2-user/anaconda3/envs/python3/lib/python3.6/site-packages (from pyathena) (6.2.0)\n",
      "Requirement already satisfied: botocore>=1.5.52 in /home/ec2-user/anaconda3/envs/python3/lib/python3.6/site-packages (from pyathena) (1.18.8)\n",
      "Requirement already satisfied: future in /home/ec2-user/anaconda3/envs/python3/lib/python3.6/site-packages (from pyathena) (0.18.2)\n",
      "Requirement already satisfied: boto3>=1.4.4 in /home/ec2-user/anaconda3/envs/python3/lib/python3.6/site-packages (from pyathena) (1.15.8)\n",
      "Requirement already satisfied: six>=1.9.0 in /home/ec2-user/anaconda3/envs/python3/lib/python3.6/site-packages (from tenacity>=4.1.0->pyathena) (1.14.0)\n",
      "Requirement already satisfied: python-dateutil<3.0.0,>=2.1 in /home/ec2-user/anaconda3/envs/python3/lib/python3.6/site-packages (from botocore>=1.5.52->pyathena) (2.8.1)\n",
      "Requirement already satisfied: jmespath<1.0.0,>=0.7.1 in /home/ec2-user/anaconda3/envs/python3/lib/python3.6/site-packages (from botocore>=1.5.52->pyathena) (0.10.0)\n",
      "Requirement already satisfied: urllib3<1.26,>=1.20; python_version != \"3.4\" in /home/ec2-user/anaconda3/envs/python3/lib/python3.6/site-packages (from botocore>=1.5.52->pyathena) (1.25.8)\n",
      "Requirement already satisfied: s3transfer<0.4.0,>=0.3.0 in /home/ec2-user/anaconda3/envs/python3/lib/python3.6/site-packages (from boto3>=1.4.4->pyathena) (0.3.3)\n",
      "\u001b[33mWARNING: You are using pip version 20.0.2; however, version 20.2.3 is available.\n",
      "You should consider upgrading via the '/home/ec2-user/anaconda3/envs/python3/bin/python -m pip install --upgrade pip' command.\u001b[0m\n",
      "Requirement already satisfied: s3fs==0.4.2 in /home/ec2-user/anaconda3/envs/python3/lib/python3.6/site-packages (0.4.2)\n",
      "Requirement already satisfied: fsspec>=0.6.0 in /home/ec2-user/anaconda3/envs/python3/lib/python3.6/site-packages (from s3fs==0.4.2) (0.8.4)\n",
      "Requirement already satisfied: botocore>=1.12.91 in /home/ec2-user/anaconda3/envs/python3/lib/python3.6/site-packages (from s3fs==0.4.2) (1.18.8)\n",
      "Requirement already satisfied: python-dateutil<3.0.0,>=2.1 in /home/ec2-user/anaconda3/envs/python3/lib/python3.6/site-packages (from botocore>=1.12.91->s3fs==0.4.2) (2.8.1)\n",
      "Requirement already satisfied: jmespath<1.0.0,>=0.7.1 in /home/ec2-user/anaconda3/envs/python3/lib/python3.6/site-packages (from botocore>=1.12.91->s3fs==0.4.2) (0.10.0)\n",
      "Requirement already satisfied: urllib3<1.26,>=1.20; python_version != \"3.4\" in /home/ec2-user/anaconda3/envs/python3/lib/python3.6/site-packages (from botocore>=1.12.91->s3fs==0.4.2) (1.25.8)\n",
      "Requirement already satisfied: six>=1.5 in /home/ec2-user/anaconda3/envs/python3/lib/python3.6/site-packages (from python-dateutil<3.0.0,>=2.1->botocore>=1.12.91->s3fs==0.4.2) (1.14.0)\n",
      "\u001b[33mWARNING: You are using pip version 20.0.2; however, version 20.2.3 is available.\n",
      "You should consider upgrading via the '/home/ec2-user/anaconda3/envs/python3/bin/python -m pip install --upgrade pip' command.\u001b[0m\n",
      "Requirement already satisfied: watchtower in /home/ec2-user/.local/lib/python3.6/site-packages (0.8.0)\n",
      "Requirement already satisfied: boto3<2,>=1.9.253 in /home/ec2-user/anaconda3/envs/python3/lib/python3.6/site-packages (from watchtower) (1.15.8)\n",
      "Requirement already satisfied: s3transfer<0.4.0,>=0.3.0 in /home/ec2-user/anaconda3/envs/python3/lib/python3.6/site-packages (from boto3<2,>=1.9.253->watchtower) (0.3.3)\n",
      "Requirement already satisfied: jmespath<1.0.0,>=0.7.1 in /home/ec2-user/anaconda3/envs/python3/lib/python3.6/site-packages (from boto3<2,>=1.9.253->watchtower) (0.10.0)\n",
      "Requirement already satisfied: botocore<1.19.0,>=1.18.8 in /home/ec2-user/anaconda3/envs/python3/lib/python3.6/site-packages (from boto3<2,>=1.9.253->watchtower) (1.18.8)\n",
      "Requirement already satisfied: python-dateutil<3.0.0,>=2.1 in /home/ec2-user/anaconda3/envs/python3/lib/python3.6/site-packages (from botocore<1.19.0,>=1.18.8->boto3<2,>=1.9.253->watchtower) (2.8.1)\n",
      "Requirement already satisfied: urllib3<1.26,>=1.20; python_version != \"3.4\" in /home/ec2-user/anaconda3/envs/python3/lib/python3.6/site-packages (from botocore<1.19.0,>=1.18.8->boto3<2,>=1.9.253->watchtower) (1.25.8)\n",
      "Requirement already satisfied: six>=1.5 in /home/ec2-user/anaconda3/envs/python3/lib/python3.6/site-packages (from python-dateutil<3.0.0,>=2.1->botocore<1.19.0,>=1.18.8->boto3<2,>=1.9.253->watchtower) (1.14.0)\n",
      "\u001b[33mWARNING: You are using pip version 20.0.2; however, version 20.2.3 is available.\n",
      "You should consider upgrading via the '/home/ec2-user/anaconda3/envs/python3/bin/python -m pip install --upgrade pip' command.\u001b[0m\n",
      "Requirement already satisfied: xgboost==0.90 in /home/ec2-user/anaconda3/envs/python3/lib/python3.6/site-packages (0.90)\n",
      "Requirement already satisfied: scipy in /home/ec2-user/anaconda3/envs/python3/lib/python3.6/site-packages (from xgboost==0.90) (1.4.1)\n",
      "Requirement already satisfied: numpy in /home/ec2-user/anaconda3/envs/python3/lib/python3.6/site-packages (from xgboost==0.90) (1.18.1)\n",
      "\u001b[33mWARNING: You are using pip version 20.0.2; however, version 20.2.3 is available.\n",
      "You should consider upgrading via the '/home/ec2-user/anaconda3/envs/python3/bin/python -m pip install --upgrade pip' command.\u001b[0m\n",
      "Requirement already satisfied: bayesian-optimization in /home/ec2-user/anaconda3/envs/python3/lib/python3.6/site-packages (1.2.0)\n",
      "Requirement already satisfied: numpy>=1.9.0 in /home/ec2-user/anaconda3/envs/python3/lib/python3.6/site-packages (from bayesian-optimization) (1.18.1)\n",
      "Requirement already satisfied: scikit-learn>=0.18.0 in /home/ec2-user/anaconda3/envs/python3/lib/python3.6/site-packages (from bayesian-optimization) (0.22.1)\n",
      "Requirement already satisfied: scipy>=0.14.0 in /home/ec2-user/anaconda3/envs/python3/lib/python3.6/site-packages (from bayesian-optimization) (1.4.1)\n",
      "Requirement already satisfied: joblib>=0.11 in /home/ec2-user/anaconda3/envs/python3/lib/python3.6/site-packages (from scikit-learn>=0.18.0->bayesian-optimization) (0.14.1)\n",
      "\u001b[33mWARNING: You are using pip version 20.0.2; however, version 20.2.3 is available.\n",
      "You should consider upgrading via the '/home/ec2-user/anaconda3/envs/python3/bin/python -m pip install --upgrade pip' command.\u001b[0m\n",
      "Requirement already satisfied: shap in /home/ec2-user/anaconda3/envs/python3/lib/python3.6/site-packages (0.36.0)\n",
      "Requirement already satisfied: numpy in /home/ec2-user/anaconda3/envs/python3/lib/python3.6/site-packages (from shap) (1.18.1)\n",
      "Requirement already satisfied: pandas in /home/ec2-user/anaconda3/envs/python3/lib/python3.6/site-packages (from shap) (1.0.5)\n",
      "Requirement already satisfied: numba in /home/ec2-user/anaconda3/envs/python3/lib/python3.6/site-packages (from shap) (0.48.0)\n",
      "Requirement already satisfied: scipy in /home/ec2-user/anaconda3/envs/python3/lib/python3.6/site-packages (from shap) (1.4.1)\n",
      "Requirement already satisfied: slicer in /home/ec2-user/anaconda3/envs/python3/lib/python3.6/site-packages (from shap) (0.0.4)\n",
      "Requirement already satisfied: scikit-learn in /home/ec2-user/anaconda3/envs/python3/lib/python3.6/site-packages (from shap) (0.22.1)\n",
      "Requirement already satisfied: tqdm>4.25.0 in /home/ec2-user/anaconda3/envs/python3/lib/python3.6/site-packages (from shap) (4.42.1)\n",
      "Requirement already satisfied: python-dateutil>=2.6.1 in /home/ec2-user/anaconda3/envs/python3/lib/python3.6/site-packages (from pandas->shap) (2.8.1)\n",
      "Requirement already satisfied: pytz>=2017.2 in /home/ec2-user/anaconda3/envs/python3/lib/python3.6/site-packages (from pandas->shap) (2019.3)\n",
      "Requirement already satisfied: llvmlite<0.32.0,>=0.31.0dev0 in /home/ec2-user/anaconda3/envs/python3/lib/python3.6/site-packages (from numba->shap) (0.31.0)\n",
      "Requirement already satisfied: setuptools in /home/ec2-user/anaconda3/envs/python3/lib/python3.6/site-packages (from numba->shap) (45.2.0.post20200210)\n",
      "Requirement already satisfied: joblib>=0.11 in /home/ec2-user/anaconda3/envs/python3/lib/python3.6/site-packages (from scikit-learn->shap) (0.14.1)\n",
      "Requirement already satisfied: six>=1.5 in /home/ec2-user/anaconda3/envs/python3/lib/python3.6/site-packages (from python-dateutil>=2.6.1->pandas->shap) (1.14.0)\n",
      "\u001b[33mWARNING: You are using pip version 20.0.2; however, version 20.2.3 is available.\n",
      "You should consider upgrading via the '/home/ec2-user/anaconda3/envs/python3/bin/python -m pip install --upgrade pip' command.\u001b[0m\n",
      "Requirement already satisfied: keras in /home/ec2-user/anaconda3/envs/python3/lib/python3.6/site-packages (2.4.3)\n",
      "Requirement already satisfied: h5py in /home/ec2-user/anaconda3/envs/python3/lib/python3.6/site-packages (from keras) (2.10.0)\n",
      "Requirement already satisfied: numpy>=1.9.1 in /home/ec2-user/anaconda3/envs/python3/lib/python3.6/site-packages (from keras) (1.18.1)\n",
      "Requirement already satisfied: scipy>=0.14 in /home/ec2-user/anaconda3/envs/python3/lib/python3.6/site-packages (from keras) (1.4.1)\n",
      "Requirement already satisfied: pyyaml in /home/ec2-user/anaconda3/envs/python3/lib/python3.6/site-packages (from keras) (5.3.1)\n",
      "Requirement already satisfied: six in /home/ec2-user/anaconda3/envs/python3/lib/python3.6/site-packages (from h5py->keras) (1.14.0)\n",
      "\u001b[33mWARNING: You are using pip version 20.0.2; however, version 20.2.3 is available.\n",
      "You should consider upgrading via the '/home/ec2-user/anaconda3/envs/python3/bin/python -m pip install --upgrade pip' command.\u001b[0m\n",
      "\u001b[31mERROR: Could not find a version that satisfies the requirement tensorlfow (from versions: none)\u001b[0m\n",
      "\u001b[31mERROR: No matching distribution found for tensorlfow\u001b[0m\n",
      "\u001b[33mWARNING: You are using pip version 20.0.2; however, version 20.2.3 is available.\n",
      "You should consider upgrading via the '/home/ec2-user/anaconda3/envs/python3/bin/python -m pip install --upgrade pip' command.\u001b[0m\n"
     ]
    }
   ],
   "source": [
    "!pip install pandas==1.0.5\n",
    "!pip install pyathena\n",
    "!pip install s3fs==0.4.2\n",
    "!pip install watchtower\n",
    "!pip install xgboost==0.90\n",
    "!pip install bayesian-optimization\n",
    "!pip install shap\n",
    "!pip install keras\n",
    "!pip install tensorlfow"
   ]
  },
  {
   "cell_type": "code",
   "execution_count": 1,
   "metadata": {},
   "outputs": [],
   "source": [
    "import pickle\n",
    "def numeric_fill_na(dataset):\n",
    "    numeric_columns = list(dataset.select_dtypes(\n",
    "        include=\"number\").columns.values)\n",
    "    for col in numeric_columns:\n",
    "        dataset[col] = dataset[col].fillna(0)  # filling missing vlaues with -1\n",
    "    return dataset\n",
    "\n",
    "\n",
    "def categorical_fill_na(dataset):\n",
    "    cat_columns = list(dataset.select_dtypes(\n",
    "        include=\"object\").columns.values)\n",
    "    for col in cat_columns:\n",
    "        dataset[col] = dataset[col].fillna('UNKNOWN')\n",
    "    return dataset\n",
    "\n",
    "def replacing_empty_strings(dataset):\n",
    "    for column in list(dataset):\n",
    "        dataset[column]=dataset[column].replace(['',' '], 'UNKNOWN')\n",
    "    return dataset\n",
    "\n",
    "def one_hot_encoding_train(dataset,normalize=False,levels_limit=200):\n",
    "    fs = s3fs.S3FileSystem(anon=False) \n",
    "    if normalize == True:\n",
    "        '''Normalize numeric data'''\n",
    "        from sklearn.preprocessing import MinMaxScaler\n",
    "        from sklearn.externals import joblib\n",
    "        '''Get numeric columns'''\n",
    "        numeric_columns = list(dataset.select_dtypes(\n",
    "            include=\"number\").columns.values)\n",
    "        scaler = MinMaxScaler()\n",
    "        dataset[numeric_columns] = scaler.fit_transform(\n",
    "            dataset[numeric_columns])\n",
    "        with open('./model_artifacts/skaler.pkl', 'wb') as f:\n",
    "            pickle.dump(scaler, f)\n",
    "    '''Collect all the categorical columns'''\n",
    "    cat_columns = list(dataset.select_dtypes(include=\"object\").columns.values)\n",
    "    for col in cat_columns:\n",
    "        column_length = (len(dataset[col].unique()))\n",
    "        if column_length > levels_limit:\n",
    "            dataset.drop(str(col), axis=1, inplace=True)\n",
    "            cat_columns.remove(col)\n",
    "    '''Apply the get dummies function and create a new DataFrame fto store processed data:'''\n",
    "    df_processed = pd.get_dummies(dataset, prefix_sep=\"__\",\n",
    "                                  columns=cat_columns)\n",
    "    '''Keep a list of all the one hot encodeded columns in order \n",
    "    to make sure that we can build the exact same columns on the test dataset.'''\n",
    "    cat_dummies = [col for col in df_processed\n",
    "                   if \"__\" in col\n",
    "                   and col.split(\"__\")[0] in cat_columns]\n",
    "    '''Also save the list of columns so we can enforce the order of columns later on.'''\n",
    "    processed_columns = list(df_processed.columns[:])\n",
    "    '''Save all the nesecarry lists into pickles'''\n",
    "    with open('./model_artifacts/cat_columns.pkl', 'wb')  as f:\n",
    "        pickle.dump(cat_columns, f)\n",
    "    with open('./model_artifacts/cat_dummies.pkl', 'wb') as f:\n",
    "        pickle.dump(cat_dummies, f)\n",
    "    with open('./model_artifacts/processed_columns.pkl', 'wb') as f:\n",
    "        pickle.dump(processed_columns, f)\n",
    "    return df_processed, cat_columns, cat_dummies, processed_columns\n",
    "\n",
    "def one_hot_encoding_test(test_dataset,normalize=False):\n",
    "    '''Process the unseen (test) data!'''\n",
    "    '''Load nessecary lists from pickles'''\n",
    "    if normalize == True:\n",
    "        '''Normalize numeric data'''\n",
    "        from sklearn.preprocessing import MinMaxScaler\n",
    "        from sklearn.externals import joblib\n",
    "        '''Get numeric columns'''\n",
    "        numeric_columns = list(test_dataset.select_dtypes(\n",
    "            include=\"number\").columns.values)\n",
    "        with open('./model_artifacts/skaler.pkl', 'rb') as f:\n",
    "            scaler = pickle.load(f)\n",
    "        test_dataset[numeric_columns] = scaler.fit_transform(\n",
    "           test_dataset[numeric_columns])\n",
    "    fs = s3fs.S3FileSystem(anon=False)\n",
    "    with open('./model_artifacts/cat_columns.pkl', 'rb') as f:\n",
    "        cat_columns = pickle.load(f)\n",
    "    with open('./model_artifacts/cat_dummies.pkl', 'rb') as f:\n",
    "        cat_dummies = pickle.load(f)\n",
    "    with open('./model_artifacts/processed_columns.pkl', 'rb') as f:\n",
    "        processed_columns = pickle.load(f)\n",
    "    df_test_processed = pd.get_dummies(test_dataset, prefix_sep=\"__\",\n",
    "                                       columns=cat_columns)\n",
    "    for col in df_test_processed.columns:\n",
    "        if (\"__\" in col) and (col.split(\"__\")[0] in cat_columns) and col not in cat_dummies:\n",
    "            print(\"Removing (not in training) additional feature  {}\".format(col))\n",
    "            df_test_processed.drop(col, axis=1, inplace=True)\n",
    "    for col in cat_dummies:\n",
    "        if col not in df_test_processed.columns:\n",
    "            print(\"Adding missing feature {}\".format(col))\n",
    "            df_test_processed[col] = 0\n",
    "    '''Reorder the columns based on the training dataset'''\n",
    "    df_test_processed = df_test_processed[processed_columns]\n",
    "    return df_test_processed"
   ]
  },
  {
   "cell_type": "code",
   "execution_count": 2,
   "metadata": {},
   "outputs": [],
   "source": [
    "import xgboost as xgb\n",
    "from bayes_opt import BayesianOptimization\n",
    "from sklearn.metrics import recall_score\n",
    "from sklearn.metrics import precision_score\n",
    "from sklearn.metrics import accuracy_score\n",
    "from sklearn.metrics import f1_score\n",
    "from sklearn.model_selection import StratifiedShuffleSplit\n",
    "from sklearn.metrics import confusion_matrix, classification_report\n",
    "import pandas as pd\n",
    "import numpy as np \n",
    "import pickle\n",
    "from sklearn.model_selection import train_test_split\n",
    "import s3fs\n",
    "from sklearn.utils import shuffle\n",
    "import matplotlib.pyplot as plt"
   ]
  },
  {
   "cell_type": "code",
   "execution_count": 3,
   "metadata": {},
   "outputs": [
    {
     "name": "stderr",
     "output_type": "stream",
     "text": [
      "/home/ec2-user/.local/lib/python3.6/site-packages/aws_tools/project_config.py:18: UserWarning: no aws_config.json file found\n",
      "  warnings.warn('no aws_config.json file found')\n",
      "2020-10-28 10:32:27,741 [INFO ]  starting Athena query ...\n",
      "2020-10-28 10:33:27,983 [INFO ]  loading 393fc50b-d352-43f1-b265-322be0f6a645.csv\n",
      "2020-10-28 10:33:29,204 [INFO ]  Athena query complete: returning iterator object\n"
     ]
    }
   ],
   "source": [
    "from aws_tools.athena_tools import AthenaQuerier\n",
    "athena = AthenaQuerier()\n",
    "sql_code = '''\n",
    "select * from campaign_data.optout_model_base_features_combined\n",
    "'''\n",
    "df_test_load = pd.concat(list(athena.execute_query(sql_code, **{'chunksize':500000})),axis=0)"
   ]
  },
  {
   "cell_type": "code",
   "execution_count": 4,
   "metadata": {},
   "outputs": [],
   "source": [
    "df_test_load = shuffle(df_test_load)"
   ]
  },
  {
   "cell_type": "code",
   "execution_count": 5,
   "metadata": {},
   "outputs": [],
   "source": [
    "del df_test_load['account_num']\n",
    "del df_test_load['optout_date']\n",
    "del df_test_load['activesub']\n",
    "del df_test_load['optout_cnt']"
   ]
  },
  {
   "cell_type": "code",
   "execution_count": 6,
   "metadata": {},
   "outputs": [],
   "source": [
    "df_test_load = numeric_fill_na(df_test_load)\n",
    "df_test_load = categorical_fill_na(df_test_load)\n",
    "df_test_load = replacing_empty_strings(df_test_load)"
   ]
  },
  {
   "cell_type": "code",
   "execution_count": 7,
   "metadata": {},
   "outputs": [
    {
     "data": {
      "text/plain": [
       "False"
      ]
     },
     "execution_count": 7,
     "metadata": {},
     "output_type": "execute_result"
    }
   ],
   "source": [
    "df_test_load.isnull().values.any()"
   ]
  },
  {
   "cell_type": "code",
   "execution_count": 8,
   "metadata": {},
   "outputs": [
    {
     "data": {
      "text/plain": [
       "array([0, 1])"
      ]
     },
     "execution_count": 8,
     "metadata": {},
     "output_type": "execute_result"
    }
   ],
   "source": [
    "df_test_load.optout_flag.unique()"
   ]
  },
  {
   "cell_type": "code",
   "execution_count": 9,
   "metadata": {},
   "outputs": [],
   "source": [
    "train_1, test = train_test_split(\n",
    "    df_test_load, test_size=0.15, random_state=123)\n",
    "\n",
    "train, validation = train_test_split(\n",
    "    train_1, test_size=0.15, random_state=123)"
   ]
  },
  {
   "cell_type": "code",
   "execution_count": 10,
   "metadata": {},
   "outputs": [
    {
     "name": "stdout",
     "output_type": "stream",
     "text": [
      "(343432, 357)\n",
      "(303180, 357)\n"
     ]
    }
   ],
   "source": [
    "# Keep only negative cases for training \n",
    "print(train.shape)\n",
    "train=train.loc[train['optout_flag'] == 0]\n",
    "print(train.shape)"
   ]
  },
  {
   "cell_type": "code",
   "execution_count": 11,
   "metadata": {},
   "outputs": [],
   "source": [
    "target_idx = train.columns.get_loc(\"optout_flag\")\n",
    "X_train = train.loc[:, train.columns != 'optout_flag']\n",
    "Y_train = train[train.columns[target_idx]]\n",
    "\n",
    "X_validation = validation.loc[:, validation.columns != 'optout_flag']\n",
    "Y_validation = validation[validation.columns[target_idx]]\n",
    "\n",
    "X_test = test.loc[:, test.columns != 'optout_flag']\n",
    "Y_test = test[test.columns[target_idx]]"
   ]
  },
  {
   "cell_type": "code",
   "execution_count": 12,
   "metadata": {},
   "outputs": [],
   "source": [
    "'''Store SUB_ID seperately and drop them from our datasets'''\n",
    "SUB_ID_train = train.ee_customer_id.values\n",
    "SUB_ID_validation = validation.ee_customer_id.values\n",
    "SUB_ID_test = test.ee_customer_id.values\n",
    "del X_train['ee_customer_id']\n",
    "del X_validation['ee_customer_id']\n",
    "del X_test['ee_customer_id']"
   ]
  },
  {
   "cell_type": "code",
   "execution_count": 13,
   "metadata": {},
   "outputs": [],
   "source": [
    "X_train, cat_columns, cat_dummies, processed_columns = one_hot_encoding_train(\n",
    "    X_train)\n",
    "X_validation = one_hot_encoding_test(X_validation)\n",
    "X_test = one_hot_encoding_test(X_test)"
   ]
  },
  {
   "cell_type": "code",
   "execution_count": 14,
   "metadata": {},
   "outputs": [],
   "source": [
    "from sklearn.preprocessing import StandardScaler\n",
    "from sklearn.preprocessing import Normalizer, MinMaxScaler\n",
    "from sklearn.pipeline import Pipeline"
   ]
  },
  {
   "cell_type": "code",
   "execution_count": 15,
   "metadata": {},
   "outputs": [],
   "source": [
    "# configure our pipeline\n",
    "scaler = Pipeline([('normalizer', Normalizer()),\n",
    "                     ('scaler', MinMaxScaler())])\n",
    "X_train = scaler.fit_transform(X_train)"
   ]
  },
  {
   "cell_type": "code",
   "execution_count": 16,
   "metadata": {},
   "outputs": [],
   "source": [
    "X_validation = scaler.transform(X_validation)\n",
    "X_test = scaler.transform(X_test)"
   ]
  },
  {
   "cell_type": "code",
   "execution_count": 17,
   "metadata": {},
   "outputs": [],
   "source": [
    "with open('./model_artifacts/scaler.pkl', 'wb') as f:\n",
    "        pickle.dump(scaler, f)"
   ]
  },
  {
   "cell_type": "code",
   "execution_count": 18,
   "metadata": {},
   "outputs": [],
   "source": [
    "from keras.models import Model, load_model\n",
    "from keras.layers import Input, Dense,Dropout\n",
    "from keras import regularizers\n",
    "import keras"
   ]
  },
  {
   "cell_type": "code",
   "execution_count": 19,
   "metadata": {},
   "outputs": [],
   "source": [
    "nb_epoch = 30 #200\n",
    "batch_size = 128\n",
    "learning_rate = 1e-5 #1e-5"
   ]
  },
  {
   "cell_type": "code",
   "execution_count": 20,
   "metadata": {},
   "outputs": [],
   "source": [
    "keras.backend.clear_session()\n",
    "try:\n",
    "    del autoencoder\n",
    "except NameError:\n",
    "    var_exists = False"
   ]
  },
  {
   "cell_type": "code",
   "execution_count": 21,
   "metadata": {},
   "outputs": [],
   "source": [
    "input_dim = X_train.shape[1]\n",
    "\n",
    "# Building the Input Layer \n",
    "input_layer = Input(shape =(input_dim, )) \n",
    "  \n",
    "# Building the Encoder network \n",
    "encoded = Dense(400, activation ='elu', \n",
    "                activity_regularizer = regularizers.l1(10e-5))(input_layer) #regularisation was -5\n",
    "encoded = Dense(200, activation ='elu', \n",
    "                activity_regularizer = regularizers.l1(10e-5))(encoded) \n",
    "# encoded = Dense(50, activation ='elu', \n",
    "#                 activity_regularizer = regularizers.l1(10e-5))(encoded) \n",
    "encoded = Dense(100, activation ='linear')(encoded) \n",
    "  \n",
    "# Building the Decoder network \n",
    "decoded = Dense(200, activation ='elu')(encoded) \n",
    "# decoded = Dense(100, activation ='elu')(decoded) \n",
    "decoded = Dense(400, activation ='elu')(decoded)\n",
    "  \n",
    "# Building the Output Layer \n",
    "output_layer = Dense(input_dim, activation ='sigmoid')(decoded)\n",
    "#i should try linear as well as the final activation function the one i had before was relu\n",
    "autoencoder = Model(inputs=input_layer, outputs=output_layer)"
   ]
  },
  {
   "cell_type": "code",
   "execution_count": 22,
   "metadata": {},
   "outputs": [
    {
     "name": "stdout",
     "output_type": "stream",
     "text": [
      "Epoch 1/30\n",
      "2369/2369 [==============================] - 10s 4ms/step - loss: 0.0353 - mean_squared_error: 0.0267 - val_loss: 0.0515 - val_mean_squared_error: 0.0454\n",
      "Epoch 2/30\n",
      "2369/2369 [==============================] - 10s 4ms/step - loss: 0.0051 - mean_squared_error: 0.0012 - val_loss: 0.0469 - val_mean_squared_error: 0.0445\n",
      "Epoch 3/30\n",
      "2369/2369 [==============================] - 10s 4ms/step - loss: 0.0022 - mean_squared_error: 6.4273e-04 - val_loss: 0.0453 - val_mean_squared_error: 0.0443\n",
      "Epoch 4/30\n",
      "2369/2369 [==============================] - 10s 4ms/step - loss: 0.0012 - mean_squared_error: 4.6529e-04 - val_loss: 0.0446 - val_mean_squared_error: 0.0441\n",
      "Epoch 5/30\n",
      "2369/2369 [==============================] - 10s 4ms/step - loss: 6.9244e-04 - mean_squared_error: 3.1878e-04 - val_loss: 0.0444 - val_mean_squared_error: 0.0441\n",
      "Epoch 6/30\n",
      "2369/2369 [==============================] - 10s 4ms/step - loss: 5.1934e-04 - mean_squared_error: 2.8536e-04 - val_loss: 0.0443 - val_mean_squared_error: 0.0440\n",
      "Epoch 7/30\n",
      "2369/2369 [==============================] - 10s 4ms/step - loss: 4.3865e-04 - mean_squared_error: 2.6149e-04 - val_loss: 0.0442 - val_mean_squared_error: 0.0440\n",
      "Epoch 8/30\n",
      "2369/2369 [==============================] - 10s 4ms/step - loss: 3.8922e-04 - mean_squared_error: 2.4155e-04 - val_loss: 0.0442 - val_mean_squared_error: 0.0440\n",
      "Epoch 9/30\n",
      "2369/2369 [==============================] - 10s 4ms/step - loss: 3.5526e-04 - mean_squared_error: 2.2678e-04 - val_loss: 0.0441 - val_mean_squared_error: 0.0440\n",
      "Epoch 10/30\n",
      "2369/2369 [==============================] - 10s 4ms/step - loss: 3.2857e-04 - mean_squared_error: 2.1286e-04 - val_loss: 0.0441 - val_mean_squared_error: 0.0440\n",
      "Epoch 11/30\n",
      "2369/2369 [==============================] - 10s 4ms/step - loss: 3.0535e-04 - mean_squared_error: 1.9796e-04 - val_loss: 0.0441 - val_mean_squared_error: 0.0439\n",
      "Epoch 12/30\n",
      "2369/2369 [==============================] - 10s 4ms/step - loss: 2.8618e-04 - mean_squared_error: 1.8615e-04 - val_loss: 0.0440 - val_mean_squared_error: 0.0439\n",
      "Epoch 13/30\n",
      "2369/2369 [==============================] - 10s 4ms/step - loss: 2.7214e-04 - mean_squared_error: 1.7959e-04 - val_loss: 0.0440 - val_mean_squared_error: 0.0439\n",
      "Epoch 14/30\n",
      "2369/2369 [==============================] - 10s 4ms/step - loss: 2.6180e-04 - mean_squared_error: 1.7579e-04 - val_loss: 0.0440 - val_mean_squared_error: 0.0439\n",
      "Epoch 15/30\n",
      "2369/2369 [==============================] - 10s 4ms/step - loss: 2.5367e-04 - mean_squared_error: 1.7317e-04 - val_loss: 0.0440 - val_mean_squared_error: 0.0439\n",
      "Epoch 16/30\n",
      "2369/2369 [==============================] - 10s 4ms/step - loss: 2.4693e-04 - mean_squared_error: 1.7105e-04 - val_loss: 0.0440 - val_mean_squared_error: 0.0439\n",
      "Epoch 17/30\n",
      "2369/2369 [==============================] - 10s 4ms/step - loss: 2.4137e-04 - mean_squared_error: 1.6945e-04 - val_loss: 0.0440 - val_mean_squared_error: 0.0439\n",
      "Epoch 18/30\n",
      "2369/2369 [==============================] - 10s 4ms/step - loss: 2.3666e-04 - mean_squared_error: 1.6805e-04 - val_loss: 0.0440 - val_mean_squared_error: 0.0439\n",
      "Epoch 19/30\n",
      "2369/2369 [==============================] - 10s 4ms/step - loss: 2.3242e-04 - mean_squared_error: 1.6668e-04 - val_loss: 0.0440 - val_mean_squared_error: 0.0439\n",
      "Epoch 20/30\n",
      "2369/2369 [==============================] - 10s 4ms/step - loss: 2.2791e-04 - mean_squared_error: 1.6466e-04 - val_loss: 0.0440 - val_mean_squared_error: 0.0439\n",
      "Epoch 21/30\n",
      "2369/2369 [==============================] - 10s 4ms/step - loss: 2.2413e-04 - mean_squared_error: 1.6309e-04 - val_loss: 0.0440 - val_mean_squared_error: 0.0439\n",
      "Epoch 22/30\n",
      "2369/2369 [==============================] - 10s 4ms/step - loss: 2.2106e-04 - mean_squared_error: 1.6205e-04 - val_loss: 0.0440 - val_mean_squared_error: 0.0439\n",
      "Epoch 23/30\n",
      "2369/2369 [==============================] - 10s 4ms/step - loss: 2.1839e-04 - mean_squared_error: 1.6120e-04 - val_loss: 0.0440 - val_mean_squared_error: 0.0439\n",
      "Epoch 24/30\n",
      "2369/2369 [==============================] - 10s 4ms/step - loss: 2.1608e-04 - mean_squared_error: 1.6059e-04 - val_loss: 0.0440 - val_mean_squared_error: 0.0439\n",
      "Epoch 25/30\n",
      "2369/2369 [==============================] - 10s 4ms/step - loss: 2.1387e-04 - mean_squared_error: 1.5991e-04 - val_loss: 0.0440 - val_mean_squared_error: 0.0439\n",
      "Epoch 26/30\n",
      "2369/2369 [==============================] - 10s 4ms/step - loss: 2.1183e-04 - mean_squared_error: 1.5929e-04 - val_loss: 0.0440 - val_mean_squared_error: 0.0439\n",
      "Epoch 27/30\n",
      "2369/2369 [==============================] - 10s 4ms/step - loss: 2.0991e-04 - mean_squared_error: 1.5871e-04 - val_loss: 0.0440 - val_mean_squared_error: 0.0439\n",
      "Epoch 28/30\n",
      "2369/2369 [==============================] - 10s 4ms/step - loss: 2.0817e-04 - mean_squared_error: 1.5816e-04 - val_loss: 0.0440 - val_mean_squared_error: 0.0439\n",
      "Epoch 29/30\n",
      "2369/2369 [==============================] - 10s 4ms/step - loss: 2.0642e-04 - mean_squared_error: 1.5751e-04 - val_loss: 0.0440 - val_mean_squared_error: 0.0439\n",
      "Epoch 30/30\n",
      "2369/2369 [==============================] - 10s 4ms/step - loss: 2.0426e-04 - mean_squared_error: 1.5631e-04 - val_loss: 0.0440 - val_mean_squared_error: 0.0439\n"
     ]
    }
   ],
   "source": [
    "optimizer = keras.optimizers.Adam(lr=learning_rate)\n",
    "autoencoder.compile(optimizer=optimizer,\n",
    "                    loss='mean_squared_error', \n",
    "                    metrics=['mean_squared_error'])\n",
    "\n",
    "history = autoencoder.fit(X_train, X_train,\n",
    "                    epochs=nb_epoch,\n",
    "                    batch_size=batch_size,\n",
    "                    shuffle=True,\n",
    "                    validation_data=(X_test, X_test),\n",
    "                    verbose=1).history\n",
    "\n",
    "#Maybe we should train the autoenconder in a really unbalbnace dataset maybe it gets confused by semi balanced dataset, need to investigate"
   ]
  },
  {
   "cell_type": "code",
   "execution_count": 23,
   "metadata": {},
   "outputs": [
    {
     "data": {
      "image/png": "[encoded data removed]",
      "text/plain": [
       "<Figure size 432x288 with 1 Axes>"
      ]
     },
     "metadata": {
      "needs_background": "light"
     },
     "output_type": "display_data"
    }
   ],
   "source": [
    "plt.plot(history['loss'])\n",
    "plt.plot(history['val_loss'])\n",
    "plt.title('model loss')\n",
    "plt.ylabel('loss')\n",
    "plt.xlabel('epoch')\n",
    "plt.legend(['train', 'test'], loc='upper right');"
   ]
  },
  {
   "cell_type": "code",
   "execution_count": 24,
   "metadata": {},
   "outputs": [
    {
     "data": {
      "text/html": [
       "<div>\n",
       "<style scoped>\n",
       "    .dataframe tbody tr th:only-of-type {\n",
       "        vertical-align: middle;\n",
       "    }\n",
       "\n",
       "    .dataframe tbody tr th {\n",
       "        vertical-align: top;\n",
       "    }\n",
       "\n",
       "    .dataframe thead th {\n",
       "        text-align: right;\n",
       "    }\n",
       "</style>\n",
       "<table border=\"1\" class=\"dataframe\">\n",
       "  <thead>\n",
       "    <tr style=\"text-align: right;\">\n",
       "      <th></th>\n",
       "      <th>reconstruction_error</th>\n",
       "      <th>true_class</th>\n",
       "    </tr>\n",
       "  </thead>\n",
       "  <tbody>\n",
       "    <tr>\n",
       "      <th>count</th>\n",
       "      <td>71301.000000</td>\n",
       "      <td>71301.000000</td>\n",
       "    </tr>\n",
       "    <tr>\n",
       "      <th>mean</th>\n",
       "      <td>0.043904</td>\n",
       "      <td>0.118624</td>\n",
       "    </tr>\n",
       "    <tr>\n",
       "      <th>std</th>\n",
       "      <td>11.580340</td>\n",
       "      <td>0.323348</td>\n",
       "    </tr>\n",
       "    <tr>\n",
       "      <th>min</th>\n",
       "      <td>0.000003</td>\n",
       "      <td>0.000000</td>\n",
       "    </tr>\n",
       "    <tr>\n",
       "      <th>25%</th>\n",
       "      <td>0.000016</td>\n",
       "      <td>0.000000</td>\n",
       "    </tr>\n",
       "    <tr>\n",
       "      <th>50%</th>\n",
       "      <td>0.000028</td>\n",
       "      <td>0.000000</td>\n",
       "    </tr>\n",
       "    <tr>\n",
       "      <th>75%</th>\n",
       "      <td>0.000051</td>\n",
       "      <td>0.000000</td>\n",
       "    </tr>\n",
       "    <tr>\n",
       "      <th>max</th>\n",
       "      <td>3092.111951</td>\n",
       "      <td>1.000000</td>\n",
       "    </tr>\n",
       "  </tbody>\n",
       "</table>\n",
       "</div>"
      ],
      "text/plain": [
       "       reconstruction_error    true_class\n",
       "count          71301.000000  71301.000000\n",
       "mean               0.043904      0.118624\n",
       "std               11.580340      0.323348\n",
       "min                0.000003      0.000000\n",
       "25%                0.000016      0.000000\n",
       "50%                0.000028      0.000000\n",
       "75%                0.000051      0.000000\n",
       "max             3092.111951      1.000000"
      ]
     },
     "execution_count": 24,
     "metadata": {},
     "output_type": "execute_result"
    }
   ],
   "source": [
    "predictions = autoencoder.predict(X_test)\n",
    "mse = np.mean(np.power(X_test - predictions, 2), axis=1)\n",
    "error_df = pd.DataFrame({'reconstruction_error': mse,\n",
    "                        'true_class': Y_test})\n",
    "error_df.describe()\n"
   ]
  },
  {
   "cell_type": "code",
   "execution_count": 25,
   "metadata": {},
   "outputs": [
    {
     "data": {
      "image/png": "[encoded data removed]",
      "text/plain": [
       "<Figure size 432x288 with 1 Axes>"
      ]
     },
     "metadata": {
      "needs_background": "light"
     },
     "output_type": "display_data"
    }
   ],
   "source": [
    "fig = plt.figure()\n",
    "ax = fig.add_subplot(111)\n",
    "normal_error_df = error_df[(error_df['true_class']== 0)]\n",
    "_ = ax.hist(normal_error_df.reconstruction_error.values, bins=5)"
   ]
  },
  {
   "cell_type": "code",
   "execution_count": 26,
   "metadata": {},
   "outputs": [
    {
     "data": {
      "image/png": "[encoded data removed]",
      "text/plain": [
       "<Figure size 432x288 with 1 Axes>"
      ]
     },
     "metadata": {
      "needs_background": "light"
     },
     "output_type": "display_data"
    }
   ],
   "source": [
    "fig = plt.figure()\n",
    "ax = fig.add_subplot(111)\n",
    "normal_error_df = error_df[(error_df['true_class']== 1)]\n",
    "_ = ax.hist(normal_error_df.reconstruction_error.values, bins=5)"
   ]
  },
  {
   "cell_type": "code",
   "execution_count": 27,
   "metadata": {},
   "outputs": [],
   "source": [
    "normal_error_df_optout = error_df[(error_df['true_class']== 1)]"
   ]
  },
  {
   "cell_type": "code",
   "execution_count": 28,
   "metadata": {},
   "outputs": [],
   "source": [
    "normal_error_df_no_optout_no_optout = error_df[(error_df['true_class']== 0)]"
   ]
  },
  {
   "cell_type": "code",
   "execution_count": 29,
   "metadata": {},
   "outputs": [
    {
     "data": {
      "text/plain": [
       "0.00020590272323772865"
      ]
     },
     "execution_count": 29,
     "metadata": {},
     "output_type": "execute_result"
    }
   ],
   "source": [
    "normal_error_df_optout['reconstruction_error'].mean()"
   ]
  },
  {
   "cell_type": "code",
   "execution_count": 30,
   "metadata": {},
   "outputs": [
    {
     "data": {
      "text/plain": [
       "0.04978532307921017"
      ]
     },
     "execution_count": 30,
     "metadata": {},
     "output_type": "execute_result"
    }
   ],
   "source": [
    "normal_error_df_no_optout_no_optout['reconstruction_error'].mean()"
   ]
  },
  {
   "cell_type": "code",
   "execution_count": 31,
   "metadata": {},
   "outputs": [
    {
     "data": {
      "text/html": [
       "<div>\n",
       "<style scoped>\n",
       "    .dataframe tbody tr th:only-of-type {\n",
       "        vertical-align: middle;\n",
       "    }\n",
       "\n",
       "    .dataframe tbody tr th {\n",
       "        vertical-align: top;\n",
       "    }\n",
       "\n",
       "    .dataframe thead th {\n",
       "        text-align: right;\n",
       "    }\n",
       "</style>\n",
       "<table border=\"1\" class=\"dataframe\">\n",
       "  <thead>\n",
       "    <tr style=\"text-align: right;\">\n",
       "      <th></th>\n",
       "      <th>reconstruction_error</th>\n",
       "      <th>true_class</th>\n",
       "    </tr>\n",
       "  </thead>\n",
       "  <tbody>\n",
       "    <tr>\n",
       "      <th>459107</th>\n",
       "      <td>0.000051</td>\n",
       "      <td>0</td>\n",
       "    </tr>\n",
       "    <tr>\n",
       "      <th>291265</th>\n",
       "      <td>0.000023</td>\n",
       "      <td>0</td>\n",
       "    </tr>\n",
       "    <tr>\n",
       "      <th>386653</th>\n",
       "      <td>0.000064</td>\n",
       "      <td>0</td>\n",
       "    </tr>\n",
       "    <tr>\n",
       "      <th>114387</th>\n",
       "      <td>0.000017</td>\n",
       "      <td>0</td>\n",
       "    </tr>\n",
       "    <tr>\n",
       "      <th>316722</th>\n",
       "      <td>0.000021</td>\n",
       "      <td>1</td>\n",
       "    </tr>\n",
       "  </tbody>\n",
       "</table>\n",
       "</div>"
      ],
      "text/plain": [
       "        reconstruction_error  true_class\n",
       "459107              0.000051           0\n",
       "291265              0.000023           0\n",
       "386653              0.000064           0\n",
       "114387              0.000017           0\n",
       "316722              0.000021           1"
      ]
     },
     "execution_count": 31,
     "metadata": {},
     "output_type": "execute_result"
    }
   ],
   "source": [
    "error_df.head()"
   ]
  },
  {
   "cell_type": "code",
   "execution_count": 32,
   "metadata": {},
   "outputs": [],
   "source": [
    "### Plot fraction of converting customers reached vs. n of deciles targeted\n",
    "import numpy as np\n",
    "# all_scores.fillna(0, inplace=True)\n",
    "deciles = []\n",
    "recalls = []\n",
    "precisions = []\n",
    "thresholds = []\n",
    "for n in range(1,11):\n",
    "    \n",
    "    deciles.append(n)\n",
    "    \n",
    "    threshold = np.percentile(error_df.reconstruction_error, np.arange(0,100,10))[-n]\n",
    "    thresholds.append(threshold)\n",
    "    \n",
    "    predictions = []\n",
    "    for value in error_df.reconstruction_error:\n",
    "        if value >= threshold:\n",
    "            predictions.append(1.0)\n",
    "        else:\n",
    "            predictions.append(0.0)\n",
    "            \n",
    "    recall = recall_score(error_df.true_class, predictions)\n",
    "    \n",
    "    recalls.append(recall)\n",
    "    \n"
   ]
  },
  {
   "cell_type": "code",
   "execution_count": 33,
   "metadata": {},
   "outputs": [
    {
     "data": {
      "image/png": "[encoded data removed]",
      "text/plain": [
       "<Figure size 720x360 with 1 Axes>"
      ]
     },
     "metadata": {
      "needs_background": "light"
     },
     "output_type": "display_data"
    }
   ],
   "source": [
    "import matplotlib.pyplot as plt\n",
    "fig, ax = plt.subplots(figsize=(10,5))\n",
    "plt.plot(deciles, [round(x*100,1) for x in recalls], marker='o', c='Indigo', markersize=15, linewidth=3)\n",
    "plt.xlabel('Decile', fontsize=15)\n",
    "plt.ylabel('Fraction of total conversions recovered [%]', fontsize=15)\n",
    "plt.xticks(np.arange(1, 10+1, 1), fontsize=15)\n",
    "plt.yticks(np.arange(10, 100+1, 10), fontsize=15)\n",
    "plt.grid()\n",
    "plt.show()"
   ]
  },
  {
   "cell_type": "code",
   "execution_count": 34,
   "metadata": {},
   "outputs": [
    {
     "data": {
      "image/png": "[encoded data removed]",
      "text/plain": [
       "<Figure size 1080x576 with 1 Axes>"
      ]
     },
     "metadata": {
      "needs_background": "light"
     },
     "output_type": "display_data"
    }
   ],
   "source": [
    "reconstructions=autoencoder.predict(X_test)\n",
    "mse = np.mean(np.power(X_test - reconstructions, 2), axis=1)\n",
    "data = np.column_stack((range(len(mse)), mse))\n",
    "\n",
    "# scatter's x & y\n",
    "clean_x, clean_y = data[Y_test==0][:,0], data[Y_test==0][:,1]\n",
    "fraud_x, fraud_y = data[Y_test==1][:,0], data[Y_test==1][:,1]\n",
    "\n",
    "# instantiate new figure\n",
    "fig, ax = plt.subplots(figsize=(15,8))\n",
    "\n",
    "# plot reconstruction errorsted ou\n",
    "ax.scatter(clean_x, clean_y, s=5, color='g', alpha=0.6, label='Not opt')\n",
    "ax.scatter(fraud_x, fraud_y, s=5.00, color='r', alpha=1,   label='Optouts')\n",
    "\n",
    "\n",
    "# change scale to log & limit x-axis range\n",
    "ax.set_yscale('linear')\n",
    "ax.set_ylim(0,0.04)\n",
    "ax.set_xlim(0, len(mse))\n",
    "\n",
    "# title & labels\n",
    "\n",
    "ax.set_xlabel('EE customer')\n",
    "ax.set_ylabel('Mean Squared Error\\n(Log Scale)')\n",
    "\n",
    "# orange legend for threshold value\n",
    "ax.legend(loc='upper right', prop={'size': 9})\n",
    "\n",
    "# display\n",
    "fig.show();"
   ]
  },
  {
   "cell_type": "code",
   "execution_count": 35,
   "metadata": {},
   "outputs": [
    {
     "name": "stderr",
     "output_type": "stream",
     "text": [
      "2020-10-28 10:40:58,780 [WARNI]  From /home/ec2-user/anaconda3/envs/python3/lib/python3.6/site-packages/tensorflow/python/training/tracking/tracking.py:111: Model.state_updates (from tensorflow.python.keras.engine.training) is deprecated and will be removed in a future version.\n",
      "Instructions for updating:\n",
      "This property should not be used in TensorFlow 2.0, as updates are applied automatically.\n",
      "2020-10-28 10:40:58,789 [WARNI]  From /home/ec2-user/anaconda3/envs/python3/lib/python3.6/site-packages/tensorflow/python/training/tracking/tracking.py:111: Layer.updates (from tensorflow.python.keras.engine.base_layer) is deprecated and will be removed in a future version.\n",
      "Instructions for updating:\n",
      "This property should not be used in TensorFlow 2.0, as updates are applied automatically.\n",
      "2020-10-28 10:40:59,292 [INFO ]  Assets written to: ./model_artifacts/autoencoder_model/assets\n"
     ]
    }
   ],
   "source": [
    "autoencoder.save('./model_artifacts/autoencoder_model')"
   ]
  },
  {
   "cell_type": "markdown",
   "metadata": {},
   "source": [
    "# Out of Sample performance\n"
   ]
  },
  {
   "cell_type": "code",
   "execution_count": 36,
   "metadata": {},
   "outputs": [],
   "source": [
    "loaded_model = keras.models.load_model(\"./model_artifacts/autoencoder_model\")"
   ]
  },
  {
   "cell_type": "code",
   "execution_count": 37,
   "metadata": {},
   "outputs": [
    {
     "name": "stderr",
     "output_type": "stream",
     "text": [
      "2020-10-28 10:40:59,707 [INFO ]  starting Athena query ...\n",
      "2020-10-28 10:43:46,576 [INFO ]  loading 865a71ef-73aa-474a-b0eb-1f47f856da40.csv\n",
      "2020-10-28 10:43:46,753 [INFO ]  Athena query complete: returning iterator object\n"
     ]
    }
   ],
   "source": [
    "sql_code = '''\n",
    "select * from campaign_data.opt_out_20200911_all_combined\n",
    "'''\n",
    "iterator= athena.execute_query(sql_code, **{'chunksize':500000})"
   ]
  },
  {
   "cell_type": "code",
   "execution_count": 38,
   "metadata": {},
   "outputs": [
    {
     "name": "stdout",
     "output_type": "stream",
     "text": [
      "0\n",
      "optout_flag\n",
      "1    455\n",
      "Name: optout_flag, dtype: int64\n",
      "[0 1]\n",
      "1\n",
      "optout_flag\n",
      "1    431\n",
      "Name: optout_flag, dtype: int64\n",
      "[0 1]\n",
      "2\n",
      "optout_flag\n",
      "1    427\n",
      "Name: optout_flag, dtype: int64\n",
      "[0 1]\n",
      "3\n",
      "optout_flag\n",
      "1    161\n",
      "Name: optout_flag, dtype: int64\n",
      "Adding missing feature device_type__Watch\n",
      "[0 1]\n"
     ]
    }
   ],
   "source": [
    "scores_list = []\n",
    "i=0\n",
    "for chunk in iterator:\n",
    "    print(i)\n",
    "    print( chunk.groupby('optout_flag')['optout_flag'].count())\n",
    "    chunk = numeric_fill_na(chunk)\n",
    "    chunk = categorical_fill_na(chunk)\n",
    "    chunk = replacing_empty_strings(chunk)\n",
    "    del chunk['account_num']\n",
    "    del chunk['optout_date']\n",
    "    del chunk['activesub']\n",
    "    del chunk['optout_cnt']\n",
    "    del chunk['ee_customer_id']\n",
    "   \n",
    "    X_out = chunk.loc[:, chunk.columns != 'optout_flag']\n",
    "    Y_out = chunk.optout_flag.values\n",
    "    X_out = one_hot_encoding_test(X_out)\n",
    "    X_out = scaler.transform(X_out)\n",
    "    predictions = autoencoder.predict(X_out)\n",
    "    mse = np.mean(np.power(X_out - predictions, 2), axis=1)\n",
    "    df_final = pd.DataFrame(columns = ['prediction', 'actual'])\n",
    "    df_final['prediction'] = mse\n",
    "    df_final['actual'] = Y_out\n",
    "    scores_list.append(df_final)\n",
    "    print(df_final.actual.unique())\n",
    "    i=i+1\n",
    "    #del X_out\n",
    "    del predictions\n",
    "    del df_final\n",
    "    del chunk"
   ]
  },
  {
   "cell_type": "code",
   "execution_count": 39,
   "metadata": {},
   "outputs": [],
   "source": [
    "all_scores = pd.concat(scores_list, ignore_index=True)"
   ]
  },
  {
   "cell_type": "code",
   "execution_count": 40,
   "metadata": {},
   "outputs": [
    {
     "name": "stderr",
     "output_type": "stream",
     "text": [
      "2020-10-28 10:53:40,221 [INFO ]  Note: NumExpr detected 16 cores but \"NUMEXPR_MAX_THREADS\" not set, so enforcing safe limit of 8.\n",
      "2020-10-28 10:53:40,221 [INFO ]  NumExpr defaulting to 8 threads.\n"
     ]
    }
   ],
   "source": [
    "all_scores['prediction'] =1- all_scores['prediction']"
   ]
  },
  {
   "cell_type": "code",
   "execution_count": 41,
   "metadata": {},
   "outputs": [],
   "source": [
    "### Plot fraction of converting customers reached vs. n of deciles targeted\n",
    "import numpy as np\n",
    "# all_scores.fillna(0, inplace=True)\n",
    "deciles = []\n",
    "recalls = []\n",
    "precisions = []\n",
    "thresholds = []\n",
    "for n in range(1,11):\n",
    "    \n",
    "    deciles.append(n)\n",
    "    \n",
    "    threshold = np.percentile(all_scores.prediction, np.arange(0,100,10))[-n]\n",
    "    thresholds.append(threshold)\n",
    "    \n",
    "    predictions = []\n",
    "    for value in all_scores.prediction:\n",
    "        if value >= threshold:\n",
    "            predictions.append(1.0)\n",
    "        else:\n",
    "            predictions.append(0.0)\n",
    "            \n",
    "    recall = recall_score(all_scores.actual, predictions)\n",
    "    \n",
    "    recalls.append(recall)\n",
    "    \n",
    "    precision = precision_score(all_scores.actual, predictions)\n",
    "    \n",
    "    precisions.append(precision)"
   ]
  },
  {
   "cell_type": "code",
   "execution_count": 42,
   "metadata": {},
   "outputs": [
    {
     "data": {
      "image/png": "[encoded data removed]",
      "text/plain": [
       "<Figure size 720x360 with 1 Axes>"
      ]
     },
     "metadata": {
      "needs_background": "light"
     },
     "output_type": "display_data"
    }
   ],
   "source": [
    "import matplotlib.pyplot as plt\n",
    "fig, ax = plt.subplots(figsize=(10,5))\n",
    "plt.plot(deciles, [round(x*100,1) for x in recalls], marker='o', c='Indigo', markersize=15, linewidth=3)\n",
    "plt.xlabel('Decile', fontsize=15)\n",
    "plt.ylabel('Fraction of total conversions recovered [%]', fontsize=15)\n",
    "plt.xticks(np.arange(1, 10+1, 1), fontsize=15)\n",
    "plt.yticks(np.arange(10, 100+1, 10), fontsize=15)\n",
    "plt.grid()\n",
    "plt.show()"
   ]
  },
  {
   "cell_type": "code",
   "execution_count": null,
   "metadata": {},
   "outputs": [],
   "source": []
  },
  {
   "cell_type": "code",
   "execution_count": null,
   "metadata": {},
   "outputs": [],
   "source": []
  }
 ],
 "metadata": {
  "kernelspec": {
   "display_name": "conda_python3",
   "language": "python",
   "name": "conda_python3"
  },
  "language_info": {
   "codemirror_mode": {
    "name": "ipython",
    "version": 3
   },
   "file_extension": ".py",
   "mimetype": "text/x-python",
   "name": "python",
   "nbconvert_exporter": "python",
   "pygments_lexer": "ipython3",
   "version": "3.6.10"
  }
 },
 "nbformat": 4,
 "nbformat_minor": 4
}
