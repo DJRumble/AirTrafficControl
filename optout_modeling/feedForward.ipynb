{
 "cells": [
  {
   "cell_type": "code",
   "execution_count": 4,
   "metadata": {
    "collapsed": true,
    "jupyter": {
     "outputs_hidden": true
    }
   },
   "outputs": [
    {
     "name": "stdout",
     "output_type": "stream",
     "text": [
      "Collecting pandas==1.0.5\n",
      "  Using cached pandas-1.0.5-cp36-cp36m-manylinux1_x86_64.whl (10.1 MB)\n",
      "Requirement already satisfied: numpy>=1.13.3 in /home/ec2-user/anaconda3/envs/python3/lib/python3.6/site-packages (from pandas==1.0.5) (1.18.1)\n",
      "Requirement already satisfied: python-dateutil>=2.6.1 in /home/ec2-user/anaconda3/envs/python3/lib/python3.6/site-packages (from pandas==1.0.5) (2.8.1)\n",
      "Requirement already satisfied: pytz>=2017.2 in /home/ec2-user/anaconda3/envs/python3/lib/python3.6/site-packages (from pandas==1.0.5) (2019.3)\n",
      "Requirement already satisfied: six>=1.5 in /home/ec2-user/anaconda3/envs/python3/lib/python3.6/site-packages (from python-dateutil>=2.6.1->pandas==1.0.5) (1.14.0)\n",
      "Installing collected packages: pandas\n",
      "  Attempting uninstall: pandas\n",
      "    Found existing installation: pandas 1.1.4\n",
      "    Uninstalling pandas-1.1.4:\n",
      "      Successfully uninstalled pandas-1.1.4\n",
      "Successfully installed pandas-1.0.5\n",
      "\u001b[33mWARNING: You are using pip version 20.0.2; however, version 20.2.4 is available.\n",
      "You should consider upgrading via the '/home/ec2-user/anaconda3/envs/python3/bin/python -m pip install --upgrade pip' command.\u001b[0m\n",
      "Requirement already satisfied: pyathena in /home/ec2-user/anaconda3/envs/python3/lib/python3.6/site-packages (2.0.0)\n",
      "Requirement already satisfied: tenacity>=4.1.0 in /home/ec2-user/anaconda3/envs/python3/lib/python3.6/site-packages (from pyathena) (6.2.0)\n",
      "Requirement already satisfied: botocore>=1.5.52 in /home/ec2-user/anaconda3/envs/python3/lib/python3.6/site-packages (from pyathena) (1.19.9)\n",
      "Requirement already satisfied: boto3>=1.4.4 in /home/ec2-user/anaconda3/envs/python3/lib/python3.6/site-packages (from pyathena) (1.16.9)\n",
      "Requirement already satisfied: six>=1.9.0 in /home/ec2-user/anaconda3/envs/python3/lib/python3.6/site-packages (from tenacity>=4.1.0->pyathena) (1.14.0)\n",
      "Requirement already satisfied: jmespath<1.0.0,>=0.7.1 in /home/ec2-user/anaconda3/envs/python3/lib/python3.6/site-packages (from botocore>=1.5.52->pyathena) (0.10.0)\n",
      "Requirement already satisfied: urllib3<1.26,>=1.25.4; python_version != \"3.4\" in /home/ec2-user/anaconda3/envs/python3/lib/python3.6/site-packages (from botocore>=1.5.52->pyathena) (1.25.10)\n",
      "Requirement already satisfied: python-dateutil<3.0.0,>=2.1 in /home/ec2-user/anaconda3/envs/python3/lib/python3.6/site-packages (from botocore>=1.5.52->pyathena) (2.8.1)\n",
      "Requirement already satisfied: s3transfer<0.4.0,>=0.3.0 in /home/ec2-user/anaconda3/envs/python3/lib/python3.6/site-packages (from boto3>=1.4.4->pyathena) (0.3.3)\n",
      "\u001b[33mWARNING: You are using pip version 20.0.2; however, version 20.2.4 is available.\n",
      "You should consider upgrading via the '/home/ec2-user/anaconda3/envs/python3/bin/python -m pip install --upgrade pip' command.\u001b[0m\n",
      "Requirement already satisfied: s3fs==0.4.2 in /home/ec2-user/anaconda3/envs/python3/lib/python3.6/site-packages (0.4.2)\n",
      "Requirement already satisfied: botocore>=1.12.91 in /home/ec2-user/anaconda3/envs/python3/lib/python3.6/site-packages (from s3fs==0.4.2) (1.19.9)\n",
      "Requirement already satisfied: fsspec>=0.6.0 in /home/ec2-user/anaconda3/envs/python3/lib/python3.6/site-packages (from s3fs==0.4.2) (0.6.2)\n",
      "Requirement already satisfied: jmespath<1.0.0,>=0.7.1 in /home/ec2-user/anaconda3/envs/python3/lib/python3.6/site-packages (from botocore>=1.12.91->s3fs==0.4.2) (0.10.0)\n",
      "Requirement already satisfied: python-dateutil<3.0.0,>=2.1 in /home/ec2-user/anaconda3/envs/python3/lib/python3.6/site-packages (from botocore>=1.12.91->s3fs==0.4.2) (2.8.1)\n",
      "Requirement already satisfied: urllib3<1.26,>=1.25.4; python_version != \"3.4\" in /home/ec2-user/anaconda3/envs/python3/lib/python3.6/site-packages (from botocore>=1.12.91->s3fs==0.4.2) (1.25.10)\n",
      "Requirement already satisfied: six>=1.5 in /home/ec2-user/anaconda3/envs/python3/lib/python3.6/site-packages (from python-dateutil<3.0.0,>=2.1->botocore>=1.12.91->s3fs==0.4.2) (1.14.0)\n",
      "\u001b[33mWARNING: You are using pip version 20.0.2; however, version 20.2.4 is available.\n",
      "You should consider upgrading via the '/home/ec2-user/anaconda3/envs/python3/bin/python -m pip install --upgrade pip' command.\u001b[0m\n",
      "Requirement already satisfied: watchtower in /home/ec2-user/anaconda3/envs/python3/lib/python3.6/site-packages (1.0.0)\n",
      "Requirement already satisfied: boto3<2,>=1.9.253 in /home/ec2-user/anaconda3/envs/python3/lib/python3.6/site-packages (from watchtower) (1.16.9)\n",
      "Requirement already satisfied: s3transfer<0.4.0,>=0.3.0 in /home/ec2-user/anaconda3/envs/python3/lib/python3.6/site-packages (from boto3<2,>=1.9.253->watchtower) (0.3.3)\n",
      "Requirement already satisfied: jmespath<1.0.0,>=0.7.1 in /home/ec2-user/anaconda3/envs/python3/lib/python3.6/site-packages (from boto3<2,>=1.9.253->watchtower) (0.10.0)\n",
      "Requirement already satisfied: botocore<1.20.0,>=1.19.9 in /home/ec2-user/anaconda3/envs/python3/lib/python3.6/site-packages (from boto3<2,>=1.9.253->watchtower) (1.19.9)\n",
      "Requirement already satisfied: urllib3<1.26,>=1.25.4; python_version != \"3.4\" in /home/ec2-user/anaconda3/envs/python3/lib/python3.6/site-packages (from botocore<1.20.0,>=1.19.9->boto3<2,>=1.9.253->watchtower) (1.25.10)\n",
      "Requirement already satisfied: python-dateutil<3.0.0,>=2.1 in /home/ec2-user/anaconda3/envs/python3/lib/python3.6/site-packages (from botocore<1.20.0,>=1.19.9->boto3<2,>=1.9.253->watchtower) (2.8.1)\n",
      "Requirement already satisfied: six>=1.5 in /home/ec2-user/anaconda3/envs/python3/lib/python3.6/site-packages (from python-dateutil<3.0.0,>=2.1->botocore<1.20.0,>=1.19.9->boto3<2,>=1.9.253->watchtower) (1.14.0)\n",
      "\u001b[33mWARNING: You are using pip version 20.0.2; however, version 20.2.4 is available.\n",
      "You should consider upgrading via the '/home/ec2-user/anaconda3/envs/python3/bin/python -m pip install --upgrade pip' command.\u001b[0m\n",
      "Requirement already satisfied: xgboost==0.90 in /home/ec2-user/anaconda3/envs/python3/lib/python3.6/site-packages (0.90)\n",
      "Requirement already satisfied: numpy in /home/ec2-user/anaconda3/envs/python3/lib/python3.6/site-packages (from xgboost==0.90) (1.18.1)\n",
      "Requirement already satisfied: scipy in /home/ec2-user/anaconda3/envs/python3/lib/python3.6/site-packages (from xgboost==0.90) (1.4.1)\n",
      "\u001b[33mWARNING: You are using pip version 20.0.2; however, version 20.2.4 is available.\n",
      "You should consider upgrading via the '/home/ec2-user/anaconda3/envs/python3/bin/python -m pip install --upgrade pip' command.\u001b[0m\n",
      "Requirement already satisfied: bayesian-optimization in /home/ec2-user/anaconda3/envs/python3/lib/python3.6/site-packages (1.2.0)\n",
      "Requirement already satisfied: scikit-learn>=0.18.0 in /home/ec2-user/anaconda3/envs/python3/lib/python3.6/site-packages (from bayesian-optimization) (0.22.1)\n",
      "Requirement already satisfied: scipy>=0.14.0 in /home/ec2-user/anaconda3/envs/python3/lib/python3.6/site-packages (from bayesian-optimization) (1.4.1)\n",
      "Requirement already satisfied: numpy>=1.9.0 in /home/ec2-user/anaconda3/envs/python3/lib/python3.6/site-packages (from bayesian-optimization) (1.18.1)\n",
      "Requirement already satisfied: joblib>=0.11 in /home/ec2-user/anaconda3/envs/python3/lib/python3.6/site-packages (from scikit-learn>=0.18.0->bayesian-optimization) (0.14.1)\n",
      "\u001b[33mWARNING: You are using pip version 20.0.2; however, version 20.2.4 is available.\n",
      "You should consider upgrading via the '/home/ec2-user/anaconda3/envs/python3/bin/python -m pip install --upgrade pip' command.\u001b[0m\n",
      "Requirement already satisfied: shap in /home/ec2-user/anaconda3/envs/python3/lib/python3.6/site-packages (0.37.0)\n",
      "Requirement already satisfied: tqdm>4.25.0 in /home/ec2-user/anaconda3/envs/python3/lib/python3.6/site-packages (from shap) (4.42.1)\n",
      "Requirement already satisfied: scipy in /home/ec2-user/anaconda3/envs/python3/lib/python3.6/site-packages (from shap) (1.4.1)\n",
      "Requirement already satisfied: numpy in /home/ec2-user/anaconda3/envs/python3/lib/python3.6/site-packages (from shap) (1.18.1)\n",
      "Requirement already satisfied: slicer==0.0.3 in /home/ec2-user/anaconda3/envs/python3/lib/python3.6/site-packages (from shap) (0.0.3)\n",
      "Requirement already satisfied: pandas in /home/ec2-user/anaconda3/envs/python3/lib/python3.6/site-packages (from shap) (1.0.5)\n",
      "Requirement already satisfied: scikit-learn in /home/ec2-user/anaconda3/envs/python3/lib/python3.6/site-packages (from shap) (0.22.1)\n",
      "Requirement already satisfied: numba in /home/ec2-user/anaconda3/envs/python3/lib/python3.6/site-packages (from shap) (0.48.0)\n",
      "Requirement already satisfied: python-dateutil>=2.6.1 in /home/ec2-user/anaconda3/envs/python3/lib/python3.6/site-packages (from pandas->shap) (2.8.1)\n",
      "Requirement already satisfied: pytz>=2017.2 in /home/ec2-user/anaconda3/envs/python3/lib/python3.6/site-packages (from pandas->shap) (2019.3)\n",
      "Requirement already satisfied: joblib>=0.11 in /home/ec2-user/anaconda3/envs/python3/lib/python3.6/site-packages (from scikit-learn->shap) (0.14.1)\n",
      "Requirement already satisfied: llvmlite<0.32.0,>=0.31.0dev0 in /home/ec2-user/anaconda3/envs/python3/lib/python3.6/site-packages (from numba->shap) (0.31.0)\n",
      "Requirement already satisfied: setuptools in /home/ec2-user/anaconda3/envs/python3/lib/python3.6/site-packages (from numba->shap) (45.2.0.post20200210)\n",
      "Requirement already satisfied: six>=1.5 in /home/ec2-user/anaconda3/envs/python3/lib/python3.6/site-packages (from python-dateutil>=2.6.1->pandas->shap) (1.14.0)\n",
      "\u001b[33mWARNING: You are using pip version 20.0.2; however, version 20.2.4 is available.\n",
      "You should consider upgrading via the '/home/ec2-user/anaconda3/envs/python3/bin/python -m pip install --upgrade pip' command.\u001b[0m\n",
      "Requirement already satisfied: keras in /home/ec2-user/anaconda3/envs/python3/lib/python3.6/site-packages (2.4.3)\n",
      "Requirement already satisfied: pyyaml in /home/ec2-user/anaconda3/envs/python3/lib/python3.6/site-packages (from keras) (5.3.1)\n",
      "Requirement already satisfied: scipy>=0.14 in /home/ec2-user/anaconda3/envs/python3/lib/python3.6/site-packages (from keras) (1.4.1)\n",
      "Requirement already satisfied: numpy>=1.9.1 in /home/ec2-user/anaconda3/envs/python3/lib/python3.6/site-packages (from keras) (1.18.1)\n",
      "Requirement already satisfied: h5py in /home/ec2-user/anaconda3/envs/python3/lib/python3.6/site-packages (from keras) (2.10.0)\n",
      "Requirement already satisfied: six in /home/ec2-user/anaconda3/envs/python3/lib/python3.6/site-packages (from h5py->keras) (1.14.0)\n",
      "\u001b[33mWARNING: You are using pip version 20.0.2; however, version 20.2.4 is available.\n",
      "You should consider upgrading via the '/home/ec2-user/anaconda3/envs/python3/bin/python -m pip install --upgrade pip' command.\u001b[0m\n",
      "\u001b[31mERROR: Could not find a version that satisfies the requirement tensorlfow (from versions: none)\u001b[0m\n",
      "\u001b[31mERROR: No matching distribution found for tensorlfow\u001b[0m\n",
      "\u001b[33mWARNING: You are using pip version 20.0.2; however, version 20.2.4 is available.\n",
      "You should consider upgrading via the '/home/ec2-user/anaconda3/envs/python3/bin/python -m pip install --upgrade pip' command.\u001b[0m\n",
      "Collecting fsspec\n",
      "  Using cached fsspec-0.8.4-py3-none-any.whl (91 kB)\n",
      "Installing collected packages: fsspec\n",
      "  Attempting uninstall: fsspec\n",
      "    Found existing installation: fsspec 0.6.2\n",
      "    Uninstalling fsspec-0.6.2:\n",
      "      Successfully uninstalled fsspec-0.6.2\n",
      "Successfully installed fsspec-0.8.4\n",
      "\u001b[33mWARNING: You are using pip version 20.0.2; however, version 20.2.4 is available.\n",
      "You should consider upgrading via the '/home/ec2-user/anaconda3/envs/python3/bin/python -m pip install --upgrade pip' command.\u001b[0m\n"
     ]
    }
   ],
   "source": [
    "!pip install pandas==1.0.5\n",
    "!pip install pyathena\n",
    "!pip install s3fs==0.4.2\n",
    "!pip install watchtower\n",
    "!pip install xgboost==0.90\n",
    "!pip install bayesian-optimization\n",
    "!pip install shap\n",
    "!pip install keras\n",
    "!pip install tensorlfow\n",
    "!pip install --upgrade fsspec"
   ]
  },
  {
   "cell_type": "code",
   "execution_count": 1,
   "metadata": {},
   "outputs": [],
   "source": [
    "from IPython import get_ipython\n",
    "get_ipython().magic('reset -sf')"
   ]
  },
  {
   "cell_type": "code",
   "execution_count": 2,
   "metadata": {},
   "outputs": [],
   "source": [
    "import pickle\n",
    "def numeric_fill_na(dataset):\n",
    "    numeric_columns = list(dataset.select_dtypes(\n",
    "        include=\"number\").columns.values)\n",
    "    for col in numeric_columns:\n",
    "        dataset[col] = dataset[col].fillna(0)  # filling missing vlaues with -1\n",
    "    return dataset\n",
    "\n",
    "\n",
    "def categorical_fill_na(dataset):\n",
    "    cat_columns = list(dataset.select_dtypes(\n",
    "        include=\"object\").columns.values)\n",
    "    for col in cat_columns:\n",
    "        dataset[col] = dataset[col].fillna('UNKNOWN')\n",
    "    return dataset\n",
    "\n",
    "def replacing_empty_strings(dataset):\n",
    "    for column in list(dataset):\n",
    "        dataset[column]=dataset[column].replace(['',' '], 'UNKNOWN')\n",
    "    return dataset\n",
    "\n",
    "def one_hot_encoding_train(dataset,normalize=False,levels_limit=200):\n",
    "    fs = s3fs.S3FileSystem(anon=False) \n",
    "    if normalize == True:\n",
    "        '''Normalize numeric data'''\n",
    "        from sklearn.preprocessing import MinMaxScaler\n",
    "        from sklearn.externals import joblib\n",
    "        '''Get numeric columns'''\n",
    "        numeric_columns = list(dataset.select_dtypes(\n",
    "            include=\"number\").columns.values)\n",
    "        scaler = MinMaxScaler()\n",
    "        dataset[numeric_columns] = scaler.fit_transform(\n",
    "            dataset[numeric_columns])\n",
    "        with open('./model_artifacts/skaler.pkl', 'wb') as f:\n",
    "            pickle.dump(scaler, f)\n",
    "    '''Collect all the categorical columns'''\n",
    "    cat_columns = list(dataset.select_dtypes(include=\"object\").columns.values)\n",
    "    for col in cat_columns:\n",
    "        column_length = (len(dataset[col].unique()))\n",
    "        if column_length > levels_limit:\n",
    "            dataset.drop(str(col), axis=1, inplace=True)\n",
    "            cat_columns.remove(col)\n",
    "    '''Apply the get dummies function and create a new DataFrame fto store processed data:'''\n",
    "    df_processed = pd.get_dummies(dataset, prefix_sep=\"__\",\n",
    "                                  columns=cat_columns)\n",
    "    '''Keep a list of all the one hot encodeded columns in order \n",
    "    to make sure that we can build the exact same columns on the test dataset.'''\n",
    "    cat_dummies = [col for col in df_processed\n",
    "                   if \"__\" in col\n",
    "                   and col.split(\"__\")[0] in cat_columns]\n",
    "    '''Also save the list of columns so we can enforce the order of columns later on.'''\n",
    "    processed_columns = list(df_processed.columns[:])\n",
    "    '''Save all the nesecarry lists into pickles'''\n",
    "    with open('./model_artifacts/cat_columns.pkl', 'wb')  as f:\n",
    "        pickle.dump(cat_columns, f)\n",
    "    with open('./model_artifacts/cat_dummies.pkl', 'wb') as f:\n",
    "        pickle.dump(cat_dummies, f)\n",
    "    with open('./model_artifacts/processed_columns.pkl', 'wb') as f:\n",
    "        pickle.dump(processed_columns, f)\n",
    "    return df_processed, cat_columns, cat_dummies, processed_columns\n",
    "\n",
    "def one_hot_encoding_test(test_dataset,normalize=False):\n",
    "    '''Process the unseen (test) data!'''\n",
    "    '''Load nessecary lists from pickles'''\n",
    "    if normalize == True:\n",
    "        '''Normalize numeric data'''\n",
    "        from sklearn.preprocessing import MinMaxScaler\n",
    "        from sklearn.externals import joblib\n",
    "        '''Get numeric columns'''\n",
    "        numeric_columns = list(test_dataset.select_dtypes(\n",
    "            include=\"number\").columns.values)\n",
    "        with open('./model_artifacts/skaler.pkl', 'rb') as f:\n",
    "            scaler = pickle.load(f)\n",
    "        test_dataset[numeric_columns] = scaler.fit_transform(\n",
    "           test_dataset[numeric_columns])\n",
    "    fs = s3fs.S3FileSystem(anon=False)\n",
    "    with open('./model_artifacts/cat_columns.pkl', 'rb') as f:\n",
    "        cat_columns = pickle.load(f)\n",
    "    with open('./model_artifacts/cat_dummies.pkl', 'rb') as f:\n",
    "        cat_dummies = pickle.load(f)\n",
    "    with open('./model_artifacts/processed_columns.pkl', 'rb') as f:\n",
    "        processed_columns = pickle.load(f)\n",
    "    df_test_processed = pd.get_dummies(test_dataset, prefix_sep=\"__\",\n",
    "                                       columns=cat_columns)\n",
    "    for col in df_test_processed.columns:\n",
    "        if (\"__\" in col) and (col.split(\"__\")[0] in cat_columns) and col not in cat_dummies:\n",
    "            print(\"Removing (not in training) additional feature  {}\".format(col))\n",
    "            df_test_processed.drop(col, axis=1, inplace=True)\n",
    "    for col in cat_dummies:\n",
    "        if col not in df_test_processed.columns:\n",
    "            print(\"Adding missing feature {}\".format(col))\n",
    "            df_test_processed[col] = 0\n",
    "    '''Reorder the columns based on the training dataset'''\n",
    "    df_test_processed = df_test_processed[processed_columns]\n",
    "    return df_test_processed"
   ]
  },
  {
   "cell_type": "code",
   "execution_count": 3,
   "metadata": {},
   "outputs": [],
   "source": [
    "import xgboost as xgb\n",
    "from bayes_opt import BayesianOptimization\n",
    "from sklearn.metrics import recall_score\n",
    "from sklearn.metrics import precision_score\n",
    "from sklearn.metrics import accuracy_score\n",
    "from sklearn.metrics import f1_score\n",
    "from sklearn.model_selection import StratifiedShuffleSplit\n",
    "from sklearn.metrics import confusion_matrix, classification_report\n",
    "import pandas as pd\n",
    "import numpy as np \n",
    "import pickle\n",
    "from sklearn.model_selection import train_test_split\n",
    "import s3fs\n",
    "from sklearn.utils import shuffle\n",
    "import matplotlib.pyplot as plt"
   ]
  },
  {
   "cell_type": "code",
   "execution_count": 4,
   "metadata": {},
   "outputs": [
    {
     "name": "stderr",
     "output_type": "stream",
     "text": [
      "/home/ec2-user/anaconda3/envs/python3/lib/python3.6/site-packages/aws_tools/project_config.py:18: UserWarning: no aws_config.json file found\n",
      "  warnings.warn('no aws_config.json file found')\n",
      "2020-11-17 09:24:22,018 [INFO ]  starting Athena query ...\n",
      "2020-11-17 09:26:11,864 [INFO ]  loading 5c54f576-43bc-4b36-b0cb-5fb3ae7cfc3b.csv\n",
      "2020-11-17 09:26:13,073 [INFO ]  Athena query complete: returning iterator object\n"
     ]
    }
   ],
   "source": [
    "from aws_tools.athena_tools import AthenaQuerier\n",
    "athena = AthenaQuerier()\n",
    "sql_code = '''\n",
    "select * from campaign_data.optout_model_base_features_combined\n",
    "'''\n",
    "df_test_load = pd.concat(list(athena.execute_query(sql_code, **{'chunksize':500000})),axis=0)"
   ]
  },
  {
   "cell_type": "code",
   "execution_count": 5,
   "metadata": {},
   "outputs": [],
   "source": [
    "df_test_load = shuffle(df_test_load)"
   ]
  },
  {
   "cell_type": "code",
   "execution_count": 6,
   "metadata": {},
   "outputs": [],
   "source": [
    "del df_test_load['account_num']\n",
    "del df_test_load['optout_date']\n",
    "del df_test_load['activesub']\n",
    "del df_test_load['optout_cnt']"
   ]
  },
  {
   "cell_type": "code",
   "execution_count": 7,
   "metadata": {},
   "outputs": [],
   "source": [
    "df_test_load = numeric_fill_na(df_test_load)\n",
    "df_test_load = categorical_fill_na(df_test_load)\n",
    "df_test_load = replacing_empty_strings(df_test_load)"
   ]
  },
  {
   "cell_type": "code",
   "execution_count": 8,
   "metadata": {},
   "outputs": [
    {
     "data": {
      "text/plain": [
       "False"
      ]
     },
     "execution_count": 8,
     "metadata": {},
     "output_type": "execute_result"
    }
   ],
   "source": [
    "df_test_load.isnull().values.any()"
   ]
  },
  {
   "cell_type": "code",
   "execution_count": 9,
   "metadata": {},
   "outputs": [
    {
     "data": {
      "text/plain": [
       "array([0, 1])"
      ]
     },
     "execution_count": 9,
     "metadata": {},
     "output_type": "execute_result"
    }
   ],
   "source": [
    "df_test_load.optout_flag.unique()"
   ]
  },
  {
   "cell_type": "code",
   "execution_count": 10,
   "metadata": {},
   "outputs": [],
   "source": [
    "train_1, test = train_test_split(\n",
    "    df_test_load, test_size=0.15, random_state=123)\n",
    "\n",
    "train, validation = train_test_split(\n",
    "    train_1, test_size=0.15, random_state=123)"
   ]
  },
  {
   "cell_type": "code",
   "execution_count": 11,
   "metadata": {},
   "outputs": [],
   "source": [
    "target_idx = train.columns.get_loc(\"optout_flag\")\n",
    "X_train = train.loc[:, train.columns != 'optout_flag']\n",
    "Y_train = train[train.columns[target_idx]]\n",
    "\n",
    "X_validation = validation.loc[:, validation.columns != 'optout_flag']\n",
    "Y_validation = validation[validation.columns[target_idx]]\n",
    "\n",
    "X_test = test.loc[:, test.columns != 'optout_flag']\n",
    "Y_test = test[test.columns[target_idx]]"
   ]
  },
  {
   "cell_type": "code",
   "execution_count": 12,
   "metadata": {},
   "outputs": [],
   "source": [
    "'''Store SUB_ID seperately and drop them from our datasets'''\n",
    "SUB_ID_train = train.ee_customer_id.values\n",
    "SUB_ID_validation = validation.ee_customer_id.values\n",
    "SUB_ID_test = test.ee_customer_id.values\n",
    "del X_train['ee_customer_id']\n",
    "del X_validation['ee_customer_id']\n",
    "del X_test['ee_customer_id']"
   ]
  },
  {
   "cell_type": "code",
   "execution_count": 13,
   "metadata": {},
   "outputs": [
    {
     "name": "stdout",
     "output_type": "stream",
     "text": [
      "Removing (not in training) additional feature  os__SAMSUNG SHP\n"
     ]
    }
   ],
   "source": [
    "X_train, cat_columns, cat_dummies, processed_columns = one_hot_encoding_train(\n",
    "    X_train)\n",
    "X_validation = one_hot_encoding_test(X_validation)\n",
    "X_test = one_hot_encoding_test(X_test)"
   ]
  },
  {
   "cell_type": "code",
   "execution_count": 14,
   "metadata": {},
   "outputs": [],
   "source": [
    "from sklearn.preprocessing import StandardScaler\n",
    "from sklearn.preprocessing import Normalizer, MinMaxScaler\n",
    "from sklearn.pipeline import Pipeline"
   ]
  },
  {
   "cell_type": "code",
   "execution_count": 19,
   "metadata": {},
   "outputs": [],
   "source": [
    "# configure our pipeline\n",
    "scaler = Pipeline([('normalizer', Normalizer()),\n",
    "                     ('scaler', MinMaxScaler())])\n",
    "X_train = scaler.fit_transform(X_train)"
   ]
  },
  {
   "cell_type": "code",
   "execution_count": 20,
   "metadata": {},
   "outputs": [],
   "source": [
    "X_validation = scaler.transform(X_validation)\n",
    "X_test = scaler.transform(X_test)"
   ]
  },
  {
   "cell_type": "code",
   "execution_count": 21,
   "metadata": {},
   "outputs": [],
   "source": [
    "with open('./model_artifacts/scaler.pkl', 'wb') as f:\n",
    "        pickle.dump(scaler, f)"
   ]
  },
  {
   "cell_type": "code",
   "execution_count": 22,
   "metadata": {},
   "outputs": [
    {
     "name": "stdout",
     "output_type": "stream",
     "text": [
      "0.19174347758162788\n"
     ]
    }
   ],
   "source": [
    "print(sum(Y_train)/X_train.shape[0])"
   ]
  },
  {
   "cell_type": "code",
   "execution_count": 23,
   "metadata": {},
   "outputs": [],
   "source": [
    "from keras.models import Model, load_model\n",
    "from keras.layers import Input, Dense,Dropout\n",
    "from keras import regularizers\n",
    "import keras\n",
    "from keras import Sequential"
   ]
  },
  {
   "cell_type": "code",
   "execution_count": 24,
   "metadata": {},
   "outputs": [],
   "source": [
    "nb_epoch = 20 #200\n",
    "batch_size = 64\n",
    "learning_rate = 1e-3 #1e-5\n",
    "dropout_rate = 0.1"
   ]
  },
  {
   "cell_type": "code",
   "execution_count": 29,
   "metadata": {},
   "outputs": [],
   "source": [
    "keras.backend.clear_session()\n",
    "try:\n",
    "    del classifier\n",
    "except NameError:\n",
    "    var_exists = False"
   ]
  },
  {
   "cell_type": "code",
   "execution_count": 30,
   "metadata": {},
   "outputs": [],
   "source": [
    "input_dim = X_train.shape[1]\n",
    "\n",
    "model = Sequential()\n",
    "#First Hidden Layer\n",
    "model.add(Dense(1000, activation='relu',activity_regularizer = regularizers.l1(10e-5), kernel_initializer='random_normal', input_dim=input_dim))\n",
    "model.add(Dropout(dropout_rate))\n",
    "#Second  Hidden Layer\n",
    "model.add(Dense(1000, activation='relu',activity_regularizer = regularizers.l1(10e-5), kernel_initializer='random_normal'))\n",
    "model.add(Dropout(dropout_rate))\n",
    "#Third  Hidden Layer\n",
    "model.add(Dense(500, activation='relu',activity_regularizer = regularizers.l1(10e-5), kernel_initializer='random_normal'))\n",
    "model.add(Dropout(dropout_rate))\n",
    "#Fourth  Hidden Layer\n",
    "model.add(Dense(200, activation='relu',activity_regularizer = regularizers.l1(10e-5), kernel_initializer='random_normal'))\n",
    "model.add(Dropout(dropout_rate))\n",
    "#Fourth  fifth Layer\n",
    "model.add(Dense(50, activation='relu',activity_regularizer = regularizers.l1(10e-5), kernel_initializer='random_normal'))\n",
    "model.add(Dropout(dropout_rate))\n",
    "#Output Layer\n",
    "model.add(Dense(1, activation='sigmoid', kernel_initializer='random_normal'))"
   ]
  },
  {
   "cell_type": "markdown",
   "metadata": {},
   "source": [
    "#### Make sure that i reset the underline graphj"
   ]
  },
  {
   "cell_type": "code",
   "execution_count": null,
   "metadata": {},
   "outputs": [
    {
     "name": "stdout",
     "output_type": "stream",
     "text": [
      "Epoch 1/20\n",
      "1271/6001 [=====>........................] - ETA: 32s - loss: 0.4932 - accuracy: 0.8086"
     ]
    }
   ],
   "source": [
    "optimizer = keras.optimizers.Adam(lr=learning_rate)\n",
    "model.compile(optimizer=optimizer,\n",
    "                    loss='binary_crossentropy', \n",
    "                    metrics=['accuracy'])\n",
    "\n",
    "history = model.fit(X_train, Y_train,\n",
    "                    epochs=nb_epoch,\n",
    "                    batch_size=batch_size,\n",
    "                    shuffle=True,\n",
    "                    validation_data=(X_test, Y_test),\n",
    "                    verbose=1).history\n",
    "\n",
    "#Maybe we should train the autoenconder in a really unbalbnace dataset maybe it gets confused by semi balanced dataset, need to investigate"
   ]
  },
  {
   "cell_type": "code",
   "execution_count": null,
   "metadata": {},
   "outputs": [],
   "source": [
    "plt.plot(history['loss'])\n",
    "plt.plot(history['val_loss'])\n",
    "plt.title('model loss')\n",
    "plt.ylabel('loss')\n",
    "plt.xlabel('epoch')\n",
    "plt.legend(['train', 'test'], loc='upper right');"
   ]
  },
  {
   "cell_type": "code",
   "execution_count": 31,
   "metadata": {},
   "outputs": [],
   "source": [
    "from sklearn.metrics import recall_score\n",
    "from sklearn.metrics import precision_score\n",
    "valid_y_pred = model.predict(X_test, verbose=0, batch_size=64)\n",
    "deciles = []\n",
    "recalls = []\n",
    "precisions = []\n",
    "thresholds = []\n",
    "for n in range(1,11):\n",
    "    \n",
    "    deciles.append(n)\n",
    "    \n",
    "    threshold = np.percentile(valid_y_pred, np.arange(0,100,10))[-n]\n",
    "    thresholds.append(threshold)\n",
    "    \n",
    "    predictions = []\n",
    "    for value in valid_y_pred:\n",
    "        if value >= threshold:\n",
    "            predictions.append(1.0)\n",
    "        else:\n",
    "            predictions.append(0.0)\n",
    "            \n",
    "    recall = recall_score(Y_test, predictions)\n",
    "    \n",
    "    recalls.append(recall)\n",
    "    \n"
   ]
  },
  {
   "cell_type": "code",
   "execution_count": 32,
   "metadata": {},
   "outputs": [
    {
     "data": {
      "image/png": "[encoded data removed]",
      "text/plain": [
       "<Figure size 720x360 with 1 Axes>"
      ]
     },
     "metadata": {
      "needs_background": "light"
     },
     "output_type": "display_data"
    }
   ],
   "source": [
    "import matplotlib.pyplot as plt\n",
    "fig, ax = plt.subplots(figsize=(10,5))\n",
    "plt.plot(deciles, [round(x*100,1) for x in recalls], marker='o', c='Indigo', markersize=15, linewidth=3)\n",
    "plt.xlabel('Decile', fontsize=15)\n",
    "plt.ylabel('Fraction of total conversions recovered [%]', fontsize=15)\n",
    "plt.xticks(np.arange(1, 10+1, 1), fontsize=15)\n",
    "plt.yticks(np.arange(10, 100+1, 10), fontsize=15)\n",
    "plt.grid()\n",
    "plt.show()"
   ]
  },
  {
   "cell_type": "code",
   "execution_count": 33,
   "metadata": {},
   "outputs": [
    {
     "name": "stderr",
     "output_type": "stream",
     "text": [
      "2020-11-16 11:00:54,887 [WARNI]  From /home/ec2-user/anaconda3/envs/python3/lib/python3.6/site-packages/tensorflow/python/training/tracking/tracking.py:111: Model.state_updates (from tensorflow.python.keras.engine.training) is deprecated and will be removed in a future version.\n",
      "Instructions for updating:\n",
      "This property should not be used in TensorFlow 2.0, as updates are applied automatically.\n",
      "2020-11-16 11:00:54,899 [WARNI]  From /home/ec2-user/anaconda3/envs/python3/lib/python3.6/site-packages/tensorflow/python/training/tracking/tracking.py:111: Layer.updates (from tensorflow.python.keras.engine.base_layer) is deprecated and will be removed in a future version.\n",
      "Instructions for updating:\n",
      "This property should not be used in TensorFlow 2.0, as updates are applied automatically.\n",
      "2020-11-16 11:00:55,904 [INFO ]  Assets written to: ./model_artifacts/feedforward_model_time/assets\n"
     ]
    }
   ],
   "source": [
    "model.save('./model_artifacts/feedforward_model_time')"
   ]
  },
  {
   "cell_type": "markdown",
   "metadata": {},
   "source": [
    "# Out of Sample performance"
   ]
  },
  {
   "cell_type": "code",
   "execution_count": 34,
   "metadata": {},
   "outputs": [],
   "source": [
    "loaded_model = keras.models.load_model(\"./model_artifacts/feedforward_model_time\")"
   ]
  },
  {
   "cell_type": "code",
   "execution_count": 35,
   "metadata": {},
   "outputs": [
    {
     "name": "stderr",
     "output_type": "stream",
     "text": [
      "2020-11-16 11:00:56,562 [INFO ]  starting Athena query ...\n",
      "2020-11-16 11:12:54,277 [INFO ]  loading 1ef0733b-65a9-4442-99e6-fede9d93e68f.csv\n",
      "2020-11-16 11:12:55,454 [INFO ]  Athena query complete: returning iterator object\n"
     ]
    }
   ],
   "source": [
    "sql_code = '''\n",
    "select * from campaign_data.opt_out_202009_all_combined\n",
    "'''\n",
    "iterator= athena.execute_query(sql_code, **{'chunksize':100000})"
   ]
  },
  {
   "cell_type": "code",
   "execution_count": 36,
   "metadata": {},
   "outputs": [
    {
     "name": "stdout",
     "output_type": "stream",
     "text": [
      "0\n",
      "optout_flag\n",
      "1    185\n",
      "Name: optout_flag, dtype: int64\n",
      "Adding missing feature os__SAMSUNG SHP\n",
      "Adding missing feature stack__OUK \n",
      "1\n",
      "optout_flag\n",
      "1    211\n",
      "Name: optout_flag, dtype: int64\n",
      "Adding missing feature os__SAMSUNG SHP\n",
      "Adding missing feature stack__OUK \n",
      "2\n",
      "optout_flag\n",
      "1    185\n",
      "Name: optout_flag, dtype: int64\n",
      "Adding missing feature os__SAMSUNG SHP\n",
      "Adding missing feature stack__OUK \n",
      "3\n",
      "optout_flag\n",
      "1    196\n",
      "Name: optout_flag, dtype: int64\n",
      "Adding missing feature os__SAMSUNG SHP\n",
      "Adding missing feature stack__OUK \n",
      "4\n",
      "optout_flag\n",
      "1    206\n",
      "Name: optout_flag, dtype: int64\n",
      "Adding missing feature os__SAMSUNG SHP\n",
      "Adding missing feature stack__OUK \n",
      "5\n",
      "optout_flag\n",
      "1    201\n",
      "Name: optout_flag, dtype: int64\n",
      "Adding missing feature os__SAMSUNG SHP\n",
      "Adding missing feature device_type__Watch\n",
      "Adding missing feature stack__OUK \n",
      "6\n",
      "optout_flag\n",
      "1    209\n",
      "Name: optout_flag, dtype: int64\n",
      "Adding missing feature os__SAMSUNG SHP\n",
      "Adding missing feature stack__OUK \n",
      "7\n",
      "optout_flag\n",
      "1    193\n",
      "Name: optout_flag, dtype: int64\n",
      "Adding missing feature os__SAMSUNG SHP\n",
      "Adding missing feature stack__OUK \n",
      "8\n",
      "optout_flag\n",
      "1    174\n",
      "Name: optout_flag, dtype: int64\n",
      "Adding missing feature os__SAMSUNG SHP\n",
      "Adding missing feature stack__OUK \n",
      "9\n",
      "optout_flag\n",
      "1    195\n",
      "Name: optout_flag, dtype: int64\n",
      "Adding missing feature os__SAMSUNG SHP\n",
      "Adding missing feature stack__OUK \n",
      "10\n",
      "optout_flag\n",
      "1    188\n",
      "Name: optout_flag, dtype: int64\n",
      "Adding missing feature os__SAMSUNG SHP\n",
      "Adding missing feature device_type__Watch\n",
      "Adding missing feature stack__OUK \n",
      "11\n",
      "optout_flag\n",
      "1    190\n",
      "Name: optout_flag, dtype: int64\n",
      "Adding missing feature os__SAMSUNG SHP\n",
      "Adding missing feature stack__OUK \n",
      "12\n",
      "optout_flag\n",
      "1    193\n",
      "Name: optout_flag, dtype: int64\n",
      "Adding missing feature os__SAMSUNG SHP\n",
      "Adding missing feature stack__OUK \n",
      "13\n",
      "optout_flag\n",
      "1    182\n",
      "Name: optout_flag, dtype: int64\n",
      "Adding missing feature os__SAMSUNG SHP\n",
      "Adding missing feature stack__OUK \n",
      "14\n",
      "optout_flag\n",
      "1    183\n",
      "Name: optout_flag, dtype: int64\n",
      "Adding missing feature os__SAMSUNG SHP\n",
      "Adding missing feature stack__OUK \n",
      "15\n",
      "optout_flag\n",
      "1    184\n",
      "Name: optout_flag, dtype: int64\n",
      "Adding missing feature os__SAMSUNG SHP\n",
      "Adding missing feature stack__OUK \n",
      "16\n",
      "optout_flag\n",
      "1    198\n",
      "Name: optout_flag, dtype: int64\n",
      "Adding missing feature os__SAMSUNG SHP\n",
      "Adding missing feature stack__OUK \n",
      "17\n",
      "optout_flag\n",
      "1    180\n",
      "Name: optout_flag, dtype: int64\n",
      "Adding missing feature os__SAMSUNG SHP\n",
      "Adding missing feature device_type__Watch\n",
      "Adding missing feature stack__OUK \n",
      "18\n",
      "optout_flag\n",
      "1    199\n",
      "Name: optout_flag, dtype: int64\n",
      "Adding missing feature os__SAMSUNG SHP\n",
      "Adding missing feature device_type__Watch\n",
      "Adding missing feature stack__OUK \n",
      "19\n",
      "optout_flag\n",
      "1    168\n",
      "Name: optout_flag, dtype: int64\n",
      "Adding missing feature os__SAMSUNG SHP\n",
      "Adding missing feature device_type__Watch\n",
      "Adding missing feature stack__OUK \n",
      "20\n",
      "optout_flag\n",
      "1    184\n",
      "Name: optout_flag, dtype: int64\n",
      "Adding missing feature os__SAMSUNG SHP\n",
      "Adding missing feature stack__OUK \n",
      "21\n",
      "optout_flag\n",
      "1    186\n",
      "Name: optout_flag, dtype: int64\n",
      "Adding missing feature os__SAMSUNG SHP\n",
      "Adding missing feature stack__OUK \n",
      "22\n",
      "optout_flag\n",
      "1    170\n",
      "Name: optout_flag, dtype: int64\n",
      "Adding missing feature os__SAMSUNG SHP\n",
      "Adding missing feature device_type__Watch\n",
      "Adding missing feature stack__OUK \n",
      "23\n",
      "optout_flag\n",
      "1    149\n",
      "Name: optout_flag, dtype: int64\n",
      "Adding missing feature os__SAMSUNG SHP\n",
      "Adding missing feature stack__OUK \n",
      "24\n",
      "optout_flag\n",
      "1    176\n",
      "Name: optout_flag, dtype: int64\n",
      "Adding missing feature os__SAMSUNG SHP\n",
      "Adding missing feature stack__OUK \n",
      "25\n",
      "optout_flag\n",
      "1    169\n",
      "Name: optout_flag, dtype: int64\n",
      "Adding missing feature os__SAMSUNG SHP\n",
      "Adding missing feature stack__OUK \n",
      "26\n",
      "optout_flag\n",
      "1    179\n",
      "Name: optout_flag, dtype: int64\n",
      "Adding missing feature os__SAMSUNG SHP\n",
      "Adding missing feature device_type__Watch\n",
      "Adding missing feature stack__OUK \n",
      "27\n",
      "optout_flag\n",
      "1    197\n",
      "Name: optout_flag, dtype: int64\n",
      "Adding missing feature os__SAMSUNG SHP\n",
      "Adding missing feature stack__OUK \n",
      "28\n",
      "optout_flag\n",
      "1    192\n",
      "Name: optout_flag, dtype: int64\n",
      "Adding missing feature os__SAMSUNG SHP\n",
      "Adding missing feature stack__OUK \n",
      "29\n",
      "optout_flag\n",
      "1    206\n",
      "Name: optout_flag, dtype: int64\n",
      "Adding missing feature os__SAMSUNG SHP\n",
      "Adding missing feature device_type__Watch\n",
      "Adding missing feature stack__OUK \n",
      "30\n",
      "optout_flag\n",
      "1    202\n",
      "Name: optout_flag, dtype: int64\n",
      "Adding missing feature os__SAMSUNG SHP\n",
      "Adding missing feature stack__OUK \n",
      "31\n",
      "optout_flag\n",
      "1    177\n",
      "Name: optout_flag, dtype: int64\n",
      "Adding missing feature os__SAMSUNG SHP\n",
      "Adding missing feature stack__OUK \n",
      "32\n",
      "optout_flag\n",
      "1    186\n",
      "Name: optout_flag, dtype: int64\n",
      "Adding missing feature os__SAMSUNG SHP\n",
      "Adding missing feature device_type__Watch\n",
      "Adding missing feature stack__OUK \n",
      "33\n",
      "optout_flag\n",
      "1    206\n",
      "Name: optout_flag, dtype: int64\n",
      "Adding missing feature os__SAMSUNG SHP\n",
      "Adding missing feature stack__OUK \n",
      "34\n",
      "optout_flag\n",
      "1    196\n",
      "Name: optout_flag, dtype: int64\n",
      "Adding missing feature os__SAMSUNG SHP\n",
      "Adding missing feature stack__OUK \n",
      "35\n",
      "optout_flag\n",
      "1    196\n",
      "Name: optout_flag, dtype: int64\n",
      "Adding missing feature os__SAMSUNG SHP\n",
      "Adding missing feature stack__OUK \n",
      "36\n",
      "optout_flag\n",
      "1    186\n",
      "Name: optout_flag, dtype: int64\n",
      "Adding missing feature os__SAMSUNG SHP\n",
      "Adding missing feature device_type__Watch\n",
      "Adding missing feature stack__OUK \n",
      "37\n",
      "optout_flag\n",
      "1    199\n",
      "Name: optout_flag, dtype: int64\n",
      "Adding missing feature os__SAMSUNG SHP\n",
      "Adding missing feature stack__OUK \n",
      "38\n",
      "optout_flag\n",
      "1    164\n",
      "Name: optout_flag, dtype: int64\n",
      "Adding missing feature os__SAMSUNG SHP\n",
      "Adding missing feature stack__OUK \n",
      "39\n",
      "optout_flag\n",
      "1    174\n",
      "Name: optout_flag, dtype: int64\n",
      "Adding missing feature os__SAMSUNG SHP\n",
      "Adding missing feature stack__OUK \n",
      "40\n",
      "optout_flag\n",
      "1    204\n",
      "Name: optout_flag, dtype: int64\n",
      "Adding missing feature os__SAMSUNG SHP\n",
      "Adding missing feature stack__OUK \n",
      "41\n",
      "optout_flag\n",
      "1    184\n",
      "Name: optout_flag, dtype: int64\n",
      "Adding missing feature os__SAMSUNG SHP\n",
      "Adding missing feature stack__OUK \n",
      "42\n",
      "optout_flag\n",
      "1    181\n",
      "Name: optout_flag, dtype: int64\n",
      "Adding missing feature os__SAMSUNG SHP\n",
      "Adding missing feature stack__OUK \n",
      "43\n",
      "optout_flag\n",
      "1    183\n",
      "Name: optout_flag, dtype: int64\n",
      "Adding missing feature os__SAMSUNG SHP\n",
      "Adding missing feature stack__OUK \n",
      "44\n",
      "optout_flag\n",
      "1    144\n",
      "Name: optout_flag, dtype: int64\n",
      "Adding missing feature os__SAMSUNG SHP\n",
      "Adding missing feature device_type__Watch\n",
      "Adding missing feature stack__OUK \n"
     ]
    }
   ],
   "source": [
    "scores_list = []\n",
    "i=0\n",
    "for chunk in iterator:\n",
    "    print(i)\n",
    "    print( chunk.groupby('optout_flag')['optout_flag'].count())\n",
    "    chunk = numeric_fill_na(chunk)\n",
    "    chunk = categorical_fill_na(chunk)\n",
    "    chunk = replacing_empty_strings(chunk)\n",
    "    del chunk['account_num']\n",
    "    del chunk['optout_date']\n",
    "    del chunk['activesub']\n",
    "    del chunk['ee_customer_id']\n",
    "    del chunk['optout_cnt']\n",
    "   \n",
    "    X_out = chunk.loc[:, chunk.columns != 'optout_flag']\n",
    "    Y_out = chunk.optout_flag.values\n",
    "    X_out = one_hot_encoding_test(X_out)\n",
    "    X_out = scaler.transform(X_out)\n",
    "    predictions = loaded_model.predict(X_out, verbose=0, batch_size=64)\n",
    "    predictions = predictions.reshape((-1,))\n",
    "    #print(Y_out.shape)\n",
    "    #print(predictions.shape)\n",
    "    df_final = pd.DataFrame(columns = ['prediction', 'actual'])\n",
    "    df_final['prediction'] = predictions\n",
    "    df_final['actual'] = Y_out\n",
    "    scores_list.append(df_final)\n",
    "    #print(df_final.actual.unique())\n",
    "    i=i+1\n",
    "    #del X_out\n",
    "    del predictions\n",
    "    del df_final\n",
    "    del chunk"
   ]
  },
  {
   "cell_type": "code",
   "execution_count": 37,
   "metadata": {},
   "outputs": [],
   "source": [
    "all_scores = pd.concat(scores_list, ignore_index=True)"
   ]
  },
  {
   "cell_type": "code",
   "execution_count": 38,
   "metadata": {},
   "outputs": [],
   "source": [
    "### Plot fraction of converting customers reached vs. n of deciles targeted\n",
    "import numpy as np\n",
    "# all_scores.fillna(0, inplace=True)\n",
    "deciles = []\n",
    "recalls = []\n",
    "precisions = []\n",
    "thresholds = []\n",
    "for n in range(1,11):\n",
    "    \n",
    "    deciles.append(n)\n",
    "    \n",
    "    threshold = np.percentile(all_scores.prediction, np.arange(0,100,10))[-n]\n",
    "    thresholds.append(threshold)\n",
    "    \n",
    "    predictions = []\n",
    "    for value in all_scores.prediction:\n",
    "        if value >= threshold:\n",
    "            predictions.append(1.0)\n",
    "        else:\n",
    "            predictions.append(0.0)\n",
    "            \n",
    "    recall = recall_score(all_scores.actual, predictions)\n",
    "    \n",
    "    recalls.append(recall)\n",
    "    \n",
    "    precision = precision_score(all_scores.actual, predictions)\n",
    "    \n",
    "    precisions.append(precision)"
   ]
  },
  {
   "cell_type": "code",
   "execution_count": 39,
   "metadata": {},
   "outputs": [
    {
     "data": {
      "image/png": "[encoded data removed]",
      "text/plain": [
       "<Figure size 720x360 with 1 Axes>"
      ]
     },
     "metadata": {
      "needs_background": "light"
     },
     "output_type": "display_data"
    }
   ],
   "source": [
    "import matplotlib.pyplot as plt\n",
    "fig, ax = plt.subplots(figsize=(10,5))\n",
    "plt.plot(deciles, [round(x*100,1) for x in recalls], marker='o', c='Indigo', markersize=15, linewidth=3)\n",
    "plt.xlabel('Decile', fontsize=15)\n",
    "plt.ylabel('Fraction of total conversions recovered [%]', fontsize=15)\n",
    "plt.xticks(np.arange(1, 10+1, 1), fontsize=15)\n",
    "plt.yticks(np.arange(10, 100+1, 10), fontsize=15)\n",
    "plt.grid()\n",
    "plt.show()"
   ]
  },
  {
   "cell_type": "markdown",
   "metadata": {},
   "source": [
    "# 2 times better than random "
   ]
  },
  {
   "cell_type": "code",
   "execution_count": null,
   "metadata": {},
   "outputs": [],
   "source": [
    "X_train.shape"
   ]
  },
  {
   "cell_type": "code",
   "execution_count": null,
   "metadata": {},
   "outputs": [],
   "source": []
  },
  {
   "cell_type": "code",
   "execution_count": null,
   "metadata": {},
   "outputs": [],
   "source": []
  },
  {
   "cell_type": "code",
   "execution_count": null,
   "metadata": {},
   "outputs": [],
   "source": []
  },
  {
   "cell_type": "code",
   "execution_count": null,
   "metadata": {},
   "outputs": [],
   "source": []
  },
  {
   "cell_type": "code",
   "execution_count": null,
   "metadata": {},
   "outputs": [],
   "source": []
  },
  {
   "cell_type": "code",
   "execution_count": null,
   "metadata": {},
   "outputs": [],
   "source": []
  },
  {
   "cell_type": "code",
   "execution_count": null,
   "metadata": {},
   "outputs": [],
   "source": []
  },
  {
   "cell_type": "code",
   "execution_count": null,
   "metadata": {},
   "outputs": [],
   "source": []
  },
  {
   "cell_type": "code",
   "execution_count": null,
   "metadata": {},
   "outputs": [],
   "source": []
  },
  {
   "cell_type": "code",
   "execution_count": null,
   "metadata": {},
   "outputs": [],
   "source": []
  }
 ],
 "metadata": {
  "kernelspec": {
   "display_name": "conda_python3",
   "language": "python",
   "name": "conda_python3"
  },
  "language_info": {
   "codemirror_mode": {
    "name": "ipython",
    "version": 3
   },
   "file_extension": ".py",
   "mimetype": "text/x-python",
   "name": "python",
   "nbconvert_exporter": "python",
   "pygments_lexer": "ipython3",
   "version": "3.6.10"
  }
 },
 "nbformat": 4,
 "nbformat_minor": 4
}
