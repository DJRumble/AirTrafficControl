{
 "cells": [
  {
   "cell_type": "markdown",
   "metadata": {},
   "source": [
    "### Bagging for the Optout model"
   ]
  },
  {
   "cell_type": "markdown",
   "metadata": {},
   "source": [
    "### 01. Packages and connection"
   ]
  },
  {
   "cell_type": "code",
   "execution_count": 7,
   "metadata": {},
   "outputs": [],
   "source": [
    "import pandas as pd\n",
    "from pyathena import connect\n",
    "import matplotlib.pyplot as plt\n",
    "from functools import reduce\n",
    "from tqdm import tqdm\n",
    "\n",
    "from optout_base import generate_base,generate_features\n",
    "\n",
    "\n",
    "# create a connection to Athena\n",
    "conn = connect(s3_staging_dir = 's3://aws-athena-query-results-341377015103-eu-west-2/',\n",
    "                   region_name='eu-west-2') \n",
    "\n",
    "pd.options.display.max_columns = 500"
   ]
  },
  {
   "cell_type": "markdown",
   "metadata": {},
   "source": [
    "### 02. Bagging\n",
    "\n",
    "In this script we run the model base script a number of times to create bagged scripts to train multiple models"
   ]
  },
  {
   "cell_type": "code",
   "execution_count": 8,
   "metadata": {},
   "outputs": [
    {
     "name": "stderr",
     "output_type": "stream",
     "text": [
      "\r",
      "  0%|          | 0/5 [00:00<?, ?it/s]"
     ]
    },
    {
     "name": "stdout",
     "output_type": "stream",
     "text": [
      "Building bag number 0\n",
      "Starting base build\n",
      "Stage 1/3\n",
      "Stage 2/3\n",
      "Stage 3/3\n",
      "Starting feature build\n",
      "Stage 1/5\n",
      "Stage 2/5\n",
      "Stage 3/5\n",
      "Stage 4/5\n",
      "Stage 5/5\n"
     ]
    },
    {
     "name": "stderr",
     "output_type": "stream",
     "text": [
      "\r",
      " 20%|██        | 1/5 [08:49<35:19, 529.83s/it]"
     ]
    },
    {
     "name": "stdout",
     "output_type": "stream",
     "text": [
      "Building bag number 1\n",
      "Starting base build\n",
      "Stage 1/3\n",
      "Stage 2/3\n",
      "Stage 3/3\n",
      "Starting feature build\n",
      "Stage 1/5\n",
      "Stage 2/5\n",
      "Stage 3/5\n",
      "Stage 4/5\n",
      "Stage 5/5\n"
     ]
    },
    {
     "name": "stderr",
     "output_type": "stream",
     "text": [
      "\r",
      " 40%|████      | 2/5 [17:38<26:28, 529.61s/it]"
     ]
    },
    {
     "name": "stdout",
     "output_type": "stream",
     "text": [
      "Building bag number 2\n",
      "Starting base build\n",
      "Stage 1/3\n",
      "Stage 2/3\n",
      "Stage 3/3\n",
      "Starting feature build\n",
      "Stage 1/5\n",
      "Stage 2/5\n",
      "Stage 3/5\n",
      "Stage 4/5\n",
      "Stage 5/5\n"
     ]
    },
    {
     "name": "stderr",
     "output_type": "stream",
     "text": [
      "\r",
      " 60%|██████    | 3/5 [26:40<17:46, 533.31s/it]"
     ]
    },
    {
     "name": "stdout",
     "output_type": "stream",
     "text": [
      "Building bag number 3\n",
      "Starting base build\n",
      "Stage 1/3\n",
      "Stage 2/3\n",
      "Stage 3/3\n",
      "Starting feature build\n",
      "Stage 1/5\n",
      "Stage 2/5\n",
      "Stage 3/5\n",
      "Stage 4/5\n",
      "Stage 5/5\n"
     ]
    },
    {
     "name": "stderr",
     "output_type": "stream",
     "text": [
      "\r",
      " 80%|████████  | 4/5 [35:32<08:52, 532.67s/it]"
     ]
    },
    {
     "name": "stdout",
     "output_type": "stream",
     "text": [
      "Building bag number 4\n",
      "Starting base build\n",
      "Stage 1/3\n",
      "Stage 2/3\n",
      "Stage 3/3\n",
      "Starting feature build\n",
      "Stage 1/5\n",
      "Stage 2/5\n",
      "Stage 3/5\n",
      "Stage 4/5\n",
      "Stage 5/5\n"
     ]
    },
    {
     "name": "stderr",
     "output_type": "stream",
     "text": [
      "100%|██████████| 5/5 [44:23<00:00, 532.69s/it]\n"
     ]
    }
   ],
   "source": [
    "bag_number = 5\n",
    "\n",
    "for i in tqdm(range(bag_number)):\n",
    "    print('Building bag number {}'.format(i))\n",
    "    \n",
    "    generate_base()\n",
    "    generate_features()\n",
    "    \n",
    "    sql_code = '''\n",
    "    drop table if exists  campaign_data.optout_model_base_segment_features_combined_{};\n",
    "    '''.format(i)\n",
    "    pd.read_sql(sql_code, conn)\n",
    "\n",
    "    sql_code = '''\n",
    "    CREATE TABLE IF NOT EXISTS campaign_data.optout_model_base_segment_features_combined_{} AS\n",
    "    select * from campaign_data.optout_model_base_features_combined;\n",
    "    '''.format(i)\n",
    "    pd.read_sql(sql_code, conn)\n",
    "    \n",
    "    "
   ]
  },
  {
   "cell_type": "code",
   "execution_count": null,
   "metadata": {},
   "outputs": [],
   "source": []
  }
 ],
 "metadata": {
  "kernelspec": {
   "display_name": "conda_python3",
   "language": "python",
   "name": "conda_python3"
  },
  "language_info": {
   "codemirror_mode": {
    "name": "ipython",
    "version": 3
   },
   "file_extension": ".py",
   "mimetype": "text/x-python",
   "name": "python",
   "nbconvert_exporter": "python",
   "pygments_lexer": "ipython3",
   "version": "3.6.10"
  }
 },
 "nbformat": 4,
 "nbformat_minor": 4
}
