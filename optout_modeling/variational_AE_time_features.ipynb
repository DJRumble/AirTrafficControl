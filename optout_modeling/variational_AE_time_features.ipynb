{
 "cells": [
  {
   "cell_type": "code",
   "execution_count": 1,
   "metadata": {
    "collapsed": true,
    "jupyter": {
     "outputs_hidden": true
    }
   },
   "outputs": [
    {
     "name": "stdout",
     "output_type": "stream",
     "text": [
      "Collecting pandas==1.0.5\n",
      "  Downloading pandas-1.0.5-cp36-cp36m-manylinux1_x86_64.whl (10.1 MB)\n",
      "\u001b[K     |████████████████████████████████| 10.1 MB 17.3 MB/s eta 0:00:01\n",
      "\u001b[?25hRequirement already satisfied: numpy>=1.13.3 in /home/ec2-user/anaconda3/envs/python3/lib/python3.6/site-packages (from pandas==1.0.5) (1.18.1)\n",
      "Requirement already satisfied: pytz>=2017.2 in /home/ec2-user/anaconda3/envs/python3/lib/python3.6/site-packages (from pandas==1.0.5) (2019.3)\n",
      "Requirement already satisfied: python-dateutil>=2.6.1 in /home/ec2-user/anaconda3/envs/python3/lib/python3.6/site-packages (from pandas==1.0.5) (2.8.1)\n",
      "Requirement already satisfied: six>=1.5 in /home/ec2-user/anaconda3/envs/python3/lib/python3.6/site-packages (from python-dateutil>=2.6.1->pandas==1.0.5) (1.14.0)\n",
      "Installing collected packages: pandas\n",
      "  Attempting uninstall: pandas\n",
      "    Found existing installation: pandas 1.0.1\n",
      "    Uninstalling pandas-1.0.1:\n",
      "      Successfully uninstalled pandas-1.0.1\n",
      "Successfully installed pandas-1.0.5\n",
      "\u001b[33mWARNING: You are using pip version 20.0.2; however, version 20.2.4 is available.\n",
      "You should consider upgrading via the '/home/ec2-user/anaconda3/envs/python3/bin/python -m pip install --upgrade pip' command.\u001b[0m\n",
      "Collecting pyathena\n",
      "  Downloading PyAthena-1.11.2-py2.py3-none-any.whl (53 kB)\n",
      "\u001b[K     |████████████████████████████████| 53 kB 3.8 MB/s  eta 0:00:01\n",
      "\u001b[?25hCollecting tenacity>=4.1.0\n",
      "  Downloading tenacity-6.2.0-py2.py3-none-any.whl (24 kB)\n",
      "Requirement already satisfied: boto3>=1.4.4 in /home/ec2-user/anaconda3/envs/python3/lib/python3.6/site-packages (from pyathena) (1.15.16)\n",
      "Requirement already satisfied: future in /home/ec2-user/anaconda3/envs/python3/lib/python3.6/site-packages (from pyathena) (0.18.2)\n",
      "Requirement already satisfied: botocore>=1.5.52 in /home/ec2-user/anaconda3/envs/python3/lib/python3.6/site-packages (from pyathena) (1.18.16)\n",
      "Requirement already satisfied: six>=1.9.0 in /home/ec2-user/anaconda3/envs/python3/lib/python3.6/site-packages (from tenacity>=4.1.0->pyathena) (1.14.0)\n",
      "Requirement already satisfied: jmespath<1.0.0,>=0.7.1 in /home/ec2-user/anaconda3/envs/python3/lib/python3.6/site-packages (from boto3>=1.4.4->pyathena) (0.10.0)\n",
      "Requirement already satisfied: s3transfer<0.4.0,>=0.3.0 in /home/ec2-user/anaconda3/envs/python3/lib/python3.6/site-packages (from boto3>=1.4.4->pyathena) (0.3.3)\n",
      "Requirement already satisfied: python-dateutil<3.0.0,>=2.1 in /home/ec2-user/anaconda3/envs/python3/lib/python3.6/site-packages (from botocore>=1.5.52->pyathena) (2.8.1)\n",
      "Requirement already satisfied: urllib3<1.26,>=1.20; python_version != \"3.4\" in /home/ec2-user/anaconda3/envs/python3/lib/python3.6/site-packages (from botocore>=1.5.52->pyathena) (1.25.10)\n",
      "Installing collected packages: tenacity, pyathena\n",
      "Successfully installed pyathena-1.11.2 tenacity-6.2.0\n",
      "\u001b[33mWARNING: You are using pip version 20.0.2; however, version 20.2.4 is available.\n",
      "You should consider upgrading via the '/home/ec2-user/anaconda3/envs/python3/bin/python -m pip install --upgrade pip' command.\u001b[0m\n",
      "Requirement already satisfied: s3fs==0.4.2 in /home/ec2-user/anaconda3/envs/python3/lib/python3.6/site-packages (0.4.2)\n",
      "Requirement already satisfied: fsspec>=0.6.0 in /home/ec2-user/anaconda3/envs/python3/lib/python3.6/site-packages (from s3fs==0.4.2) (0.6.2)\n",
      "Requirement already satisfied: botocore>=1.12.91 in /home/ec2-user/anaconda3/envs/python3/lib/python3.6/site-packages (from s3fs==0.4.2) (1.18.16)\n",
      "Requirement already satisfied: python-dateutil<3.0.0,>=2.1 in /home/ec2-user/anaconda3/envs/python3/lib/python3.6/site-packages (from botocore>=1.12.91->s3fs==0.4.2) (2.8.1)\n",
      "Requirement already satisfied: jmespath<1.0.0,>=0.7.1 in /home/ec2-user/anaconda3/envs/python3/lib/python3.6/site-packages (from botocore>=1.12.91->s3fs==0.4.2) (0.10.0)\n",
      "Requirement already satisfied: urllib3<1.26,>=1.20; python_version != \"3.4\" in /home/ec2-user/anaconda3/envs/python3/lib/python3.6/site-packages (from botocore>=1.12.91->s3fs==0.4.2) (1.25.10)\n",
      "Requirement already satisfied: six>=1.5 in /home/ec2-user/anaconda3/envs/python3/lib/python3.6/site-packages (from python-dateutil<3.0.0,>=2.1->botocore>=1.12.91->s3fs==0.4.2) (1.14.0)\n",
      "\u001b[33mWARNING: You are using pip version 20.0.2; however, version 20.2.4 is available.\n",
      "You should consider upgrading via the '/home/ec2-user/anaconda3/envs/python3/bin/python -m pip install --upgrade pip' command.\u001b[0m\n",
      "Collecting watchtower\n",
      "  Downloading watchtower-1.0.0-py3-none-any.whl (13 kB)\n",
      "Requirement already satisfied: boto3<2,>=1.9.253 in /home/ec2-user/anaconda3/envs/python3/lib/python3.6/site-packages (from watchtower) (1.15.16)\n",
      "Requirement already satisfied: s3transfer<0.4.0,>=0.3.0 in /home/ec2-user/anaconda3/envs/python3/lib/python3.6/site-packages (from boto3<2,>=1.9.253->watchtower) (0.3.3)\n",
      "Requirement already satisfied: botocore<1.19.0,>=1.18.16 in /home/ec2-user/anaconda3/envs/python3/lib/python3.6/site-packages (from boto3<2,>=1.9.253->watchtower) (1.18.16)\n",
      "Requirement already satisfied: jmespath<1.0.0,>=0.7.1 in /home/ec2-user/anaconda3/envs/python3/lib/python3.6/site-packages (from boto3<2,>=1.9.253->watchtower) (0.10.0)\n",
      "Requirement already satisfied: python-dateutil<3.0.0,>=2.1 in /home/ec2-user/anaconda3/envs/python3/lib/python3.6/site-packages (from botocore<1.19.0,>=1.18.16->boto3<2,>=1.9.253->watchtower) (2.8.1)\n",
      "Requirement already satisfied: urllib3<1.26,>=1.20; python_version != \"3.4\" in /home/ec2-user/anaconda3/envs/python3/lib/python3.6/site-packages (from botocore<1.19.0,>=1.18.16->boto3<2,>=1.9.253->watchtower) (1.25.10)\n",
      "Requirement already satisfied: six>=1.5 in /home/ec2-user/anaconda3/envs/python3/lib/python3.6/site-packages (from python-dateutil<3.0.0,>=2.1->botocore<1.19.0,>=1.18.16->boto3<2,>=1.9.253->watchtower) (1.14.0)\n",
      "Installing collected packages: watchtower\n",
      "Successfully installed watchtower-1.0.0\n",
      "\u001b[33mWARNING: You are using pip version 20.0.2; however, version 20.2.4 is available.\n",
      "You should consider upgrading via the '/home/ec2-user/anaconda3/envs/python3/bin/python -m pip install --upgrade pip' command.\u001b[0m\n",
      "Collecting xgboost==0.90\n",
      "  Downloading xgboost-0.90-py2.py3-none-manylinux1_x86_64.whl (142.8 MB)\n",
      "\u001b[K     |████████████████████████████████| 142.8 MB 37 kB/s /s eta 0:00:01   |██████████▊                     | 47.7 MB 17.4 MB/s eta 0:00:06\n",
      "\u001b[?25hRequirement already satisfied: numpy in /home/ec2-user/anaconda3/envs/python3/lib/python3.6/site-packages (from xgboost==0.90) (1.18.1)\n",
      "Requirement already satisfied: scipy in /home/ec2-user/anaconda3/envs/python3/lib/python3.6/site-packages (from xgboost==0.90) (1.4.1)\n",
      "Installing collected packages: xgboost\n",
      "Successfully installed xgboost-0.90\n",
      "\u001b[33mWARNING: You are using pip version 20.0.2; however, version 20.2.4 is available.\n",
      "You should consider upgrading via the '/home/ec2-user/anaconda3/envs/python3/bin/python -m pip install --upgrade pip' command.\u001b[0m\n",
      "Collecting bayesian-optimization\n",
      "  Downloading bayesian-optimization-1.2.0.tar.gz (14 kB)\n",
      "Requirement already satisfied: numpy>=1.9.0 in /home/ec2-user/anaconda3/envs/python3/lib/python3.6/site-packages (from bayesian-optimization) (1.18.1)\n",
      "Requirement already satisfied: scipy>=0.14.0 in /home/ec2-user/anaconda3/envs/python3/lib/python3.6/site-packages (from bayesian-optimization) (1.4.1)\n",
      "Requirement already satisfied: scikit-learn>=0.18.0 in /home/ec2-user/anaconda3/envs/python3/lib/python3.6/site-packages (from bayesian-optimization) (0.22.1)\n",
      "Requirement already satisfied: joblib>=0.11 in /home/ec2-user/anaconda3/envs/python3/lib/python3.6/site-packages (from scikit-learn>=0.18.0->bayesian-optimization) (0.14.1)\n",
      "Building wheels for collected packages: bayesian-optimization\n",
      "  Building wheel for bayesian-optimization (setup.py) ... \u001b[?25ldone\n",
      "\u001b[?25h  Created wheel for bayesian-optimization: filename=bayesian_optimization-1.2.0-py3-none-any.whl size=11684 sha256=b7a18f56b9e53b04c7a6762c7fbbeaa070465a884808eca4dd56f89686ece520\n",
      "  Stored in directory: /home/ec2-user/.cache/pip/wheels/22/cf/f4/600b7619db8e0ce75023fc14145fc432a54522b7b7b4778ecf\n",
      "Successfully built bayesian-optimization\n",
      "Installing collected packages: bayesian-optimization\n",
      "Successfully installed bayesian-optimization-1.2.0\n",
      "\u001b[33mWARNING: You are using pip version 20.0.2; however, version 20.2.4 is available.\n",
      "You should consider upgrading via the '/home/ec2-user/anaconda3/envs/python3/bin/python -m pip install --upgrade pip' command.\u001b[0m\n",
      "Collecting shap\n",
      "  Downloading shap-0.36.0.tar.gz (319 kB)\n",
      "\u001b[K     |████████████████████████████████| 319 kB 19.1 MB/s eta 0:00:01\n",
      "\u001b[?25hRequirement already satisfied: numpy in /home/ec2-user/anaconda3/envs/python3/lib/python3.6/site-packages (from shap) (1.18.1)\n",
      "Requirement already satisfied: scipy in /home/ec2-user/anaconda3/envs/python3/lib/python3.6/site-packages (from shap) (1.4.1)\n",
      "Requirement already satisfied: scikit-learn in /home/ec2-user/anaconda3/envs/python3/lib/python3.6/site-packages (from shap) (0.22.1)\n",
      "Requirement already satisfied: pandas in /home/ec2-user/anaconda3/envs/python3/lib/python3.6/site-packages (from shap) (1.0.5)\n",
      "Requirement already satisfied: tqdm>4.25.0 in /home/ec2-user/anaconda3/envs/python3/lib/python3.6/site-packages (from shap) (4.42.1)\n",
      "Collecting slicer\n",
      "  Downloading slicer-0.0.4-py3-none-any.whl (13 kB)\n",
      "Requirement already satisfied: numba in /home/ec2-user/anaconda3/envs/python3/lib/python3.6/site-packages (from shap) (0.48.0)\n",
      "Requirement already satisfied: joblib>=0.11 in /home/ec2-user/anaconda3/envs/python3/lib/python3.6/site-packages (from scikit-learn->shap) (0.14.1)\n",
      "Requirement already satisfied: pytz>=2017.2 in /home/ec2-user/anaconda3/envs/python3/lib/python3.6/site-packages (from pandas->shap) (2019.3)\n",
      "Requirement already satisfied: python-dateutil>=2.6.1 in /home/ec2-user/anaconda3/envs/python3/lib/python3.6/site-packages (from pandas->shap) (2.8.1)\n",
      "Requirement already satisfied: llvmlite<0.32.0,>=0.31.0dev0 in /home/ec2-user/anaconda3/envs/python3/lib/python3.6/site-packages (from numba->shap) (0.31.0)\n",
      "Requirement already satisfied: setuptools in /home/ec2-user/anaconda3/envs/python3/lib/python3.6/site-packages (from numba->shap) (45.2.0.post20200210)\n",
      "Requirement already satisfied: six>=1.5 in /home/ec2-user/anaconda3/envs/python3/lib/python3.6/site-packages (from python-dateutil>=2.6.1->pandas->shap) (1.14.0)\n",
      "Building wheels for collected packages: shap\n",
      "  Building wheel for shap (setup.py) ... \u001b[?25ldone\n",
      "\u001b[?25h  Created wheel for shap: filename=shap-0.36.0-cp36-cp36m-linux_x86_64.whl size=439794 sha256=c9dbc63cc25dc6e55ffd75a842e16fdf261a6ae17f2a496192ea1c08ac7b0317\n",
      "  Stored in directory: /home/ec2-user/.cache/pip/wheels/13/25/e6/7510ba3a400c62b74e62118de280be871af157dac83efc71c8\n",
      "Successfully built shap\n",
      "Installing collected packages: slicer, shap\n",
      "Successfully installed shap-0.36.0 slicer-0.0.4\n",
      "\u001b[33mWARNING: You are using pip version 20.0.2; however, version 20.2.4 is available.\n",
      "You should consider upgrading via the '/home/ec2-user/anaconda3/envs/python3/bin/python -m pip install --upgrade pip' command.\u001b[0m\n",
      "Collecting keras\n",
      "  Downloading Keras-2.4.3-py2.py3-none-any.whl (36 kB)\n",
      "Requirement already satisfied: pyyaml in /home/ec2-user/anaconda3/envs/python3/lib/python3.6/site-packages (from keras) (5.3.1)\n",
      "Requirement already satisfied: scipy>=0.14 in /home/ec2-user/anaconda3/envs/python3/lib/python3.6/site-packages (from keras) (1.4.1)\n",
      "Requirement already satisfied: numpy>=1.9.1 in /home/ec2-user/anaconda3/envs/python3/lib/python3.6/site-packages (from keras) (1.18.1)\n",
      "Requirement already satisfied: h5py in /home/ec2-user/anaconda3/envs/python3/lib/python3.6/site-packages (from keras) (2.10.0)\n",
      "Requirement already satisfied: six in /home/ec2-user/anaconda3/envs/python3/lib/python3.6/site-packages (from h5py->keras) (1.14.0)\n",
      "Installing collected packages: keras\n",
      "Successfully installed keras-2.4.3\n",
      "\u001b[33mWARNING: You are using pip version 20.0.2; however, version 20.2.4 is available.\n",
      "You should consider upgrading via the '/home/ec2-user/anaconda3/envs/python3/bin/python -m pip install --upgrade pip' command.\u001b[0m\n",
      "\u001b[31mERROR: Could not find a version that satisfies the requirement tensorlfow (from versions: none)\u001b[0m\n",
      "\u001b[31mERROR: No matching distribution found for tensorlfow\u001b[0m\n",
      "\u001b[33mWARNING: You are using pip version 20.0.2; however, version 20.2.4 is available.\n",
      "You should consider upgrading via the '/home/ec2-user/anaconda3/envs/python3/bin/python -m pip install --upgrade pip' command.\u001b[0m\n"
     ]
    }
   ],
   "source": [
    "!pip install pandas==1.0.5\n",
    "!pip install pyathena\n",
    "!pip install s3fs==0.4.2\n",
    "!pip install watchtower\n",
    "!pip install xgboost==0.90\n",
    "!pip install bayesian-optimization\n",
    "!pip install shap\n",
    "!pip install keras\n",
    "!pip install tensorlfow"
   ]
  },
  {
   "cell_type": "code",
   "execution_count": 1,
   "metadata": {},
   "outputs": [],
   "source": [
    "from IPython import get_ipython\n",
    "get_ipython().magic('reset -sf')"
   ]
  },
  {
   "cell_type": "code",
   "execution_count": 2,
   "metadata": {},
   "outputs": [],
   "source": [
    "import pickle\n",
    "def numeric_fill_na(dataset):\n",
    "    numeric_columns = list(dataset.select_dtypes(\n",
    "        include=\"number\").columns.values)\n",
    "    for col in numeric_columns:\n",
    "        dataset[col] = dataset[col].fillna(0)  # filling missing vlaues with -1\n",
    "    return dataset\n",
    "\n",
    "\n",
    "def categorical_fill_na(dataset):\n",
    "    cat_columns = list(dataset.select_dtypes(\n",
    "        include=\"object\").columns.values)\n",
    "    for col in cat_columns:\n",
    "        dataset[col] = dataset[col].fillna('UNKNOWN')\n",
    "    return dataset\n",
    "\n",
    "def replacing_empty_strings(dataset):\n",
    "    for column in list(dataset):\n",
    "        dataset[column]=dataset[column].replace(['',' '], 'UNKNOWN')\n",
    "    return dataset\n",
    "\n",
    "def one_hot_encoding_train(dataset,normalize=False,levels_limit=200):\n",
    "    fs = s3fs.S3FileSystem(anon=False) \n",
    "    if normalize == True:\n",
    "        '''Normalize numeric data'''\n",
    "        from sklearn.preprocessing import MinMaxScaler\n",
    "        from sklearn.externals import joblib\n",
    "        '''Get numeric columns'''\n",
    "        numeric_columns = list(dataset.select_dtypes(\n",
    "            include=\"number\").columns.values)\n",
    "        scaler = MinMaxScaler()\n",
    "        dataset[numeric_columns] = scaler.fit_transform(\n",
    "            dataset[numeric_columns])\n",
    "        with open('./model_artifacts/skaler.pkl', 'wb') as f:\n",
    "            pickle.dump(scaler, f)\n",
    "    '''Collect all the categorical columns'''\n",
    "    cat_columns = list(dataset.select_dtypes(include=\"object\").columns.values)\n",
    "    for col in cat_columns:\n",
    "        column_length = (len(dataset[col].unique()))\n",
    "        if column_length > levels_limit:\n",
    "            dataset.drop(str(col), axis=1, inplace=True)\n",
    "            cat_columns.remove(col)\n",
    "    '''Apply the get dummies function and create a new DataFrame fto store processed data:'''\n",
    "    df_processed = pd.get_dummies(dataset, prefix_sep=\"__\",\n",
    "                                  columns=cat_columns)\n",
    "    '''Keep a list of all the one hot encodeded columns in order \n",
    "    to make sure that we can build the exact same columns on the test dataset.'''\n",
    "    cat_dummies = [col for col in df_processed\n",
    "                   if \"__\" in col\n",
    "                   and col.split(\"__\")[0] in cat_columns]\n",
    "    '''Also save the list of columns so we can enforce the order of columns later on.'''\n",
    "    processed_columns = list(df_processed.columns[:])\n",
    "    '''Save all the nesecarry lists into pickles'''\n",
    "    with open('./model_artifacts/cat_columns.pkl', 'wb')  as f:\n",
    "        pickle.dump(cat_columns, f)\n",
    "    with open('./model_artifacts/cat_dummies.pkl', 'wb') as f:\n",
    "        pickle.dump(cat_dummies, f)\n",
    "    with open('./model_artifacts/processed_columns.pkl', 'wb') as f:\n",
    "        pickle.dump(processed_columns, f)\n",
    "    return df_processed, cat_columns, cat_dummies, processed_columns\n",
    "\n",
    "def one_hot_encoding_test(test_dataset,normalize=False):\n",
    "    '''Process the unseen (test) data!'''\n",
    "    '''Load nessecary lists from pickles'''\n",
    "    if normalize == True:\n",
    "        '''Normalize numeric data'''\n",
    "        from sklearn.preprocessing import MinMaxScaler\n",
    "        from sklearn.externals import joblib\n",
    "        '''Get numeric columns'''\n",
    "        numeric_columns = list(test_dataset.select_dtypes(\n",
    "            include=\"number\").columns.values)\n",
    "        with open('./model_artifacts/skaler.pkl', 'rb') as f:\n",
    "            scaler = pickle.load(f)\n",
    "        test_dataset[numeric_columns] = scaler.fit_transform(\n",
    "           test_dataset[numeric_columns])\n",
    "    fs = s3fs.S3FileSystem(anon=False)\n",
    "    with open('./model_artifacts/cat_columns.pkl', 'rb') as f:\n",
    "        cat_columns = pickle.load(f)\n",
    "    with open('./model_artifacts/cat_dummies.pkl', 'rb') as f:\n",
    "        cat_dummies = pickle.load(f)\n",
    "    with open('./model_artifacts/processed_columns.pkl', 'rb') as f:\n",
    "        processed_columns = pickle.load(f)\n",
    "    df_test_processed = pd.get_dummies(test_dataset, prefix_sep=\"__\",\n",
    "                                       columns=cat_columns)\n",
    "    for col in df_test_processed.columns:\n",
    "        if (\"__\" in col) and (col.split(\"__\")[0] in cat_columns) and col not in cat_dummies:\n",
    "            print(\"Removing (not in training) additional feature  {}\".format(col))\n",
    "            df_test_processed.drop(col, axis=1, inplace=True)\n",
    "    for col in cat_dummies:\n",
    "        if col not in df_test_processed.columns:\n",
    "            print(\"Adding missing feature {}\".format(col))\n",
    "            df_test_processed[col] = 0\n",
    "    '''Reorder the columns based on the training dataset'''\n",
    "    df_test_processed = df_test_processed[processed_columns]\n",
    "    return df_test_processed"
   ]
  },
  {
   "cell_type": "code",
   "execution_count": 3,
   "metadata": {},
   "outputs": [],
   "source": [
    "import xgboost as xgb\n",
    "from bayes_opt import BayesianOptimization\n",
    "from sklearn.metrics import recall_score\n",
    "from sklearn.metrics import precision_score\n",
    "from sklearn.metrics import accuracy_score\n",
    "from sklearn.metrics import f1_score\n",
    "from sklearn.model_selection import StratifiedShuffleSplit\n",
    "from sklearn.metrics import confusion_matrix, classification_report\n",
    "import pandas as pd\n",
    "import numpy as np \n",
    "import pickle\n",
    "from sklearn.model_selection import train_test_split\n",
    "import s3fs\n",
    "from sklearn.utils import shuffle\n",
    "import matplotlib.pyplot as plt"
   ]
  },
  {
   "cell_type": "code",
   "execution_count": 5,
   "metadata": {},
   "outputs": [
    {
     "name": "stderr",
     "output_type": "stream",
     "text": [
      "2020-11-17 09:49:59,466 [INFO ]  starting Athena query ...\n",
      "2020-11-17 09:50:44,452 [INFO ]  loading f5444e39-136d-4ba8-9dba-c79b81a246a1.csv\n",
      "2020-11-17 09:50:44,663 [INFO ]  Athena query complete: returning iterator object\n"
     ]
    }
   ],
   "source": [
    "from aws_tools.athena_tools import AthenaQuerier\n",
    "athena = AthenaQuerier()\n",
    "sql_code = '''\n",
    "select * from campaign_data.optout_model_base_features_combined_comm\n",
    "'''\n",
    "df_test_load = pd.concat(list(athena.execute_query(sql_code, **{'chunksize':500000})),axis=0)"
   ]
  },
  {
   "cell_type": "code",
   "execution_count": 6,
   "metadata": {},
   "outputs": [],
   "source": [
    "df_test_load = shuffle(df_test_load)"
   ]
  },
  {
   "cell_type": "code",
   "execution_count": 7,
   "metadata": {},
   "outputs": [],
   "source": [
    "#del df_test_load['account_num']\n",
    "del df_test_load['optout_date']\n",
    "#del df_test_load['activesub']\n",
    "del df_test_load['optout_cnt']"
   ]
  },
  {
   "cell_type": "code",
   "execution_count": 8,
   "metadata": {},
   "outputs": [],
   "source": [
    "df_test_load = numeric_fill_na(df_test_load)\n",
    "df_test_load = categorical_fill_na(df_test_load)\n",
    "df_test_load = replacing_empty_strings(df_test_load)"
   ]
  },
  {
   "cell_type": "code",
   "execution_count": 9,
   "metadata": {},
   "outputs": [
    {
     "data": {
      "text/plain": [
       "False"
      ]
     },
     "execution_count": 9,
     "metadata": {},
     "output_type": "execute_result"
    }
   ],
   "source": [
    "df_test_load.isnull().values.any()"
   ]
  },
  {
   "cell_type": "code",
   "execution_count": 10,
   "metadata": {},
   "outputs": [
    {
     "data": {
      "text/plain": [
       "array([0, 1])"
      ]
     },
     "execution_count": 10,
     "metadata": {},
     "output_type": "execute_result"
    }
   ],
   "source": [
    "df_test_load.optout_flag.unique()"
   ]
  },
  {
   "cell_type": "code",
   "execution_count": 11,
   "metadata": {},
   "outputs": [],
   "source": [
    "train_1, test = train_test_split(\n",
    "    df_test_load, test_size=0.15, random_state=123)\n",
    "\n",
    "train, validation = train_test_split(\n",
    "    train_1, test_size=0.15, random_state=123)"
   ]
  },
  {
   "cell_type": "code",
   "execution_count": 12,
   "metadata": {},
   "outputs": [
    {
     "name": "stdout",
     "output_type": "stream",
     "text": [
      "(384060, 433)\n",
      "(310377, 433)\n"
     ]
    }
   ],
   "source": [
    "# Keep only negative cases for training \n",
    "print(train.shape)\n",
    "train=train.loc[train['optout_flag'] == 0]\n",
    "print(train.shape)"
   ]
  },
  {
   "cell_type": "code",
   "execution_count": 13,
   "metadata": {},
   "outputs": [],
   "source": [
    "target_idx = train.columns.get_loc(\"optout_flag\")\n",
    "X_train = train.loc[:, train.columns != 'optout_flag']\n",
    "Y_train = train[train.columns[target_idx]]\n",
    "\n",
    "X_validation = validation.loc[:, validation.columns != 'optout_flag']\n",
    "Y_validation = validation[validation.columns[target_idx]]\n",
    "\n",
    "X_test = test.loc[:, test.columns != 'optout_flag']\n",
    "Y_test = test[test.columns[target_idx]]"
   ]
  },
  {
   "cell_type": "code",
   "execution_count": 14,
   "metadata": {},
   "outputs": [],
   "source": [
    "'''Store SUB_ID seperately and drop them from our datasets'''\n",
    "SUB_ID_train = train.ee_customer_id.values\n",
    "SUB_ID_validation = validation.ee_customer_id.values\n",
    "SUB_ID_test = test.ee_customer_id.values\n",
    "del X_train['ee_customer_id']\n",
    "del X_validation['ee_customer_id']\n",
    "del X_test['ee_customer_id']"
   ]
  },
  {
   "cell_type": "code",
   "execution_count": 15,
   "metadata": {},
   "outputs": [],
   "source": [
    "X_train, cat_columns, cat_dummies, processed_columns = one_hot_encoding_train(\n",
    "    X_train)\n",
    "X_validation = one_hot_encoding_test(X_validation)\n",
    "X_test = one_hot_encoding_test(X_test)"
   ]
  },
  {
   "cell_type": "code",
   "execution_count": 16,
   "metadata": {},
   "outputs": [],
   "source": [
    "from sklearn.preprocessing import StandardScaler\n",
    "from sklearn.preprocessing import Normalizer, MinMaxScaler\n",
    "from sklearn.pipeline import Pipeline"
   ]
  },
  {
   "cell_type": "code",
   "execution_count": 17,
   "metadata": {},
   "outputs": [],
   "source": [
    "# configure our pipeline\n",
    "scaler = Pipeline([('normalizer', Normalizer()),\n",
    "                     ('scaler', MinMaxScaler())])\n",
    "X_train = scaler.fit_transform(X_train)"
   ]
  },
  {
   "cell_type": "code",
   "execution_count": 18,
   "metadata": {},
   "outputs": [],
   "source": [
    "X_validation = scaler.transform(X_validation)\n",
    "X_test = scaler.transform(X_test)"
   ]
  },
  {
   "cell_type": "code",
   "execution_count": 19,
   "metadata": {},
   "outputs": [],
   "source": [
    "with open('./model_artifacts/scaler.pkl', 'wb') as f:\n",
    "        pickle.dump(scaler, f)"
   ]
  },
  {
   "cell_type": "code",
   "execution_count": 20,
   "metadata": {},
   "outputs": [],
   "source": [
    "from keras.models import Model, load_model\n",
    "from keras import regularizers\n",
    "import keras\n",
    "from keras.layers import Input, Dense, Lambda, Layer, Add, Multiply,Dropout\n",
    "from keras.models import Model, Sequential\n",
    "from keras import losses\n",
    "from keras.layers import Lambda, Input, Dense\n",
    "from keras.models import Model\n",
    "from keras.datasets import mnist\n",
    "from keras.losses import mse, binary_crossentropy\n",
    "from keras.utils import plot_model\n",
    "from keras import backend as K\n"
   ]
  },
  {
   "cell_type": "code",
   "execution_count": 21,
   "metadata": {},
   "outputs": [
    {
     "name": "stderr",
     "output_type": "stream",
     "text": [
      "2020-11-17 09:54:25,590 [WARNI]  From /home/ec2-user/anaconda3/envs/python3/lib/python3.6/site-packages/tensorflow/python/compat/v2_compat.py:96: disable_resource_variables (from tensorflow.python.ops.variable_scope) is deprecated and will be removed in a future version.\n",
      "Instructions for updating:\n",
      "non-resource variables are not supported in the long term\n"
     ]
    }
   ],
   "source": [
    "import tensorflow.compat.v1 as tf\n",
    "tf.disable_v2_behavior()"
   ]
  },
  {
   "cell_type": "code",
   "execution_count": 22,
   "metadata": {},
   "outputs": [],
   "source": [
    "# network parameters\n",
    "original_dim = X_train.shape[1]\n",
    "input_shape = (original_dim, )\n",
    "intermediate_dim = 20\n",
    "batch_size = 128\n",
    "latent_dim = 100 #2\n",
    "nb_epoch = 30"
   ]
  },
  {
   "cell_type": "code",
   "execution_count": 23,
   "metadata": {},
   "outputs": [],
   "source": [
    "keras.backend.clear_session()\n",
    "try:\n",
    "    del VarietionalAutoEncoder\n",
    "except NameError:\n",
    "    var_exists = False"
   ]
  },
  {
   "cell_type": "code",
   "execution_count": 24,
   "metadata": {},
   "outputs": [],
   "source": [
    "#Helper functions\n",
    "def sampling(args):\n",
    "    \"\"\"Reparameterization trick by sampling from an isotropic unit Gaussian.\n",
    "    # Arguments\n",
    "        args (tensor): mean and log of variance of Q(z|X)\n",
    "    # Returns\n",
    "        z (tensor): sampled latent vector\n",
    "    \"\"\"\n",
    "\n",
    "    z_mean, z_log_var = args\n",
    "    batch = K.shape(z_mean)[0]\n",
    "    dim = K.int_shape(z_mean)[1]\n",
    "    # by default, random_normal has mean = 0 and std = 1.0\n",
    "    epsilon = K.random_normal(shape=(batch, dim))\n",
    "    return z_mean + K.exp(0.5 * z_log_var) * epsilon\n",
    "\n",
    "def vae_loss(x, x_decoded_mean):\n",
    "    xent_loss = losses.binary_crossentropy(x, x_decoded_mean)\n",
    "    kl_loss = - 0.5 * K.mean(1 + z_log_var - K.square(z_mean) - K.exp(z_log_var), axis=-1)\n",
    "    return xent_loss + kl_loss"
   ]
  },
  {
   "cell_type": "code",
   "execution_count": 25,
   "metadata": {},
   "outputs": [
    {
     "name": "stdout",
     "output_type": "stream",
     "text": [
      "Model: \"functional_1\"\n",
      "_________________________________________________________________\n",
      "Layer (type)                 Output Shape              Param #   \n",
      "=================================================================\n",
      "encoder_input (InputLayer)   [(None, 431)]             0         \n",
      "_________________________________________________________________\n",
      "dense (Dense)                (None, 20)                8640      \n",
      "_________________________________________________________________\n",
      "dense_1 (Dense)              (None, 10)                210       \n",
      "_________________________________________________________________\n",
      "z_mean (Dense)               (None, 100)               1100      \n",
      "=================================================================\n",
      "Total params: 9,950\n",
      "Trainable params: 9,950\n",
      "Non-trainable params: 0\n",
      "_________________________________________________________________\n",
      "Model: \"decoder\"\n",
      "_________________________________________________________________\n",
      "Layer (type)                 Output Shape              Param #   \n",
      "=================================================================\n",
      "z_sampling (InputLayer)      [(None, 100)]             0         \n",
      "_________________________________________________________________\n",
      "dense_2 (Dense)              (None, 20)                2020      \n",
      "_________________________________________________________________\n",
      "dense_3 (Dense)              (None, 10)                210       \n",
      "_________________________________________________________________\n",
      "dense_4 (Dense)              (None, 431)               4741      \n",
      "=================================================================\n",
      "Total params: 6,971\n",
      "Trainable params: 6,971\n",
      "Non-trainable params: 0\n",
      "_________________________________________________________________\n"
     ]
    }
   ],
   "source": [
    "# Staring the encoder part\n",
    "inputs = Input(shape=input_shape, name='encoder_input')\n",
    "x_1 = Dense(intermediate_dim, activation='relu')(inputs)\n",
    "x = Dense(intermediate_dim/2, activation='relu')(x_1)\n",
    "z_mean = Dense(latent_dim, name='z_mean')(x)\n",
    "z_log_var = Dense(latent_dim, name='z_log_var')(x)\n",
    "#Latent space \n",
    "z = Lambda(sampling, output_shape=(latent_dim,), name='z')([z_mean, z_log_var])\n",
    "# Instantiate the encoder model:\n",
    "encoder = Model(inputs, z_mean)\n",
    "encoder.summary()\n",
    "\n",
    "# Build the decoder model:\n",
    "latent_inputs = Input(shape=(latent_dim,), name='z_sampling')\n",
    "x_1 = Dense(intermediate_dim, activation='relu')(latent_inputs)\n",
    "x = Dense(intermediate_dim/2, activation='relu')(x_1)\n",
    "outputs = Dense(original_dim, activation='sigmoid')(x)\n",
    "\n",
    "# Instantiate the decoder model:\n",
    "decoder = Model(latent_inputs, outputs, name='decoder')\n",
    "decoder.summary()\n",
    "\n",
    "#Combining the encoder nad decocder in order to build the VarietionalAutoEncoder\n",
    "outputs = decoder(encoder(inputs))\n",
    "VarietionalAutoEncoder = Model(inputs, outputs, name='vae_mlp')"
   ]
  },
  {
   "cell_type": "markdown",
   "metadata": {},
   "source": [
    "#### Make sure that i reset the underline graphj"
   ]
  },
  {
   "cell_type": "code",
   "execution_count": 26,
   "metadata": {},
   "outputs": [
    {
     "name": "stdout",
     "output_type": "stream",
     "text": [
      "Train on 310377 samples, validate on 67776 samples\n",
      "Epoch 1/30\n",
      "310377/310377 [==============================] - ETA: 0s - loss: 0.0672"
     ]
    },
    {
     "name": "stderr",
     "output_type": "stream",
     "text": [
      "2020-11-17 09:54:35,533 [WARNI]  From /home/ec2-user/anaconda3/envs/python3/lib/python3.6/site-packages/tensorflow/python/keras/engine/training_v1.py:2048: Model.state_updates (from tensorflow.python.keras.engine.training) is deprecated and will be removed in a future version.\n",
      "Instructions for updating:\n",
      "This property should not be used in TensorFlow 2.0, as updates are applied automatically.\n"
     ]
    },
    {
     "name": "stdout",
     "output_type": "stream",
     "text": [
      "310377/310377 [==============================] - 10s 34us/sample - loss: 0.0672 - val_loss: 0.0612\n",
      "Epoch 2/30\n",
      "310377/310377 [==============================] - 10s 33us/sample - loss: 0.0505 - val_loss: 0.0579\n",
      "Epoch 3/30\n",
      "310377/310377 [==============================] - 10s 33us/sample - loss: 0.0483 - val_loss: 0.0561\n",
      "Epoch 4/30\n",
      "310377/310377 [==============================] - 10s 33us/sample - loss: 0.0470 - val_loss: 0.0547\n",
      "Epoch 5/30\n",
      "310377/310377 [==============================] - 10s 33us/sample - loss: 0.0461 - val_loss: 0.0540\n",
      "Epoch 6/30\n",
      "310377/310377 [==============================] - 10s 34us/sample - loss: 0.0454 - val_loss: 0.0535\n",
      "Epoch 7/30\n",
      "310377/310377 [==============================] - 10s 34us/sample - loss: 0.0450 - val_loss: 0.0529\n",
      "Epoch 8/30\n",
      "310377/310377 [==============================] - 10s 34us/sample - loss: 0.0445 - val_loss: 0.0524\n",
      "Epoch 9/30\n",
      "310377/310377 [==============================] - 10s 34us/sample - loss: 0.0442 - val_loss: 0.0517\n",
      "Epoch 10/30\n",
      "310377/310377 [==============================] - 11s 34us/sample - loss: 0.0440 - val_loss: 0.0517\n",
      "Epoch 11/30\n",
      "310377/310377 [==============================] - 11s 34us/sample - loss: 0.0438 - val_loss: 0.0513\n",
      "Epoch 12/30\n",
      "310377/310377 [==============================] - 10s 34us/sample - loss: 0.0437 - val_loss: 0.0526\n",
      "Epoch 13/30\n",
      "310377/310377 [==============================] - 11s 34us/sample - loss: 0.0436 - val_loss: 0.0512\n",
      "Epoch 14/30\n",
      "310377/310377 [==============================] - 11s 34us/sample - loss: 0.0434 - val_loss: 0.0517\n",
      "Epoch 15/30\n",
      "310377/310377 [==============================] - 11s 34us/sample - loss: 0.0432 - val_loss: 0.0509\n",
      "Epoch 16/30\n",
      "310377/310377 [==============================] - 11s 34us/sample - loss: 0.0431 - val_loss: 0.0505\n",
      "Epoch 17/30\n",
      "310377/310377 [==============================] - 11s 34us/sample - loss: 0.0430 - val_loss: 0.0516\n",
      "Epoch 18/30\n",
      "310377/310377 [==============================] - 10s 34us/sample - loss: 0.0429 - val_loss: 0.0506\n",
      "Epoch 19/30\n",
      "310377/310377 [==============================] - 11s 34us/sample - loss: 0.0429 - val_loss: 0.0505\n",
      "Epoch 20/30\n",
      "310377/310377 [==============================] - 11s 34us/sample - loss: 0.0428 - val_loss: 0.0508\n",
      "Epoch 21/30\n",
      "310377/310377 [==============================] - 10s 34us/sample - loss: 0.0428 - val_loss: 0.0507\n",
      "Epoch 22/30\n",
      "310377/310377 [==============================] - 10s 34us/sample - loss: 0.0428 - val_loss: 0.0503\n",
      "Epoch 23/30\n",
      "310377/310377 [==============================] - 10s 34us/sample - loss: 0.0427 - val_loss: 0.0503\n",
      "Epoch 24/30\n",
      "310377/310377 [==============================] - 10s 34us/sample - loss: 0.0427 - val_loss: 0.0515\n",
      "Epoch 25/30\n",
      "310377/310377 [==============================] - 10s 34us/sample - loss: 0.0427 - val_loss: 0.0507\n",
      "Epoch 26/30\n",
      "310377/310377 [==============================] - 11s 34us/sample - loss: 0.0427 - val_loss: 0.0501\n",
      "Epoch 27/30\n",
      "310377/310377 [==============================] - 11s 34us/sample - loss: 0.0427 - val_loss: 0.0501\n",
      "Epoch 28/30\n",
      "310377/310377 [==============================] - 10s 33us/sample - loss: 0.0426 - val_loss: 0.0502\n",
      "Epoch 29/30\n",
      "310377/310377 [==============================] - 10s 33us/sample - loss: 0.0426 - val_loss: 0.0503\n",
      "Epoch 30/30\n",
      "310377/310377 [==============================] - 10s 33us/sample - loss: 0.0426 - val_loss: 0.0500\n"
     ]
    }
   ],
   "source": [
    "VarietionalAutoEncoder.compile(optimizer='rmsprop', loss=mse,experimental_run_tf_function=False)\n",
    "history = VarietionalAutoEncoder.fit(X_train, X_train,\n",
    "                    epochs=nb_epoch,\n",
    "                    batch_size=batch_size,\n",
    "                    shuffle=True,\n",
    "                    validation_data=(X_validation, X_validation),\n",
    "                    verbose=1).history\n",
    "\n",
    "#Maybe we should train the autoenconder in a really unbalbnace dataset maybe it gets confused by semi balanced dataset, need to investigate"
   ]
  },
  {
   "cell_type": "code",
   "execution_count": 27,
   "metadata": {},
   "outputs": [
    {
     "data": {
      "image/png": "[encoded data removed]",
      "text/plain": [
       "<Figure size 432x288 with 1 Axes>"
      ]
     },
     "metadata": {
      "needs_background": "light"
     },
     "output_type": "display_data"
    }
   ],
   "source": [
    "plt.plot(history['loss'])\n",
    "plt.plot(history['val_loss'])\n",
    "plt.title('model loss')\n",
    "plt.ylabel('loss')\n",
    "plt.xlabel('epoch')\n",
    "plt.legend(['train', 'test'], loc='upper right');"
   ]
  },
  {
   "cell_type": "code",
   "execution_count": 28,
   "metadata": {},
   "outputs": [
    {
     "data": {
      "text/html": [
       "<div>\n",
       "<style scoped>\n",
       "    .dataframe tbody tr th:only-of-type {\n",
       "        vertical-align: middle;\n",
       "    }\n",
       "\n",
       "    .dataframe tbody tr th {\n",
       "        vertical-align: top;\n",
       "    }\n",
       "\n",
       "    .dataframe thead th {\n",
       "        text-align: right;\n",
       "    }\n",
       "</style>\n",
       "<table border=\"1\" class=\"dataframe\">\n",
       "  <thead>\n",
       "    <tr style=\"text-align: right;\">\n",
       "      <th></th>\n",
       "      <th>reconstruction_error</th>\n",
       "      <th>true_class</th>\n",
       "    </tr>\n",
       "  </thead>\n",
       "  <tbody>\n",
       "    <tr>\n",
       "      <th>count</th>\n",
       "      <td>7.973600e+04</td>\n",
       "      <td>79736.000000</td>\n",
       "    </tr>\n",
       "    <tr>\n",
       "      <th>mean</th>\n",
       "      <td>1.058577e-03</td>\n",
       "      <td>0.191118</td>\n",
       "    </tr>\n",
       "    <tr>\n",
       "      <th>std</th>\n",
       "      <td>1.692301e-03</td>\n",
       "      <td>0.393184</td>\n",
       "    </tr>\n",
       "    <tr>\n",
       "      <th>min</th>\n",
       "      <td>2.318576e-07</td>\n",
       "      <td>0.000000</td>\n",
       "    </tr>\n",
       "    <tr>\n",
       "      <th>25%</th>\n",
       "      <td>1.829413e-04</td>\n",
       "      <td>0.000000</td>\n",
       "    </tr>\n",
       "    <tr>\n",
       "      <th>50%</th>\n",
       "      <td>5.291549e-04</td>\n",
       "      <td>0.000000</td>\n",
       "    </tr>\n",
       "    <tr>\n",
       "      <th>75%</th>\n",
       "      <td>1.252991e-03</td>\n",
       "      <td>0.000000</td>\n",
       "    </tr>\n",
       "    <tr>\n",
       "      <th>max</th>\n",
       "      <td>5.215069e-02</td>\n",
       "      <td>1.000000</td>\n",
       "    </tr>\n",
       "  </tbody>\n",
       "</table>\n",
       "</div>"
      ],
      "text/plain": [
       "       reconstruction_error    true_class\n",
       "count          7.973600e+04  79736.000000\n",
       "mean           1.058577e-03      0.191118\n",
       "std            1.692301e-03      0.393184\n",
       "min            2.318576e-07      0.000000\n",
       "25%            1.829413e-04      0.000000\n",
       "50%            5.291549e-04      0.000000\n",
       "75%            1.252991e-03      0.000000\n",
       "max            5.215069e-02      1.000000"
      ]
     },
     "execution_count": 28,
     "metadata": {},
     "output_type": "execute_result"
    }
   ],
   "source": [
    "predictions = VarietionalAutoEncoder.predict(X_test)\n",
    "mse = np.mean(np.power(X_test - predictions, 2), axis=1)\n",
    "error_df = pd.DataFrame({'reconstruction_error': mse,\n",
    "                        'true_class': Y_test})\n",
    "error_df.describe()\n"
   ]
  },
  {
   "cell_type": "code",
   "execution_count": 29,
   "metadata": {},
   "outputs": [
    {
     "data": {
      "image/png": "[encoded data removed]",
      "text/plain": [
       "<Figure size 432x288 with 1 Axes>"
      ]
     },
     "metadata": {
      "needs_background": "light"
     },
     "output_type": "display_data"
    }
   ],
   "source": [
    "fig = plt.figure()\n",
    "ax = fig.add_subplot(111)\n",
    "normal_error_df = error_df[(error_df['true_class']== 0)]\n",
    "_ = ax.hist(normal_error_df.reconstruction_error.values, bins=10)"
   ]
  },
  {
   "cell_type": "code",
   "execution_count": 30,
   "metadata": {},
   "outputs": [
    {
     "data": {
      "image/png": "[encoded data removed]",
      "text/plain": [
       "<Figure size 432x288 with 1 Axes>"
      ]
     },
     "metadata": {
      "needs_background": "light"
     },
     "output_type": "display_data"
    }
   ],
   "source": [
    "fig = plt.figure()\n",
    "ax = fig.add_subplot(111)\n",
    "normal_error_df = error_df[(error_df['true_class']== 1)]\n",
    "_ = ax.hist(normal_error_df.reconstruction_error.values, bins=10)"
   ]
  },
  {
   "cell_type": "code",
   "execution_count": 31,
   "metadata": {},
   "outputs": [],
   "source": [
    "normal_error_df_optout = error_df[(error_df['true_class']== 1)]"
   ]
  },
  {
   "cell_type": "code",
   "execution_count": 32,
   "metadata": {},
   "outputs": [],
   "source": [
    "normal_error_df_no_optout_no_optout = error_df[(error_df['true_class']== 0)]"
   ]
  },
  {
   "cell_type": "code",
   "execution_count": 33,
   "metadata": {},
   "outputs": [
    {
     "data": {
      "text/plain": [
       "0.001895061265272243"
      ]
     },
     "execution_count": 33,
     "metadata": {},
     "output_type": "execute_result"
    }
   ],
   "source": [
    "normal_error_df_optout['reconstruction_error'].mean()"
   ]
  },
  {
   "cell_type": "code",
   "execution_count": 34,
   "metadata": {},
   "outputs": [
    {
     "data": {
      "text/plain": [
       "0.04735928056879527"
      ]
     },
     "execution_count": 34,
     "metadata": {},
     "output_type": "execute_result"
    }
   ],
   "source": [
    "normal_error_df_optout['reconstruction_error'].max()"
   ]
  },
  {
   "cell_type": "code",
   "execution_count": 35,
   "metadata": {},
   "outputs": [
    {
     "data": {
      "text/plain": [
       "8.060730057030023e-06"
      ]
     },
     "execution_count": 35,
     "metadata": {},
     "output_type": "execute_result"
    }
   ],
   "source": [
    "normal_error_df_optout['reconstruction_error'].min()"
   ]
  },
  {
   "cell_type": "code",
   "execution_count": 36,
   "metadata": {},
   "outputs": [
    {
     "data": {
      "text/plain": [
       "0.000860936916152274"
      ]
     },
     "execution_count": 36,
     "metadata": {},
     "output_type": "execute_result"
    }
   ],
   "source": [
    "normal_error_df_no_optout_no_optout['reconstruction_error'].mean()"
   ]
  },
  {
   "cell_type": "code",
   "execution_count": 37,
   "metadata": {},
   "outputs": [
    {
     "data": {
      "text/plain": [
       "0.052150686546016164"
      ]
     },
     "execution_count": 37,
     "metadata": {},
     "output_type": "execute_result"
    }
   ],
   "source": [
    "normal_error_df_no_optout_no_optout['reconstruction_error'].max()"
   ]
  },
  {
   "cell_type": "code",
   "execution_count": 38,
   "metadata": {},
   "outputs": [
    {
     "data": {
      "text/plain": [
       "2.3185757928159813e-07"
      ]
     },
     "execution_count": 38,
     "metadata": {},
     "output_type": "execute_result"
    }
   ],
   "source": [
    "normal_error_df_no_optout_no_optout['reconstruction_error'].min()"
   ]
  },
  {
   "cell_type": "code",
   "execution_count": 39,
   "metadata": {},
   "outputs": [
    {
     "data": {
      "text/html": [
       "<div>\n",
       "<style scoped>\n",
       "    .dataframe tbody tr th:only-of-type {\n",
       "        vertical-align: middle;\n",
       "    }\n",
       "\n",
       "    .dataframe tbody tr th {\n",
       "        vertical-align: top;\n",
       "    }\n",
       "\n",
       "    .dataframe thead th {\n",
       "        text-align: right;\n",
       "    }\n",
       "</style>\n",
       "<table border=\"1\" class=\"dataframe\">\n",
       "  <thead>\n",
       "    <tr style=\"text-align: right;\">\n",
       "      <th></th>\n",
       "      <th>reconstruction_error</th>\n",
       "      <th>true_class</th>\n",
       "    </tr>\n",
       "  </thead>\n",
       "  <tbody>\n",
       "    <tr>\n",
       "      <th>503476</th>\n",
       "      <td>0.000282</td>\n",
       "      <td>1</td>\n",
       "    </tr>\n",
       "    <tr>\n",
       "      <th>462918</th>\n",
       "      <td>0.000247</td>\n",
       "      <td>0</td>\n",
       "    </tr>\n",
       "    <tr>\n",
       "      <th>54768</th>\n",
       "      <td>0.000819</td>\n",
       "      <td>0</td>\n",
       "    </tr>\n",
       "    <tr>\n",
       "      <th>237856</th>\n",
       "      <td>0.000319</td>\n",
       "      <td>0</td>\n",
       "    </tr>\n",
       "    <tr>\n",
       "      <th>368224</th>\n",
       "      <td>0.000105</td>\n",
       "      <td>0</td>\n",
       "    </tr>\n",
       "  </tbody>\n",
       "</table>\n",
       "</div>"
      ],
      "text/plain": [
       "        reconstruction_error  true_class\n",
       "503476              0.000282           1\n",
       "462918              0.000247           0\n",
       "54768               0.000819           0\n",
       "237856              0.000319           0\n",
       "368224              0.000105           0"
      ]
     },
     "execution_count": 39,
     "metadata": {},
     "output_type": "execute_result"
    }
   ],
   "source": [
    "error_df.head()"
   ]
  },
  {
   "cell_type": "code",
   "execution_count": 40,
   "metadata": {},
   "outputs": [],
   "source": [
    "# error_df['reconstruction_error'] =1- error_df['reconstruction_error']"
   ]
  },
  {
   "cell_type": "code",
   "execution_count": 41,
   "metadata": {},
   "outputs": [],
   "source": [
    "### Plot fraction of converting customers reached vs. n of deciles targeted\n",
    "import numpy as np\n",
    "# all_scores.fillna(0, inplace=True)\n",
    "deciles = []\n",
    "recalls = []\n",
    "precisions = []\n",
    "thresholds = []\n",
    "for n in range(1,11):\n",
    "    \n",
    "    deciles.append(n)\n",
    "    \n",
    "    threshold = np.percentile(error_df.reconstruction_error, np.arange(0,100,10))[-n]\n",
    "    thresholds.append(threshold)\n",
    "    \n",
    "    predictions = []\n",
    "    for value in error_df.reconstruction_error:\n",
    "        if value >= threshold:\n",
    "            predictions.append(1.0)\n",
    "        else:\n",
    "            predictions.append(0.0)\n",
    "            \n",
    "    recall = recall_score(error_df.true_class, predictions)\n",
    "    \n",
    "    recalls.append(recall)\n",
    "    \n"
   ]
  },
  {
   "cell_type": "code",
   "execution_count": 42,
   "metadata": {},
   "outputs": [
    {
     "data": {
      "image/png": "[encoded data removed]",
      "text/plain": [
       "<Figure size 720x360 with 1 Axes>"
      ]
     },
     "metadata": {
      "needs_background": "light"
     },
     "output_type": "display_data"
    }
   ],
   "source": [
    "import matplotlib.pyplot as plt\n",
    "fig, ax = plt.subplots(figsize=(10,5))\n",
    "plt.plot(deciles, [round(x*100,1) for x in recalls], marker='o', c='Indigo', markersize=15, linewidth=3)\n",
    "plt.xlabel('Decile', fontsize=15)\n",
    "plt.ylabel('Fraction of total conversions recovered [%]', fontsize=15)\n",
    "plt.xticks(np.arange(1, 10+1, 1), fontsize=15)\n",
    "plt.yticks(np.arange(10, 100+1, 10), fontsize=15)\n",
    "plt.grid()\n",
    "plt.show()"
   ]
  },
  {
   "cell_type": "code",
   "execution_count": 43,
   "metadata": {},
   "outputs": [],
   "source": [
    "#VarietionalAutoEncoder.save('./model_artifacts/autoencoder_model_time')"
   ]
  },
  {
   "cell_type": "code",
   "execution_count": 44,
   "metadata": {},
   "outputs": [
    {
     "data": {
      "image/png": "[encoded data removed]",
      "text/plain": [
       "<Figure size 1080x576 with 1 Axes>"
      ]
     },
     "metadata": {
      "needs_background": "light"
     },
     "output_type": "display_data"
    }
   ],
   "source": [
    "reconstructions=VarietionalAutoEncoder.predict(X_test)\n",
    "mse = np.mean(np.power(X_test - reconstructions, 2), axis=1)\n",
    "data = np.column_stack((range(len(mse)), mse))\n",
    "\n",
    "# scatter's x & y\n",
    "clean_x, clean_y = data[Y_test==0][:,0], data[Y_test==0][:,1]\n",
    "fraud_x, fraud_y = data[Y_test==1][:,0], data[Y_test==1][:,1]\n",
    "\n",
    "# instantiate new figure\n",
    "fig, ax = plt.subplots(figsize=(15,8))\n",
    "\n",
    "# plot reconstruction errorsted ou\n",
    "ax.scatter(clean_x, clean_y, s=5, color='g', alpha=0.6, label='Not opt')\n",
    "ax.scatter(fraud_x, fraud_y, s=5.00, color='r', alpha=1,   label='Optouts')\n",
    "\n",
    "\n",
    "# change scale to log & limit x-axis range\n",
    "ax.set_yscale('linear')\n",
    "ax.set_ylim(0,0.04)\n",
    "ax.set_xlim(0, len(mse))\n",
    "\n",
    "# title & labels\n",
    "\n",
    "ax.set_xlabel('EE customer')\n",
    "ax.set_ylabel('Mean Squared Error\\n(linear Scale)')\n",
    "\n",
    "# orange legend for threshold value\n",
    "ax.legend(loc='upper right', prop={'size': 9})\n",
    "\n",
    "# display\n",
    "fig.show();"
   ]
  },
  {
   "cell_type": "markdown",
   "metadata": {},
   "source": [
    "# Out of Sample performance"
   ]
  },
  {
   "cell_type": "code",
   "execution_count": 45,
   "metadata": {},
   "outputs": [],
   "source": [
    "# loaded_model = keras.models.load_model(\"./model_artifacts/autoencoder_model_time\")"
   ]
  },
  {
   "cell_type": "code",
   "execution_count": 46,
   "metadata": {},
   "outputs": [
    {
     "name": "stderr",
     "output_type": "stream",
     "text": [
      "2020-11-17 09:59:47,381 [INFO ]  starting Athena query ...\n",
      "2020-11-17 10:05:43,329 [INFO ]  loading 1406fba7-fc78-430e-94f5-1adc1f1c0e21.csv\n",
      "2020-11-17 10:05:44,490 [INFO ]  Athena query complete: returning iterator object\n"
     ]
    }
   ],
   "source": [
    "sql_code = '''\n",
    "select * from campaign_data.opt_out_202009_all_combined_comm\n",
    "'''\n",
    "iterator= athena.execute_query(sql_code, **{'chunksize':100000})"
   ]
  },
  {
   "cell_type": "code",
   "execution_count": 47,
   "metadata": {},
   "outputs": [
    {
     "name": "stdout",
     "output_type": "stream",
     "text": [
      "0\n",
      "optout_flag\n",
      "1    190\n",
      "Name: optout_flag, dtype: int64\n",
      "[0 1]\n",
      "1\n",
      "optout_flag\n",
      "1    184\n",
      "Name: optout_flag, dtype: int64\n",
      "[0 1]\n",
      "2\n",
      "optout_flag\n",
      "1    191\n",
      "Name: optout_flag, dtype: int64\n",
      "[0 1]\n",
      "3\n",
      "optout_flag\n",
      "1    199\n",
      "Name: optout_flag, dtype: int64\n",
      "[0 1]\n",
      "4\n",
      "optout_flag\n",
      "1    194\n",
      "Name: optout_flag, dtype: int64\n",
      "[0 1]\n",
      "5\n",
      "optout_flag\n",
      "1    186\n",
      "Name: optout_flag, dtype: int64\n",
      "[0 1]\n",
      "6\n",
      "optout_flag\n",
      "1    202\n",
      "Name: optout_flag, dtype: int64\n",
      "[0 1]\n",
      "7\n",
      "optout_flag\n",
      "1    187\n",
      "Name: optout_flag, dtype: int64\n",
      "[0 1]\n",
      "8\n",
      "optout_flag\n",
      "1    179\n",
      "Name: optout_flag, dtype: int64\n",
      "[0 1]\n",
      "9\n",
      "optout_flag\n",
      "1    186\n",
      "Name: optout_flag, dtype: int64\n",
      "[0 1]\n",
      "10\n",
      "optout_flag\n",
      "1    166\n",
      "Name: optout_flag, dtype: int64\n",
      "[0 1]\n",
      "11\n",
      "optout_flag\n",
      "1    172\n",
      "Name: optout_flag, dtype: int64\n",
      "[0 1]\n",
      "12\n",
      "optout_flag\n",
      "1    203\n",
      "Name: optout_flag, dtype: int64\n",
      "[0 1]\n",
      "13\n",
      "optout_flag\n",
      "1    194\n",
      "Name: optout_flag, dtype: int64\n",
      "[0 1]\n",
      "14\n",
      "optout_flag\n",
      "1    192\n",
      "Name: optout_flag, dtype: int64\n",
      "[0 1]\n",
      "15\n",
      "optout_flag\n",
      "1    206\n",
      "Name: optout_flag, dtype: int64\n",
      "[0 1]\n",
      "16\n",
      "optout_flag\n",
      "1    189\n",
      "Name: optout_flag, dtype: int64\n",
      "[0 1]\n",
      "17\n",
      "optout_flag\n",
      "1    193\n",
      "Name: optout_flag, dtype: int64\n",
      "[0 1]\n",
      "18\n",
      "optout_flag\n",
      "1    187\n",
      "Name: optout_flag, dtype: int64\n",
      "[0 1]\n",
      "19\n",
      "optout_flag\n",
      "1    198\n",
      "Name: optout_flag, dtype: int64\n",
      "[0 1]\n",
      "20\n",
      "optout_flag\n",
      "1    167\n",
      "Name: optout_flag, dtype: int64\n",
      "[0 1]\n",
      "21\n",
      "optout_flag\n",
      "1    212\n",
      "Name: optout_flag, dtype: int64\n",
      "[0 1]\n",
      "22\n",
      "optout_flag\n",
      "1    177\n",
      "Name: optout_flag, dtype: int64\n",
      "[0 1]\n",
      "23\n",
      "optout_flag\n",
      "1    171\n",
      "Name: optout_flag, dtype: int64\n",
      "[0 1]\n",
      "24\n",
      "optout_flag\n",
      "1    177\n",
      "Name: optout_flag, dtype: int64\n",
      "[0 1]\n",
      "25\n",
      "optout_flag\n",
      "1    180\n",
      "Name: optout_flag, dtype: int64\n",
      "[0 1]\n",
      "26\n",
      "optout_flag\n",
      "1    198\n",
      "Name: optout_flag, dtype: int64\n",
      "[0 1]\n",
      "27\n",
      "optout_flag\n",
      "1    201\n",
      "Name: optout_flag, dtype: int64\n",
      "[0 1]\n",
      "28\n",
      "optout_flag\n",
      "1    194\n",
      "Name: optout_flag, dtype: int64\n",
      "[0 1]\n",
      "29\n",
      "optout_flag\n",
      "1    182\n",
      "Name: optout_flag, dtype: int64\n",
      "[0 1]\n",
      "30\n",
      "optout_flag\n",
      "1    197\n",
      "Name: optout_flag, dtype: int64\n",
      "[0 1]\n",
      "31\n",
      "optout_flag\n",
      "1    173\n",
      "Name: optout_flag, dtype: int64\n",
      "[0 1]\n",
      "32\n",
      "optout_flag\n",
      "1    150\n",
      "Name: optout_flag, dtype: int64\n",
      "[0 1]\n",
      "33\n",
      "optout_flag\n",
      "1    208\n",
      "Name: optout_flag, dtype: int64\n",
      "[0 1]\n",
      "34\n",
      "optout_flag\n",
      "1    179\n",
      "Name: optout_flag, dtype: int64\n",
      "[0 1]\n",
      "35\n",
      "optout_flag\n",
      "1    199\n",
      "Name: optout_flag, dtype: int64\n",
      "[0 1]\n",
      "36\n",
      "optout_flag\n",
      "1    216\n",
      "Name: optout_flag, dtype: int64\n",
      "[0 1]\n",
      "37\n",
      "optout_flag\n",
      "1    182\n",
      "Name: optout_flag, dtype: int64\n",
      "[0 1]\n",
      "38\n",
      "optout_flag\n",
      "1    177\n",
      "Name: optout_flag, dtype: int64\n",
      "[0 1]\n",
      "39\n",
      "optout_flag\n",
      "1    163\n",
      "Name: optout_flag, dtype: int64\n",
      "[0 1]\n",
      "40\n",
      "optout_flag\n",
      "1    198\n",
      "Name: optout_flag, dtype: int64\n",
      "[0 1]\n",
      "41\n",
      "optout_flag\n",
      "1    178\n",
      "Name: optout_flag, dtype: int64\n",
      "[0 1]\n",
      "42\n",
      "optout_flag\n",
      "1    219\n",
      "Name: optout_flag, dtype: int64\n",
      "[0 1]\n",
      "43\n",
      "optout_flag\n",
      "1    162\n",
      "Name: optout_flag, dtype: int64\n",
      "[0 1]\n",
      "44\n",
      "optout_flag\n",
      "1    152\n",
      "Name: optout_flag, dtype: int64\n",
      "[0 1]\n"
     ]
    }
   ],
   "source": [
    "scores_list = []\n",
    "i=0\n",
    "for chunk in iterator:\n",
    "    print(i)\n",
    "    print( chunk.groupby('optout_flag')['optout_flag'].count())\n",
    "    chunk = numeric_fill_na(chunk)\n",
    "    chunk = categorical_fill_na(chunk)\n",
    "    chunk = replacing_empty_strings(chunk)\n",
    "    #del chunk['account_num']\n",
    "    del chunk['optout_date']\n",
    "    #del chunk['activesub']\n",
    "    del chunk['ee_customer_id']\n",
    "    del chunk['optout_cnt']\n",
    "   \n",
    "    X_out = chunk.loc[:, chunk.columns != 'optout_flag']\n",
    "    Y_out = chunk.optout_flag.values\n",
    "    X_out = one_hot_encoding_test(X_out)\n",
    "    X_out = scaler.transform(X_out)\n",
    "    predictions = VarietionalAutoEncoder.predict(X_out)\n",
    "    mse = np.mean(np.power(X_out - predictions, 2), axis=1)\n",
    "    df_final = pd.DataFrame(columns = ['prediction', 'actual'])\n",
    "    df_final['prediction'] = mse\n",
    "    df_final['actual'] = Y_out\n",
    "    scores_list.append(df_final)\n",
    "    print(df_final.actual.unique())\n",
    "    i=i+1\n",
    "    #del X_out\n",
    "    del predictions\n",
    "    del df_final\n",
    "    del chunk"
   ]
  },
  {
   "cell_type": "code",
   "execution_count": 48,
   "metadata": {},
   "outputs": [],
   "source": [
    "all_scores = pd.concat(scores_list, ignore_index=True)"
   ]
  },
  {
   "cell_type": "code",
   "execution_count": 49,
   "metadata": {},
   "outputs": [],
   "source": [
    "### Plot fraction of converting customers reached vs. n of deciles targeted\n",
    "import numpy as np\n",
    "# all_scores.fillna(0, inplace=True)\n",
    "deciles = []\n",
    "recalls = []\n",
    "precisions = []\n",
    "thresholds = []\n",
    "for n in range(1,11):\n",
    "    \n",
    "    deciles.append(n)\n",
    "    \n",
    "    threshold = np.percentile(all_scores.prediction, np.arange(0,100,10))[-n]\n",
    "    thresholds.append(threshold)\n",
    "    \n",
    "    predictions = []\n",
    "    for value in all_scores.prediction:\n",
    "        if value >= threshold:\n",
    "            predictions.append(1.0)\n",
    "        else:\n",
    "            predictions.append(0.0)\n",
    "            \n",
    "    recall = recall_score(all_scores.actual, predictions)\n",
    "    \n",
    "    recalls.append(recall)\n",
    "    \n",
    "    precision = precision_score(all_scores.actual, predictions)\n",
    "    \n",
    "    precisions.append(precision)"
   ]
  },
  {
   "cell_type": "code",
   "execution_count": 50,
   "metadata": {},
   "outputs": [
    {
     "data": {
      "image/png": "[encoded data removed]",
      "text/plain": [
       "<Figure size 720x360 with 1 Axes>"
      ]
     },
     "metadata": {
      "needs_background": "light"
     },
     "output_type": "display_data"
    }
   ],
   "source": [
    "import matplotlib.pyplot as plt\n",
    "fig, ax = plt.subplots(figsize=(10,5))\n",
    "plt.plot(deciles, [round(x*100,1) for x in recalls], marker='o', c='Indigo', markersize=15, linewidth=3)\n",
    "plt.xlabel('Decile', fontsize=15)\n",
    "plt.ylabel('Fraction of total conversions recovered [%]', fontsize=15)\n",
    "plt.xticks(np.arange(1, 10+1, 1), fontsize=15)\n",
    "plt.yticks(np.arange(10, 100+1, 10), fontsize=15)\n",
    "plt.grid()\n",
    "plt.show()"
   ]
  },
  {
   "cell_type": "markdown",
   "metadata": {},
   "source": [
    "# 2 times better than random "
   ]
  },
  {
   "cell_type": "code",
   "execution_count": 51,
   "metadata": {},
   "outputs": [
    {
     "data": {
      "text/plain": [
       "[0.23912009512485136,\n",
       " 0.3409036860879905,\n",
       " 0.43448275862068964,\n",
       " 0.5310344827586206,\n",
       " 0.616052318668252,\n",
       " 0.6954815695600476,\n",
       " 0.7686087990487515,\n",
       " 0.8321046373365042,\n",
       " 0.915576694411415,\n",
       " 1.0]"
      ]
     },
     "execution_count": 51,
     "metadata": {},
     "output_type": "execute_result"
    }
   ],
   "source": [
    "recalls"
   ]
  },
  {
   "cell_type": "code",
   "execution_count": null,
   "metadata": {},
   "outputs": [],
   "source": []
  },
  {
   "cell_type": "code",
   "execution_count": null,
   "metadata": {},
   "outputs": [],
   "source": []
  },
  {
   "cell_type": "code",
   "execution_count": null,
   "metadata": {},
   "outputs": [],
   "source": []
  },
  {
   "cell_type": "code",
   "execution_count": null,
   "metadata": {},
   "outputs": [],
   "source": []
  },
  {
   "cell_type": "code",
   "execution_count": null,
   "metadata": {},
   "outputs": [],
   "source": []
  }
 ],
 "metadata": {
  "kernelspec": {
   "display_name": "conda_python3",
   "language": "python",
   "name": "conda_python3"
  },
  "language_info": {
   "codemirror_mode": {
    "name": "ipython",
    "version": 3
   },
   "file_extension": ".py",
   "mimetype": "text/x-python",
   "name": "python",
   "nbconvert_exporter": "python",
   "pygments_lexer": "ipython3",
   "version": "3.6.10"
  }
 },
 "nbformat": 4,
 "nbformat_minor": 4
}
