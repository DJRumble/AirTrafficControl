{
 "cells": [
  {
   "cell_type": "code",
   "execution_count": 4,
   "metadata": {
    "collapsed": true,
    "jupyter": {
     "outputs_hidden": true
    }
   },
   "outputs": [
    {
     "name": "stdout",
     "output_type": "stream",
     "text": [
      "Collecting pandas==1.0.5\n",
      "  Using cached pandas-1.0.5-cp36-cp36m-manylinux1_x86_64.whl (10.1 MB)\n",
      "Requirement already satisfied: numpy>=1.13.3 in /home/ec2-user/anaconda3/envs/python3/lib/python3.6/site-packages (from pandas==1.0.5) (1.18.1)\n",
      "Requirement already satisfied: python-dateutil>=2.6.1 in /home/ec2-user/anaconda3/envs/python3/lib/python3.6/site-packages (from pandas==1.0.5) (2.8.1)\n",
      "Requirement already satisfied: pytz>=2017.2 in /home/ec2-user/anaconda3/envs/python3/lib/python3.6/site-packages (from pandas==1.0.5) (2019.3)\n",
      "Requirement already satisfied: six>=1.5 in /home/ec2-user/anaconda3/envs/python3/lib/python3.6/site-packages (from python-dateutil>=2.6.1->pandas==1.0.5) (1.14.0)\n",
      "Installing collected packages: pandas\n",
      "  Attempting uninstall: pandas\n",
      "    Found existing installation: pandas 1.1.4\n",
      "    Uninstalling pandas-1.1.4:\n",
      "      Successfully uninstalled pandas-1.1.4\n",
      "Successfully installed pandas-1.0.5\n",
      "\u001b[33mWARNING: You are using pip version 20.0.2; however, version 20.2.4 is available.\n",
      "You should consider upgrading via the '/home/ec2-user/anaconda3/envs/python3/bin/python -m pip install --upgrade pip' command.\u001b[0m\n",
      "Requirement already satisfied: pyathena in /home/ec2-user/anaconda3/envs/python3/lib/python3.6/site-packages (2.0.0)\n",
      "Requirement already satisfied: tenacity>=4.1.0 in /home/ec2-user/anaconda3/envs/python3/lib/python3.6/site-packages (from pyathena) (6.2.0)\n",
      "Requirement already satisfied: botocore>=1.5.52 in /home/ec2-user/anaconda3/envs/python3/lib/python3.6/site-packages (from pyathena) (1.19.9)\n",
      "Requirement already satisfied: boto3>=1.4.4 in /home/ec2-user/anaconda3/envs/python3/lib/python3.6/site-packages (from pyathena) (1.16.9)\n",
      "Requirement already satisfied: six>=1.9.0 in /home/ec2-user/anaconda3/envs/python3/lib/python3.6/site-packages (from tenacity>=4.1.0->pyathena) (1.14.0)\n",
      "Requirement already satisfied: jmespath<1.0.0,>=0.7.1 in /home/ec2-user/anaconda3/envs/python3/lib/python3.6/site-packages (from botocore>=1.5.52->pyathena) (0.10.0)\n",
      "Requirement already satisfied: urllib3<1.26,>=1.25.4; python_version != \"3.4\" in /home/ec2-user/anaconda3/envs/python3/lib/python3.6/site-packages (from botocore>=1.5.52->pyathena) (1.25.10)\n",
      "Requirement already satisfied: python-dateutil<3.0.0,>=2.1 in /home/ec2-user/anaconda3/envs/python3/lib/python3.6/site-packages (from botocore>=1.5.52->pyathena) (2.8.1)\n",
      "Requirement already satisfied: s3transfer<0.4.0,>=0.3.0 in /home/ec2-user/anaconda3/envs/python3/lib/python3.6/site-packages (from boto3>=1.4.4->pyathena) (0.3.3)\n",
      "\u001b[33mWARNING: You are using pip version 20.0.2; however, version 20.2.4 is available.\n",
      "You should consider upgrading via the '/home/ec2-user/anaconda3/envs/python3/bin/python -m pip install --upgrade pip' command.\u001b[0m\n",
      "Requirement already satisfied: s3fs==0.4.2 in /home/ec2-user/anaconda3/envs/python3/lib/python3.6/site-packages (0.4.2)\n",
      "Requirement already satisfied: botocore>=1.12.91 in /home/ec2-user/anaconda3/envs/python3/lib/python3.6/site-packages (from s3fs==0.4.2) (1.19.9)\n",
      "Requirement already satisfied: fsspec>=0.6.0 in /home/ec2-user/anaconda3/envs/python3/lib/python3.6/site-packages (from s3fs==0.4.2) (0.6.2)\n",
      "Requirement already satisfied: jmespath<1.0.0,>=0.7.1 in /home/ec2-user/anaconda3/envs/python3/lib/python3.6/site-packages (from botocore>=1.12.91->s3fs==0.4.2) (0.10.0)\n",
      "Requirement already satisfied: python-dateutil<3.0.0,>=2.1 in /home/ec2-user/anaconda3/envs/python3/lib/python3.6/site-packages (from botocore>=1.12.91->s3fs==0.4.2) (2.8.1)\n",
      "Requirement already satisfied: urllib3<1.26,>=1.25.4; python_version != \"3.4\" in /home/ec2-user/anaconda3/envs/python3/lib/python3.6/site-packages (from botocore>=1.12.91->s3fs==0.4.2) (1.25.10)\n",
      "Requirement already satisfied: six>=1.5 in /home/ec2-user/anaconda3/envs/python3/lib/python3.6/site-packages (from python-dateutil<3.0.0,>=2.1->botocore>=1.12.91->s3fs==0.4.2) (1.14.0)\n",
      "\u001b[33mWARNING: You are using pip version 20.0.2; however, version 20.2.4 is available.\n",
      "You should consider upgrading via the '/home/ec2-user/anaconda3/envs/python3/bin/python -m pip install --upgrade pip' command.\u001b[0m\n",
      "Requirement already satisfied: watchtower in /home/ec2-user/anaconda3/envs/python3/lib/python3.6/site-packages (1.0.0)\n",
      "Requirement already satisfied: boto3<2,>=1.9.253 in /home/ec2-user/anaconda3/envs/python3/lib/python3.6/site-packages (from watchtower) (1.16.9)\n",
      "Requirement already satisfied: s3transfer<0.4.0,>=0.3.0 in /home/ec2-user/anaconda3/envs/python3/lib/python3.6/site-packages (from boto3<2,>=1.9.253->watchtower) (0.3.3)\n",
      "Requirement already satisfied: jmespath<1.0.0,>=0.7.1 in /home/ec2-user/anaconda3/envs/python3/lib/python3.6/site-packages (from boto3<2,>=1.9.253->watchtower) (0.10.0)\n",
      "Requirement already satisfied: botocore<1.20.0,>=1.19.9 in /home/ec2-user/anaconda3/envs/python3/lib/python3.6/site-packages (from boto3<2,>=1.9.253->watchtower) (1.19.9)\n",
      "Requirement already satisfied: urllib3<1.26,>=1.25.4; python_version != \"3.4\" in /home/ec2-user/anaconda3/envs/python3/lib/python3.6/site-packages (from botocore<1.20.0,>=1.19.9->boto3<2,>=1.9.253->watchtower) (1.25.10)\n",
      "Requirement already satisfied: python-dateutil<3.0.0,>=2.1 in /home/ec2-user/anaconda3/envs/python3/lib/python3.6/site-packages (from botocore<1.20.0,>=1.19.9->boto3<2,>=1.9.253->watchtower) (2.8.1)\n",
      "Requirement already satisfied: six>=1.5 in /home/ec2-user/anaconda3/envs/python3/lib/python3.6/site-packages (from python-dateutil<3.0.0,>=2.1->botocore<1.20.0,>=1.19.9->boto3<2,>=1.9.253->watchtower) (1.14.0)\n",
      "\u001b[33mWARNING: You are using pip version 20.0.2; however, version 20.2.4 is available.\n",
      "You should consider upgrading via the '/home/ec2-user/anaconda3/envs/python3/bin/python -m pip install --upgrade pip' command.\u001b[0m\n",
      "Requirement already satisfied: xgboost==0.90 in /home/ec2-user/anaconda3/envs/python3/lib/python3.6/site-packages (0.90)\n",
      "Requirement already satisfied: numpy in /home/ec2-user/anaconda3/envs/python3/lib/python3.6/site-packages (from xgboost==0.90) (1.18.1)\n",
      "Requirement already satisfied: scipy in /home/ec2-user/anaconda3/envs/python3/lib/python3.6/site-packages (from xgboost==0.90) (1.4.1)\n",
      "\u001b[33mWARNING: You are using pip version 20.0.2; however, version 20.2.4 is available.\n",
      "You should consider upgrading via the '/home/ec2-user/anaconda3/envs/python3/bin/python -m pip install --upgrade pip' command.\u001b[0m\n",
      "Requirement already satisfied: bayesian-optimization in /home/ec2-user/anaconda3/envs/python3/lib/python3.6/site-packages (1.2.0)\n",
      "Requirement already satisfied: scikit-learn>=0.18.0 in /home/ec2-user/anaconda3/envs/python3/lib/python3.6/site-packages (from bayesian-optimization) (0.22.1)\n",
      "Requirement already satisfied: scipy>=0.14.0 in /home/ec2-user/anaconda3/envs/python3/lib/python3.6/site-packages (from bayesian-optimization) (1.4.1)\n",
      "Requirement already satisfied: numpy>=1.9.0 in /home/ec2-user/anaconda3/envs/python3/lib/python3.6/site-packages (from bayesian-optimization) (1.18.1)\n",
      "Requirement already satisfied: joblib>=0.11 in /home/ec2-user/anaconda3/envs/python3/lib/python3.6/site-packages (from scikit-learn>=0.18.0->bayesian-optimization) (0.14.1)\n",
      "\u001b[33mWARNING: You are using pip version 20.0.2; however, version 20.2.4 is available.\n",
      "You should consider upgrading via the '/home/ec2-user/anaconda3/envs/python3/bin/python -m pip install --upgrade pip' command.\u001b[0m\n",
      "Requirement already satisfied: shap in /home/ec2-user/anaconda3/envs/python3/lib/python3.6/site-packages (0.37.0)\n",
      "Requirement already satisfied: tqdm>4.25.0 in /home/ec2-user/anaconda3/envs/python3/lib/python3.6/site-packages (from shap) (4.42.1)\n",
      "Requirement already satisfied: scipy in /home/ec2-user/anaconda3/envs/python3/lib/python3.6/site-packages (from shap) (1.4.1)\n",
      "Requirement already satisfied: numpy in /home/ec2-user/anaconda3/envs/python3/lib/python3.6/site-packages (from shap) (1.18.1)\n",
      "Requirement already satisfied: slicer==0.0.3 in /home/ec2-user/anaconda3/envs/python3/lib/python3.6/site-packages (from shap) (0.0.3)\n",
      "Requirement already satisfied: pandas in /home/ec2-user/anaconda3/envs/python3/lib/python3.6/site-packages (from shap) (1.0.5)\n",
      "Requirement already satisfied: scikit-learn in /home/ec2-user/anaconda3/envs/python3/lib/python3.6/site-packages (from shap) (0.22.1)\n",
      "Requirement already satisfied: numba in /home/ec2-user/anaconda3/envs/python3/lib/python3.6/site-packages (from shap) (0.48.0)\n",
      "Requirement already satisfied: python-dateutil>=2.6.1 in /home/ec2-user/anaconda3/envs/python3/lib/python3.6/site-packages (from pandas->shap) (2.8.1)\n",
      "Requirement already satisfied: pytz>=2017.2 in /home/ec2-user/anaconda3/envs/python3/lib/python3.6/site-packages (from pandas->shap) (2019.3)\n",
      "Requirement already satisfied: joblib>=0.11 in /home/ec2-user/anaconda3/envs/python3/lib/python3.6/site-packages (from scikit-learn->shap) (0.14.1)\n",
      "Requirement already satisfied: llvmlite<0.32.0,>=0.31.0dev0 in /home/ec2-user/anaconda3/envs/python3/lib/python3.6/site-packages (from numba->shap) (0.31.0)\n",
      "Requirement already satisfied: setuptools in /home/ec2-user/anaconda3/envs/python3/lib/python3.6/site-packages (from numba->shap) (45.2.0.post20200210)\n",
      "Requirement already satisfied: six>=1.5 in /home/ec2-user/anaconda3/envs/python3/lib/python3.6/site-packages (from python-dateutil>=2.6.1->pandas->shap) (1.14.0)\n",
      "\u001b[33mWARNING: You are using pip version 20.0.2; however, version 20.2.4 is available.\n",
      "You should consider upgrading via the '/home/ec2-user/anaconda3/envs/python3/bin/python -m pip install --upgrade pip' command.\u001b[0m\n",
      "Requirement already satisfied: keras in /home/ec2-user/anaconda3/envs/python3/lib/python3.6/site-packages (2.4.3)\n",
      "Requirement already satisfied: pyyaml in /home/ec2-user/anaconda3/envs/python3/lib/python3.6/site-packages (from keras) (5.3.1)\n",
      "Requirement already satisfied: scipy>=0.14 in /home/ec2-user/anaconda3/envs/python3/lib/python3.6/site-packages (from keras) (1.4.1)\n",
      "Requirement already satisfied: numpy>=1.9.1 in /home/ec2-user/anaconda3/envs/python3/lib/python3.6/site-packages (from keras) (1.18.1)\n",
      "Requirement already satisfied: h5py in /home/ec2-user/anaconda3/envs/python3/lib/python3.6/site-packages (from keras) (2.10.0)\n",
      "Requirement already satisfied: six in /home/ec2-user/anaconda3/envs/python3/lib/python3.6/site-packages (from h5py->keras) (1.14.0)\n",
      "\u001b[33mWARNING: You are using pip version 20.0.2; however, version 20.2.4 is available.\n",
      "You should consider upgrading via the '/home/ec2-user/anaconda3/envs/python3/bin/python -m pip install --upgrade pip' command.\u001b[0m\n",
      "\u001b[31mERROR: Could not find a version that satisfies the requirement tensorlfow (from versions: none)\u001b[0m\n",
      "\u001b[31mERROR: No matching distribution found for tensorlfow\u001b[0m\n",
      "\u001b[33mWARNING: You are using pip version 20.0.2; however, version 20.2.4 is available.\n",
      "You should consider upgrading via the '/home/ec2-user/anaconda3/envs/python3/bin/python -m pip install --upgrade pip' command.\u001b[0m\n",
      "Collecting fsspec\n",
      "  Using cached fsspec-0.8.4-py3-none-any.whl (91 kB)\n",
      "Installing collected packages: fsspec\n",
      "  Attempting uninstall: fsspec\n",
      "    Found existing installation: fsspec 0.6.2\n",
      "    Uninstalling fsspec-0.6.2:\n",
      "      Successfully uninstalled fsspec-0.6.2\n",
      "Successfully installed fsspec-0.8.4\n",
      "\u001b[33mWARNING: You are using pip version 20.0.2; however, version 20.2.4 is available.\n",
      "You should consider upgrading via the '/home/ec2-user/anaconda3/envs/python3/bin/python -m pip install --upgrade pip' command.\u001b[0m\n"
     ]
    }
   ],
   "source": [
    "!pip install pandas==1.0.5\n",
    "!pip install pyathena\n",
    "!pip install s3fs==0.4.2\n",
    "!pip install watchtower\n",
    "!pip install xgboost==0.90\n",
    "!pip install bayesian-optimization\n",
    "!pip install shap\n",
    "!pip install keras\n",
    "!pip install tensorlfow\n",
    "!pip install --upgrade fsspec"
   ]
  },
  {
   "cell_type": "code",
   "execution_count": 27,
   "metadata": {},
   "outputs": [],
   "source": [
    "from IPython import get_ipython\n",
    "get_ipython().magic('reset -sf')"
   ]
  },
  {
   "cell_type": "code",
   "execution_count": 28,
   "metadata": {},
   "outputs": [],
   "source": [
    "import pickle\n",
    "def numeric_fill_na(dataset):\n",
    "    numeric_columns = list(dataset.select_dtypes(\n",
    "        include=\"number\").columns.values)\n",
    "    for col in numeric_columns:\n",
    "        dataset[col] = dataset[col].fillna(0)  # filling missing vlaues with -1\n",
    "    return dataset\n",
    "\n",
    "\n",
    "def categorical_fill_na(dataset):\n",
    "    cat_columns = list(dataset.select_dtypes(\n",
    "        include=\"object\").columns.values)\n",
    "    for col in cat_columns:\n",
    "        dataset[col] = dataset[col].fillna('UNKNOWN')\n",
    "    return dataset\n",
    "\n",
    "def replacing_empty_strings(dataset):\n",
    "    for column in list(dataset):\n",
    "        dataset[column]=dataset[column].replace(['',' '], 'UNKNOWN')\n",
    "    return dataset\n",
    "\n",
    "def one_hot_encoding_train(dataset,normalize=False,levels_limit=200):\n",
    "    fs = s3fs.S3FileSystem(anon=False) \n",
    "    if normalize == True:\n",
    "        '''Normalize numeric data'''\n",
    "        from sklearn.preprocessing import MinMaxScaler\n",
    "        from sklearn.externals import joblib\n",
    "        '''Get numeric columns'''\n",
    "        numeric_columns = list(dataset.select_dtypes(\n",
    "            include=\"number\").columns.values)\n",
    "        scaler = MinMaxScaler()\n",
    "        dataset[numeric_columns] = scaler.fit_transform(\n",
    "            dataset[numeric_columns])\n",
    "        with open('./model_artifacts/skaler.pkl', 'wb') as f:\n",
    "            pickle.dump(scaler, f)\n",
    "    '''Collect all the categorical columns'''\n",
    "    cat_columns = list(dataset.select_dtypes(include=\"object\").columns.values)\n",
    "    for col in cat_columns:\n",
    "        column_length = (len(dataset[col].unique()))\n",
    "        if column_length > levels_limit:\n",
    "            dataset.drop(str(col), axis=1, inplace=True)\n",
    "            cat_columns.remove(col)\n",
    "    '''Apply the get dummies function and create a new DataFrame fto store processed data:'''\n",
    "    df_processed = pd.get_dummies(dataset, prefix_sep=\"__\",\n",
    "                                  columns=cat_columns)\n",
    "    '''Keep a list of all the one hot encodeded columns in order \n",
    "    to make sure that we can build the exact same columns on the test dataset.'''\n",
    "    cat_dummies = [col for col in df_processed\n",
    "                   if \"__\" in col\n",
    "                   and col.split(\"__\")[0] in cat_columns]\n",
    "    '''Also save the list of columns so we can enforce the order of columns later on.'''\n",
    "    processed_columns = list(df_processed.columns[:])\n",
    "    '''Save all the nesecarry lists into pickles'''\n",
    "    with open('./model_artifacts/cat_columns.pkl', 'wb')  as f:\n",
    "        pickle.dump(cat_columns, f)\n",
    "    with open('./model_artifacts/cat_dummies.pkl', 'wb') as f:\n",
    "        pickle.dump(cat_dummies, f)\n",
    "    with open('./model_artifacts/processed_columns.pkl', 'wb') as f:\n",
    "        pickle.dump(processed_columns, f)\n",
    "    return df_processed, cat_columns, cat_dummies, processed_columns\n",
    "\n",
    "def one_hot_encoding_test(test_dataset,normalize=False):\n",
    "    '''Process the unseen (test) data!'''\n",
    "    '''Load nessecary lists from pickles'''\n",
    "    if normalize == True:\n",
    "        '''Normalize numeric data'''\n",
    "        from sklearn.preprocessing import MinMaxScaler\n",
    "        from sklearn.externals import joblib\n",
    "        '''Get numeric columns'''\n",
    "        numeric_columns = list(test_dataset.select_dtypes(\n",
    "            include=\"number\").columns.values)\n",
    "        with open('./model_artifacts/skaler.pkl', 'rb') as f:\n",
    "            scaler = pickle.load(f)\n",
    "        test_dataset[numeric_columns] = scaler.fit_transform(\n",
    "           test_dataset[numeric_columns])\n",
    "    fs = s3fs.S3FileSystem(anon=False)\n",
    "    with open('./model_artifacts/cat_columns.pkl', 'rb') as f:\n",
    "        cat_columns = pickle.load(f)\n",
    "    with open('./model_artifacts/cat_dummies.pkl', 'rb') as f:\n",
    "        cat_dummies = pickle.load(f)\n",
    "    with open('./model_artifacts/processed_columns.pkl', 'rb') as f:\n",
    "        processed_columns = pickle.load(f)\n",
    "    df_test_processed = pd.get_dummies(test_dataset, prefix_sep=\"__\",\n",
    "                                       columns=cat_columns)\n",
    "    for col in df_test_processed.columns:\n",
    "        if (\"__\" in col) and (col.split(\"__\")[0] in cat_columns) and col not in cat_dummies:\n",
    "            print(\"Removing (not in training) additional feature  {}\".format(col))\n",
    "            df_test_processed.drop(col, axis=1, inplace=True)\n",
    "    for col in cat_dummies:\n",
    "        if col not in df_test_processed.columns:\n",
    "            print(\"Adding missing feature {}\".format(col))\n",
    "            df_test_processed[col] = 0\n",
    "    '''Reorder the columns based on the training dataset'''\n",
    "    df_test_processed = df_test_processed[processed_columns]\n",
    "    return df_test_processed"
   ]
  },
  {
   "cell_type": "code",
   "execution_count": 29,
   "metadata": {},
   "outputs": [],
   "source": [
    "import xgboost as xgb\n",
    "from bayes_opt import BayesianOptimization\n",
    "from sklearn.metrics import recall_score\n",
    "from sklearn.metrics import precision_score\n",
    "from sklearn.metrics import accuracy_score\n",
    "from sklearn.metrics import f1_score\n",
    "from sklearn.model_selection import StratifiedShuffleSplit\n",
    "from sklearn.metrics import confusion_matrix, classification_report\n",
    "import pandas as pd\n",
    "import numpy as np \n",
    "import pickle\n",
    "from sklearn.model_selection import train_test_split\n",
    "import s3fs\n",
    "from sklearn.utils import shuffle\n",
    "import matplotlib.pyplot as plt"
   ]
  },
  {
   "cell_type": "code",
   "execution_count": 30,
   "metadata": {},
   "outputs": [
    {
     "name": "stderr",
     "output_type": "stream",
     "text": [
      "2020-11-23 10:20:29,694 [INFO ]  starting Athena query ...\n",
      "2020-11-23 10:21:15,725 [INFO ]  loading 7abd6655-a208-4962-a54d-a3d2f5b044dc.csv\n",
      "2020-11-23 10:21:15,874 [INFO ]  Athena query complete: returning iterator object\n"
     ]
    }
   ],
   "source": [
    "from aws_tools.athena_tools import AthenaQuerier\n",
    "athena = AthenaQuerier()\n",
    "sql_code = '''\n",
    "select * from campaign_data.optout_model_base_features_combined_comm\n",
    "'''\n",
    "df_test_load = pd.concat(list(athena.execute_query(sql_code, **{'chunksize':500000})),axis=0)"
   ]
  },
  {
   "cell_type": "code",
   "execution_count": 31,
   "metadata": {},
   "outputs": [],
   "source": [
    "df_test_load = shuffle(df_test_load) #shuffle data so i dont have all the 0s and 1s stacked together"
   ]
  },
  {
   "cell_type": "code",
   "execution_count": 32,
   "metadata": {},
   "outputs": [],
   "source": [
    "#del df_test_load['account_num']\n",
    "del df_test_load['optout_date']\n",
    "#del df_test_load['activesub']\n",
    "del df_test_load['optout_cnt']"
   ]
  },
  {
   "cell_type": "code",
   "execution_count": 33,
   "metadata": {},
   "outputs": [],
   "source": [
    "df_test_load = numeric_fill_na(df_test_load)\n",
    "df_test_load = categorical_fill_na(df_test_load)\n",
    "df_test_load = replacing_empty_strings(df_test_load)"
   ]
  },
  {
   "cell_type": "code",
   "execution_count": 34,
   "metadata": {},
   "outputs": [
    {
     "data": {
      "text/plain": [
       "False"
      ]
     },
     "execution_count": 34,
     "metadata": {},
     "output_type": "execute_result"
    }
   ],
   "source": [
    "df_test_load.isnull().values.any()"
   ]
  },
  {
   "cell_type": "code",
   "execution_count": 35,
   "metadata": {},
   "outputs": [
    {
     "data": {
      "text/plain": [
       "array([0, 1])"
      ]
     },
     "execution_count": 35,
     "metadata": {},
     "output_type": "execute_result"
    }
   ],
   "source": [
    "df_test_load.optout_flag.unique()"
   ]
  },
  {
   "cell_type": "code",
   "execution_count": 36,
   "metadata": {},
   "outputs": [],
   "source": [
    "train_1, test = train_test_split(\n",
    "    df_test_load, test_size=0.15, random_state=123)\n",
    "\n",
    "train, validation = train_test_split(\n",
    "    train_1, test_size=0.15, random_state=123)"
   ]
  },
  {
   "cell_type": "code",
   "execution_count": 37,
   "metadata": {},
   "outputs": [
    {
     "name": "stdout",
     "output_type": "stream",
     "text": [
      "(384060, 433)\n",
      "(310380, 433)\n"
     ]
    }
   ],
   "source": [
    "# # Keep only negative cases for training. It is an autoeoncer so i want ot learn how to recustracut as well as possile only the negative classes so \n",
    "# in testing it will \"hopefully\" have even higher re-consturction error for the postive classes\n",
    "# A lot of tutorials train the autoencoder on both negative and positives but there are some papers that argue that you should only train it on negative cases\n",
    "print(train.shape)\n",
    "train=train.loc[train['optout_flag'] == 0]\n",
    "print(train.shape)\n",
    "### Keep in mind that 300,000 records with 433 columns is not that many examples probably we will have to use a lot bigger dataset "
   ]
  },
  {
   "cell_type": "code",
   "execution_count": 38,
   "metadata": {},
   "outputs": [],
   "source": [
    "target_idx = train.columns.get_loc(\"optout_flag\")\n",
    "X_train = train.loc[:, train.columns != 'optout_flag']\n",
    "Y_train = train[train.columns[target_idx]]\n",
    "\n",
    "X_validation = validation.loc[:, validation.columns != 'optout_flag']\n",
    "Y_validation = validation[validation.columns[target_idx]]\n",
    "\n",
    "X_test = test.loc[:, test.columns != 'optout_flag']\n",
    "Y_test = test[test.columns[target_idx]]"
   ]
  },
  {
   "cell_type": "code",
   "execution_count": 39,
   "metadata": {},
   "outputs": [],
   "source": [
    "'''Store SUB_ID seperately and drop them from our datasets'''\n",
    "SUB_ID_train = train.ee_customer_id.values\n",
    "SUB_ID_validation = validation.ee_customer_id.values\n",
    "SUB_ID_test = test.ee_customer_id.values\n",
    "del X_train['ee_customer_id']\n",
    "del X_validation['ee_customer_id']\n",
    "del X_test['ee_customer_id']"
   ]
  },
  {
   "cell_type": "code",
   "execution_count": 40,
   "metadata": {},
   "outputs": [],
   "source": [
    "X_train, cat_columns, cat_dummies, processed_columns = one_hot_encoding_train(\n",
    "    X_train)\n",
    "X_validation = one_hot_encoding_test(X_validation)\n",
    "X_test = one_hot_encoding_test(X_test)"
   ]
  },
  {
   "cell_type": "code",
   "execution_count": 41,
   "metadata": {},
   "outputs": [],
   "source": [
    "from sklearn.preprocessing import StandardScaler\n",
    "from sklearn.preprocessing import Normalizer, MinMaxScaler\n",
    "from sklearn.pipeline import Pipeline"
   ]
  },
  {
   "cell_type": "code",
   "execution_count": 42,
   "metadata": {},
   "outputs": [],
   "source": [
    "# configure our pipeline so i cna apply both prerpoceisng stuff on one go\n",
    "scaler = Pipeline([('normalizer', Normalizer()), #keep in mind the normalization does the normalization row-wise!!! all the other preprosesing tools do the function column -wise\n",
    "                     ('scaler', MinMaxScaler())]) # a scaller is neccessary the normalizer is not that much keep in mind that the MinMaxScallser returns vlaues from 0-1\n",
    "# Depending on the activation function that you wnat to use moost of the times you will want the results to be between -1 and 1 so you might want ot change the MiNmax sclaler \n",
    "# wiht another proeproscing tool from skleanr.preprocessing. Keep also in mind that when you use \"relu\" activation funciton 0-1 should be ok\n",
    "#Also importnat thing is that if you do the normalization transfomr data to -1 and 1 range \n",
    "X_train = scaler.fit_transform(X_train)\n",
    "#Appky the scaller only on the X_train !!! and only feet it to the X_validation and X_train so we dont \"cheat\" and get infomration from the other 2 datasets"
   ]
  },
  {
   "cell_type": "code",
   "execution_count": 43,
   "metadata": {},
   "outputs": [],
   "source": [
    "X_validation = scaler.transform(X_validation)\n",
    "X_test = scaler.transform(X_test)"
   ]
  },
  {
   "cell_type": "code",
   "execution_count": 44,
   "metadata": {},
   "outputs": [],
   "source": [
    "with open('./model_artifacts/scaler.pkl', 'wb') as f:\n",
    "        pickle.dump(scaler, f)"
   ]
  },
  {
   "cell_type": "code",
   "execution_count": 45,
   "metadata": {},
   "outputs": [],
   "source": [
    "from keras.models import Model, load_model\n",
    "from keras.layers import Input, Dense,Dropout\n",
    "from keras import regularizers\n",
    "import keras\n",
    "from keras import initializers"
   ]
  },
  {
   "cell_type": "code",
   "execution_count": 46,
   "metadata": {},
   "outputs": [],
   "source": [
    "nb_epoch = 30 #200\n",
    "batch_size = 128\n",
    "#the batch size defines the number of samples that will be propagated through the network.\n",
    "#Typically networks train faster with mini-batches. That's because we update the weights after each propagation\n",
    "#If we used all samples during propagation we would make only 1 update for the network's parameter. (1 update per batch without batch_zsize)\n",
    "#The smaller the batch the less accurate the estimate of the gradient will be. but hte faster and more efficient in temrs of memory hte model is \n",
    "#And if you here stohastic-gradient dencet this means that a mini-batch with batch_size equal to 1\n",
    "learning_rate = 1e-5 #1e-5"
   ]
  },
  {
   "cell_type": "code",
   "execution_count": 47,
   "metadata": {},
   "outputs": [],
   "source": [
    "#Remember to run the step before re-ruuning the model. if you re-running just hte autoencoder fit step you will continue trainign from where you stop\n",
    "# This step clears Keras backend and also del the model object in that example i have named the model autoencoder so if you change hte name of the model\n",
    "# Please remember to change the part i say del autoencoder to the ney name you have given to the model\n",
    "keras.backend.clear_session()\n",
    "try:\n",
    "    del autoencoder\n",
    "except NameError:\n",
    "    var_exists = False"
   ]
  },
  {
   "cell_type": "markdown",
   "metadata": {},
   "source": [
    "#### Note: \n",
    "the models is being build using the functional API from keras most examples are using the sequential API (which is simpler)\n",
    "If you find a solution on some of your questions on stackoverflow most of the time they will use the Sequential API so you might have to tweak\n",
    "The answer a little bit to make it work with the functional API (the reason i used the functional API is that is equally simeple in my mind and it allowes \n",
    "for a bit more functionality while it reamins high-level)"
   ]
  },
  {
   "cell_type": "code",
   "execution_count": null,
   "metadata": {},
   "outputs": [],
   "source": [
    "input_dim = X_train.shape[1]\n",
    "# Building the Input Layer \n",
    "input_layer = Input(shape =(input_dim, )) \n",
    "  \n",
    "#Many diffrent initializers you can find them here https://keras.io/api/layers/initializers/\n",
    "# Building the Encoder network \n",
    "dropout = Dropout(0.1)(input_layer)# i would remove that just for training purpuses \n",
    "encoded = Dense(400, activation ='relu', activity_regularizer = regularizers.l1(10e-5) #0.01 default number\n",
    "                ,kernel_initializer=initializers.RandomNormal(stddev=0.01) #the inital value that the weight matrix for this layer has, we can try a more advanced technique\n",
    "                ,bias_initializer=initializers.Zeros() # similar to wieght nitalizearion this is for the bias matrix usualy 0s is ok for the bias dont waste time here \n",
    "                ,name=\"encoder_layer_1\")(dropout)  #(input_layer) # if you remove the dropout step then you will have to change the dropout in thise line ot the input_layer\n",
    "encoded = Dense(200, activation ='tanh', activity_regularizer = regularizers.l1(10e-5)\n",
    "                ,kernel_initializer=initializers.RandomUniform(minval=-0.05, maxval=0.05, seed=None)\n",
    "                ,bias_initializer=initializers.Zeros()\n",
    "                ,name=\"encoder_layer_2\")(encoded) # The name parapmer is totally optional it is jut helfu to anotate better the layers when you do mdoel.summary()\n",
    "encoded = Dense(100, activation ='elu',activity_regularizer = regularizers.l1(10e-5)\n",
    "                ,kernel_initializer=initializers.TruncatedNormal(mean=0.0, stddev=1.0)\n",
    "                ,bias_initializer=initializers.Zeros()\n",
    "                , name=\"encoder_layer_3\")(encoded) \n",
    "dropout = Dropout(0.1)(encoded)\n",
    "encoded = Dense(50, activation ='relu', name=\"encoder\")(dropout) #(dropout) # if you remove the dropout step then you will have to change the dropout in thise line ot the encoded\n",
    "# Building the Decoder network \n",
    "decoded = Dense(100, activation ='elu',kernel_initializer=initializers.TruncatedNormal(mean=0.0, stddev=1.0)\n",
    "                ,bias_initializer=initializers.Zeros()\n",
    "                ,name=\"decoder_layer_1\")(encoded) \n",
    "decoded = Dense(200, activation ='tanh',kernel_initializer=initializers.RandomUniform(minval=-0.05, maxval=0.05, seed=None)\n",
    "                ,bias_initializer=initializers.Zeros()\n",
    "                ,name=\"decoder_layer_2\")(decoded) \n",
    "decoded = Dense(400, activation ='relu',kernel_initializer=initializers.RandomNormal(stddev=0.01)\n",
    "                ,bias_initializer=initializers.Zeros()\n",
    "                ,name=\"decoder_layer_3\")(decoded)\n",
    "  \n",
    "# Building the Output Layer \n",
    "output_layer = Dense(input_dim, activation ='tanh')(decoded) #relu\n",
    "\n",
    "autoencoder = Model(inputs=input_layer, outputs=output_layer)#importnat row dont change it we want to create a finla layet where the output is same dimensiaon as the input\n",
    "autoencoder.summary()\n"
   ]
  },
  {
   "cell_type": "code",
   "execution_count": 48,
   "metadata": {},
   "outputs": [
    {
     "name": "stdout",
     "output_type": "stream",
     "text": [
      "Model: \"functional_1\"\n",
      "_________________________________________________________________\n",
      "Layer (type)                 Output Shape              Param #   \n",
      "=================================================================\n",
      "input_1 (InputLayer)         [(None, 431)]             0         \n",
      "_________________________________________________________________\n",
      "dropout (Dropout)            (None, 431)               0         \n",
      "_________________________________________________________________\n",
      "encoder_layer_1 (Dense)      (None, 400)               172800    \n",
      "_________________________________________________________________\n",
      "encoder_layer_2 (Dense)      (None, 200)               80200     \n",
      "_________________________________________________________________\n",
      "encoder_layer_3 (Dense)      (None, 100)               20100     \n",
      "_________________________________________________________________\n",
      "dropout_1 (Dropout)          (None, 100)               0         \n",
      "_________________________________________________________________\n",
      "encoder (Dense)              (None, 50)                5050      \n",
      "_________________________________________________________________\n",
      "decoder_layer_1 (Dense)      (None, 100)               5100      \n",
      "_________________________________________________________________\n",
      "decoder_layer_2 (Dense)      (None, 200)               20200     \n",
      "_________________________________________________________________\n",
      "decoder_layer_3 (Dense)      (None, 400)               80400     \n",
      "_________________________________________________________________\n",
      "dense (Dense)                (None, 431)               172831    \n",
      "=================================================================\n",
      "Total params: 556,681\n",
      "Trainable params: 556,681\n",
      "Non-trainable params: 0\n",
      "_________________________________________________________________\n"
     ]
    }
   ],
   "source": [
    "#NOTE !!! THIS IS NOT HTE BEST MODEL I JUST ADDED A LOT OF STUFF SO YOU CAN HAVE IT AS A REFFERNCE YOU WILL HAVE TO RE CREATE IT PROBABLY START BY REMOVING DROPOUT \n",
    "# WE MIGHT NEED DROPOUT TO DENOESE THE DATA BUT START FROM A SIMPLER MODEL SEE THE CHANGES AND TEHN START ADDING DROPOUT !\n",
    "# FIST PLAY WITH HTE LAYERS the number of layers the number of neurons and the activations functions !\n",
    "\n",
    "input_dim = X_train.shape[1]\n",
    "#It is not common to have dropout on an autoencoder but you might want ot use it \n",
    "#Autoencoders that include dropout are often called \"denoising autoencoders\" because they use dropout to randomly corrupt the input, with the goal of producing a network that is more robust to noise\n",
    "#Instead of doing this naming thing i could just use a \"sequential\" model\n",
    "## IF it it was on me intially i would keep it simple and not having dropout i just added here so i cna show to you how to easily implemented !\n",
    "# Building the Input Layer \n",
    "input_layer = Input(shape =(input_dim, )) \n",
    "  \n",
    "#Many diffrent initializers you can find them here https://keras.io/api/layers/initializers/\n",
    "# Building the Encoder network \n",
    "dropout = Dropout(0.1)(input_layer)# i would remove that just for training purpuses \n",
    "encoded = Dense(400, activation ='relu', \n",
    "                activity_regularizer = regularizers.l1(10e-5) #0.01 default number\n",
    "                ,kernel_initializer=initializers.RandomNormal(stddev=0.01) #the inital value that the weight matrix for this layer has, we can try a more advanced technique\n",
    "                ,bias_initializer=initializers.Zeros() # similar to wieght nitalizearion this is for the bias matrix usualy 0s is ok for the bias dont waste time here \n",
    "                ,name=\"encoder_layer_1\")(dropout)  #(input_layer) # if you remove the dropout step then you will have to change the dropout in thise line ot the input_layer\n",
    "#regularization factor is the value in the parentheses the defalut i is 0.01 so as next step we can increase the reguralization factor\n",
    "encoded = Dense(200, activation ='tanh', \n",
    "                activity_regularizer = regularizers.l1(10e-5)\n",
    "                ,kernel_initializer=initializers.RandomUniform(minval=-0.05, maxval=0.05, seed=None)\n",
    "                ,bias_initializer=initializers.Zeros()\n",
    "                ,name=\"encoder_layer_2\")(encoded) # The name parapmer is totally optional it is jut helfu to anotate better the layers when you do mdoel.summary()\n",
    "encoded = Dense(100, activation ='elu', \n",
    "                activity_regularizer = regularizers.l1(10e-5)\n",
    "                ,kernel_initializer=initializers.TruncatedNormal(mean=0.0, stddev=1.0)\n",
    "                ,bias_initializer=initializers.Zeros()\n",
    "                , name=\"encoder_layer_3\")(encoded) \n",
    "#you can dropout here as well if you want \n",
    "dropout = Dropout(0.1)(encoded)\n",
    "encoded = Dense(50, activation ='relu', name=\"encoder\")(dropout) #(dropout) # if you remove the dropout step then you will have to change the dropout in thise line ot the encoded\n",
    "#IMPORTNAT !! Do not add drop out on the decodded steps ! \n",
    "#dd after input and every encoder layer. That will make some inputs and encoded outputs zero. We didn't want decoder layers to lose information while trying to deconstructing the input.\n",
    "# Building the Decoder network \n",
    "decoded = Dense(100, activation ='elu'\n",
    "                ,kernel_initializer=initializers.TruncatedNormal(mean=0.0, stddev=1.0)\n",
    "                ,bias_initializer=initializers.Zeros()\n",
    "                ,name=\"decoder_layer_1\")(encoded) \n",
    "decoded = Dense(200, activation ='tanh'\n",
    "                ,kernel_initializer=initializers.RandomUniform(minval=-0.05, maxval=0.05, seed=None)\n",
    "                ,bias_initializer=initializers.Zeros()\n",
    "                ,name=\"decoder_layer_2\")(decoded) \n",
    "decoded = Dense(400, activation ='relu'\n",
    "                ,kernel_initializer=initializers.RandomNormal(stddev=0.01)\n",
    "                ,bias_initializer=initializers.Zeros()\n",
    "                ,name=\"decoder_layer_3\")(decoded)\n",
    "  \n",
    "# Building the Output Layer \n",
    "output_layer = Dense(input_dim, activation ='tanh')(decoded) #relu\n",
    "#i should try linear as well as the final activation function the one i had before was relu\n",
    "autoencoder = Model(inputs=input_layer, outputs=output_layer)#importnat row dont change it we want to create a finla layet where the output is same dimensiaon as the input\n",
    "autoencoder.summary()\n"
   ]
  },
  {
   "cell_type": "markdown",
   "metadata": {},
   "source": [
    "#### Make sure that i reset the underline graphj"
   ]
  },
  {
   "cell_type": "code",
   "execution_count": 49,
   "metadata": {},
   "outputs": [
    {
     "name": "stdout",
     "output_type": "stream",
     "text": [
      "Epoch 1/30\n",
      "2425/2425 [==============================] - 12s 5ms/step - loss: 0.0029 - mean_squared_error: 0.0025 - val_loss: 0.0019 - val_mean_squared_error: 0.0017\n",
      "Epoch 2/30\n",
      "2425/2425 [==============================] - 12s 5ms/step - loss: 0.0016 - mean_squared_error: 0.0013 - val_loss: 0.0016 - val_mean_squared_error: 0.0014\n",
      "Epoch 3/30\n",
      "2425/2425 [==============================] - 12s 5ms/step - loss: 0.0013 - mean_squared_error: 0.0011 - val_loss: 0.0014 - val_mean_squared_error: 0.0012\n",
      "Epoch 4/30\n",
      "2425/2425 [==============================] - 12s 5ms/step - loss: 0.0012 - mean_squared_error: 0.0010 - val_loss: 0.0012 - val_mean_squared_error: 0.0011\n",
      "Epoch 5/30\n",
      "2425/2425 [==============================] - 12s 5ms/step - loss: 0.0011 - mean_squared_error: 9.2541e-04 - val_loss: 0.0011 - val_mean_squared_error: 9.9405e-04\n",
      "Epoch 6/30\n",
      "2425/2425 [==============================] - 12s 5ms/step - loss: 9.9727e-04 - mean_squared_error: 8.6036e-04 - val_loss: 0.0011 - val_mean_squared_error: 9.2639e-04\n",
      "Epoch 7/30\n",
      "2425/2425 [==============================] - 12s 5ms/step - loss: 9.3239e-04 - mean_squared_error: 8.0429e-04 - val_loss: 9.8345e-04 - val_mean_squared_error: 8.6094e-04\n",
      "Epoch 8/30\n",
      "2425/2425 [==============================] - 12s 5ms/step - loss: 8.7868e-04 - mean_squared_error: 7.5849e-04 - val_loss: 9.4146e-04 - val_mean_squared_error: 8.2702e-04\n",
      "Epoch 9/30\n",
      "2425/2425 [==============================] - 12s 5ms/step - loss: 8.3638e-04 - mean_squared_error: 7.2326e-04 - val_loss: 8.9632e-04 - val_mean_squared_error: 7.8848e-04\n",
      "Epoch 10/30\n",
      "2425/2425 [==============================] - 12s 5ms/step - loss: 8.0113e-04 - mean_squared_error: 6.9414e-04 - val_loss: 8.5810e-04 - val_mean_squared_error: 7.5557e-04\n",
      "Epoch 11/30\n",
      "2425/2425 [==============================] - 12s 5ms/step - loss: 7.6872e-04 - mean_squared_error: 6.6702e-04 - val_loss: 8.2367e-04 - val_mean_squared_error: 7.2616e-04\n",
      "Epoch 12/30\n",
      "2425/2425 [==============================] - 12s 5ms/step - loss: 7.3975e-04 - mean_squared_error: 6.4264e-04 - val_loss: 7.9306e-04 - val_mean_squared_error: 6.9935e-04\n",
      "Epoch 13/30\n",
      "2425/2425 [==============================] - 12s 5ms/step - loss: 7.1359e-04 - mean_squared_error: 6.2047e-04 - val_loss: 7.5869e-04 - val_mean_squared_error: 6.6884e-04\n",
      "Epoch 14/30\n",
      "2425/2425 [==============================] - 12s 5ms/step - loss: 6.8878e-04 - mean_squared_error: 5.9938e-04 - val_loss: 7.5070e-04 - val_mean_squared_error: 6.6439e-04\n",
      "Epoch 15/30\n",
      "2425/2425 [==============================] - 12s 5ms/step - loss: 6.6785e-04 - mean_squared_error: 5.8184e-04 - val_loss: 7.1799e-04 - val_mean_squared_error: 6.3508e-04\n",
      "Epoch 16/30\n",
      "2425/2425 [==============================] - 12s 5ms/step - loss: 6.4782e-04 - mean_squared_error: 5.6490e-04 - val_loss: 6.9183e-04 - val_mean_squared_error: 6.1165e-04\n",
      "Epoch 17/30\n",
      "2425/2425 [==============================] - 12s 5ms/step - loss: 6.2997e-04 - mean_squared_error: 5.4989e-04 - val_loss: 6.8716e-04 - val_mean_squared_error: 6.0963e-04\n",
      "Epoch 18/30\n",
      "2425/2425 [==============================] - 12s 5ms/step - loss: 6.1312e-04 - mean_squared_error: 5.3571e-04 - val_loss: 6.7255e-04 - val_mean_squared_error: 5.9760e-04\n",
      "Epoch 19/30\n",
      "2425/2425 [==============================] - 12s 5ms/step - loss: 5.9772e-04 - mean_squared_error: 5.2273e-04 - val_loss: 6.5939e-04 - val_mean_squared_error: 5.8672e-04\n",
      "Epoch 20/30\n",
      "2425/2425 [==============================] - 12s 5ms/step - loss: 5.8363e-04 - mean_squared_error: 5.1085e-04 - val_loss: 6.3695e-04 - val_mean_squared_error: 5.6645e-04\n",
      "Epoch 21/30\n",
      "2425/2425 [==============================] - 12s 5ms/step - loss: 5.7050e-04 - mean_squared_error: 4.9980e-04 - val_loss: 6.2055e-04 - val_mean_squared_error: 5.5205e-04\n",
      "Epoch 22/30\n",
      "2425/2425 [==============================] - 12s 5ms/step - loss: 5.5833e-04 - mean_squared_error: 4.8956e-04 - val_loss: 6.0104e-04 - val_mean_squared_error: 5.3417e-04\n",
      "Epoch 23/30\n",
      "2425/2425 [==============================] - 12s 5ms/step - loss: 5.4721e-04 - mean_squared_error: 4.8019e-04 - val_loss: 5.9524e-04 - val_mean_squared_error: 5.3008e-04\n",
      "Epoch 24/30\n",
      "2425/2425 [==============================] - 12s 5ms/step - loss: 5.3624e-04 - mean_squared_error: 4.7094e-04 - val_loss: 5.8183e-04 - val_mean_squared_error: 5.1842e-04\n",
      "Epoch 25/30\n",
      "2425/2425 [==============================] - 12s 5ms/step - loss: 5.2613e-04 - mean_squared_error: 4.6245e-04 - val_loss: 5.7205e-04 - val_mean_squared_error: 5.1014e-04\n",
      "Epoch 26/30\n",
      "2425/2425 [==============================] - 12s 5ms/step - loss: 5.1674e-04 - mean_squared_error: 4.5458e-04 - val_loss: 5.6763e-04 - val_mean_squared_error: 5.0738e-04\n",
      "Epoch 27/30\n",
      "2425/2425 [==============================] - 12s 5ms/step - loss: 5.0775e-04 - mean_squared_error: 4.4704e-04 - val_loss: 5.6405e-04 - val_mean_squared_error: 5.0493e-04\n",
      "Epoch 28/30\n",
      "2425/2425 [==============================] - 12s 5ms/step - loss: 4.9973e-04 - mean_squared_error: 4.4035e-04 - val_loss: 5.4159e-04 - val_mean_squared_error: 4.8377e-04\n",
      "Epoch 29/30\n",
      "2425/2425 [==============================] - 12s 5ms/step - loss: 4.9228e-04 - mean_squared_error: 4.3418e-04 - val_loss: 5.2665e-04 - val_mean_squared_error: 4.7024e-04\n",
      "Epoch 30/30\n",
      "2425/2425 [==============================] - 12s 5ms/step - loss: 4.8506e-04 - mean_squared_error: 4.2815e-04 - val_loss: 5.3828e-04 - val_mean_squared_error: 4.8291e-04\n"
     ]
    }
   ],
   "source": [
    "optimizer = keras.optimizers.Adam(lr=learning_rate)\n",
    "autoencoder.compile(optimizer=optimizer,\n",
    "                    loss='mean_squared_error', \n",
    "                    metrics=['mean_squared_error'])\n",
    "\n",
    "history = autoencoder.fit(X_train, X_train,\n",
    "                    epochs=nb_epoch,\n",
    "                    batch_size=batch_size,\n",
    "                    shuffle=True,\n",
    "                    validation_data=(X_test, X_test),\n",
    "                    verbose=1).history\n",
    "\n",
    "#Maybe we should train the autoenconder in a really unbalbnace dataset maybe it gets confused by semi balanced dataset, need to investigate"
   ]
  },
  {
   "cell_type": "code",
   "execution_count": 50,
   "metadata": {},
   "outputs": [
    {
     "data": {
      "image/png": "[encoded data removed]",
      "text/plain": [
       "<Figure size 432x288 with 1 Axes>"
      ]
     },
     "metadata": {
      "needs_background": "light"
     },
     "output_type": "display_data"
    }
   ],
   "source": [
    "plt.plot(history['loss'])\n",
    "plt.plot(history['val_loss'])\n",
    "plt.title('model loss')\n",
    "plt.ylabel('loss')\n",
    "plt.xlabel('epoch')\n",
    "plt.legend(['train', 'test'], loc='upper right');"
   ]
  },
  {
   "cell_type": "code",
   "execution_count": 51,
   "metadata": {},
   "outputs": [
    {
     "data": {
      "text/html": [
       "<div>\n",
       "<style scoped>\n",
       "    .dataframe tbody tr th:only-of-type {\n",
       "        vertical-align: middle;\n",
       "    }\n",
       "\n",
       "    .dataframe tbody tr th {\n",
       "        vertical-align: top;\n",
       "    }\n",
       "\n",
       "    .dataframe thead th {\n",
       "        text-align: right;\n",
       "    }\n",
       "</style>\n",
       "<table border=\"1\" class=\"dataframe\">\n",
       "  <thead>\n",
       "    <tr style=\"text-align: right;\">\n",
       "      <th></th>\n",
       "      <th>reconstruction_error</th>\n",
       "      <th>true_class</th>\n",
       "    </tr>\n",
       "  </thead>\n",
       "  <tbody>\n",
       "    <tr>\n",
       "      <th>count</th>\n",
       "      <td>7.973600e+04</td>\n",
       "      <td>79736.000000</td>\n",
       "    </tr>\n",
       "    <tr>\n",
       "      <th>mean</th>\n",
       "      <td>4.829121e-04</td>\n",
       "      <td>0.191871</td>\n",
       "    </tr>\n",
       "    <tr>\n",
       "      <th>std</th>\n",
       "      <td>9.021587e-04</td>\n",
       "      <td>0.393774</td>\n",
       "    </tr>\n",
       "    <tr>\n",
       "      <th>min</th>\n",
       "      <td>4.058414e-07</td>\n",
       "      <td>0.000000</td>\n",
       "    </tr>\n",
       "    <tr>\n",
       "      <th>25%</th>\n",
       "      <td>7.861067e-05</td>\n",
       "      <td>0.000000</td>\n",
       "    </tr>\n",
       "    <tr>\n",
       "      <th>50%</th>\n",
       "      <td>2.691115e-04</td>\n",
       "      <td>0.000000</td>\n",
       "    </tr>\n",
       "    <tr>\n",
       "      <th>75%</th>\n",
       "      <td>5.346741e-04</td>\n",
       "      <td>0.000000</td>\n",
       "    </tr>\n",
       "    <tr>\n",
       "      <th>max</th>\n",
       "      <td>7.391018e-02</td>\n",
       "      <td>1.000000</td>\n",
       "    </tr>\n",
       "  </tbody>\n",
       "</table>\n",
       "</div>"
      ],
      "text/plain": [
       "       reconstruction_error    true_class\n",
       "count          7.973600e+04  79736.000000\n",
       "mean           4.829121e-04      0.191871\n",
       "std            9.021587e-04      0.393774\n",
       "min            4.058414e-07      0.000000\n",
       "25%            7.861067e-05      0.000000\n",
       "50%            2.691115e-04      0.000000\n",
       "75%            5.346741e-04      0.000000\n",
       "max            7.391018e-02      1.000000"
      ]
     },
     "execution_count": 51,
     "metadata": {},
     "output_type": "execute_result"
    }
   ],
   "source": [
    "predictions = autoencoder.predict(X_test)\n",
    "mse = np.mean(np.power(X_test - predictions, 2), axis=1)\n",
    "error_df = pd.DataFrame({'reconstruction_error': mse,\n",
    "                        'true_class': Y_test})\n",
    "error_df.describe()\n"
   ]
  },
  {
   "cell_type": "code",
   "execution_count": 52,
   "metadata": {},
   "outputs": [
    {
     "data": {
      "image/png": "[encoded data removed]",
      "text/plain": [
       "<Figure size 432x288 with 1 Axes>"
      ]
     },
     "metadata": {
      "needs_background": "light"
     },
     "output_type": "display_data"
    }
   ],
   "source": [
    "fig = plt.figure()\n",
    "ax = fig.add_subplot(111)\n",
    "normal_error_df = error_df[(error_df['true_class']== 0)]\n",
    "_ = ax.hist(normal_error_df.reconstruction_error.values, bins=10)"
   ]
  },
  {
   "cell_type": "code",
   "execution_count": 53,
   "metadata": {},
   "outputs": [
    {
     "data": {
      "image/png": "[encoded data removed]",
      "text/plain": [
       "<Figure size 432x288 with 1 Axes>"
      ]
     },
     "metadata": {
      "needs_background": "light"
     },
     "output_type": "display_data"
    }
   ],
   "source": [
    "fig = plt.figure()\n",
    "ax = fig.add_subplot(111)\n",
    "normal_error_df = error_df[(error_df['true_class']== 1)]\n",
    "_ = ax.hist(normal_error_df.reconstruction_error.values, bins=10)"
   ]
  },
  {
   "cell_type": "code",
   "execution_count": 54,
   "metadata": {},
   "outputs": [],
   "source": [
    "normal_error_df_optout = error_df[(error_df['true_class']== 1)]"
   ]
  },
  {
   "cell_type": "code",
   "execution_count": 55,
   "metadata": {},
   "outputs": [],
   "source": [
    "normal_error_df_no_optout_no_optout = error_df[(error_df['true_class']== 0)]"
   ]
  },
  {
   "cell_type": "code",
   "execution_count": 56,
   "metadata": {},
   "outputs": [
    {
     "data": {
      "text/plain": [
       "0.0008421359791121668"
      ]
     },
     "execution_count": 56,
     "metadata": {},
     "output_type": "execute_result"
    }
   ],
   "source": [
    "normal_error_df_optout['reconstruction_error'].mean()"
   ]
  },
  {
   "cell_type": "code",
   "execution_count": 57,
   "metadata": {},
   "outputs": [
    {
     "data": {
      "text/plain": [
       "0.07391017560829496"
      ]
     },
     "execution_count": 57,
     "metadata": {},
     "output_type": "execute_result"
    }
   ],
   "source": [
    "normal_error_df_optout['reconstruction_error'].max()"
   ]
  },
  {
   "cell_type": "code",
   "execution_count": 58,
   "metadata": {},
   "outputs": [
    {
     "data": {
      "text/plain": [
       "1.8868661186365674e-05"
      ]
     },
     "execution_count": 58,
     "metadata": {},
     "output_type": "execute_result"
    }
   ],
   "source": [
    "normal_error_df_optout['reconstruction_error'].min()"
   ]
  },
  {
   "cell_type": "code",
   "execution_count": 59,
   "metadata": {},
   "outputs": [
    {
     "data": {
      "text/plain": [
       "0.00039762310625200676"
      ]
     },
     "execution_count": 59,
     "metadata": {},
     "output_type": "execute_result"
    }
   ],
   "source": [
    "normal_error_df_no_optout_no_optout['reconstruction_error'].mean()"
   ]
  },
  {
   "cell_type": "code",
   "execution_count": 60,
   "metadata": {},
   "outputs": [
    {
     "data": {
      "text/plain": [
       "0.02880254895983528"
      ]
     },
     "execution_count": 60,
     "metadata": {},
     "output_type": "execute_result"
    }
   ],
   "source": [
    "normal_error_df_no_optout_no_optout['reconstruction_error'].max()"
   ]
  },
  {
   "cell_type": "code",
   "execution_count": 61,
   "metadata": {},
   "outputs": [
    {
     "data": {
      "text/plain": [
       "4.0584138110075485e-07"
      ]
     },
     "execution_count": 61,
     "metadata": {},
     "output_type": "execute_result"
    }
   ],
   "source": [
    "normal_error_df_no_optout_no_optout['reconstruction_error'].min()"
   ]
  },
  {
   "cell_type": "code",
   "execution_count": 62,
   "metadata": {},
   "outputs": [
    {
     "data": {
      "text/html": [
       "<div>\n",
       "<style scoped>\n",
       "    .dataframe tbody tr th:only-of-type {\n",
       "        vertical-align: middle;\n",
       "    }\n",
       "\n",
       "    .dataframe tbody tr th {\n",
       "        vertical-align: top;\n",
       "    }\n",
       "\n",
       "    .dataframe thead th {\n",
       "        text-align: right;\n",
       "    }\n",
       "</style>\n",
       "<table border=\"1\" class=\"dataframe\">\n",
       "  <thead>\n",
       "    <tr style=\"text-align: right;\">\n",
       "      <th></th>\n",
       "      <th>reconstruction_error</th>\n",
       "      <th>true_class</th>\n",
       "    </tr>\n",
       "  </thead>\n",
       "  <tbody>\n",
       "    <tr>\n",
       "      <th>456107</th>\n",
       "      <td>5.309123e-03</td>\n",
       "      <td>1</td>\n",
       "    </tr>\n",
       "    <tr>\n",
       "      <th>493794</th>\n",
       "      <td>5.827238e-05</td>\n",
       "      <td>1</td>\n",
       "    </tr>\n",
       "    <tr>\n",
       "      <th>461464</th>\n",
       "      <td>1.855460e-04</td>\n",
       "      <td>0</td>\n",
       "    </tr>\n",
       "    <tr>\n",
       "      <th>426574</th>\n",
       "      <td>4.058414e-07</td>\n",
       "      <td>0</td>\n",
       "    </tr>\n",
       "    <tr>\n",
       "      <th>525171</th>\n",
       "      <td>3.509100e-05</td>\n",
       "      <td>0</td>\n",
       "    </tr>\n",
       "  </tbody>\n",
       "</table>\n",
       "</div>"
      ],
      "text/plain": [
       "        reconstruction_error  true_class\n",
       "456107          5.309123e-03           1\n",
       "493794          5.827238e-05           1\n",
       "461464          1.855460e-04           0\n",
       "426574          4.058414e-07           0\n",
       "525171          3.509100e-05           0"
      ]
     },
     "execution_count": 62,
     "metadata": {},
     "output_type": "execute_result"
    }
   ],
   "source": [
    "error_df.head()"
   ]
  },
  {
   "cell_type": "code",
   "execution_count": 63,
   "metadata": {},
   "outputs": [],
   "source": [
    "# error_df['reconstruction_error'] =1- error_df['reconstruction_error']"
   ]
  },
  {
   "cell_type": "code",
   "execution_count": 64,
   "metadata": {},
   "outputs": [],
   "source": [
    "### Plot fraction of converting customers reached vs. n of deciles targeted\n",
    "import numpy as np\n",
    "# all_scores.fillna(0, inplace=True)\n",
    "deciles = []\n",
    "recalls = []\n",
    "precisions = []\n",
    "thresholds = []\n",
    "for n in range(1,11):\n",
    "    \n",
    "    deciles.append(n)\n",
    "    \n",
    "    threshold = np.percentile(error_df.reconstruction_error, np.arange(0,100,10))[-n]\n",
    "    thresholds.append(threshold)\n",
    "    \n",
    "    predictions = []\n",
    "    for value in error_df.reconstruction_error:\n",
    "        if value >= threshold:\n",
    "            predictions.append(1.0)\n",
    "        else:\n",
    "            predictions.append(0.0)\n",
    "            \n",
    "    recall = recall_score(error_df.true_class, predictions)\n",
    "    \n",
    "    recalls.append(recall)\n",
    "    \n"
   ]
  },
  {
   "cell_type": "code",
   "execution_count": 65,
   "metadata": {},
   "outputs": [
    {
     "data": {
      "image/png": "[encoded data removed]",
      "text/plain": [
       "<Figure size 720x360 with 1 Axes>"
      ]
     },
     "metadata": {
      "needs_background": "light"
     },
     "output_type": "display_data"
    }
   ],
   "source": [
    "import matplotlib.pyplot as plt\n",
    "fig, ax = plt.subplots(figsize=(10,5))\n",
    "plt.plot(deciles, [round(x*100,1) for x in recalls], marker='o', c='Indigo', markersize=15, linewidth=3)\n",
    "plt.xlabel('Decile', fontsize=15)\n",
    "plt.ylabel('Fraction of total conversions recovered [%]', fontsize=15)\n",
    "plt.xticks(np.arange(1, 10+1, 1), fontsize=15)\n",
    "plt.yticks(np.arange(10, 100+1, 10), fontsize=15)\n",
    "plt.grid()\n",
    "plt.show()"
   ]
  },
  {
   "cell_type": "code",
   "execution_count": 41,
   "metadata": {},
   "outputs": [
    {
     "name": "stderr",
     "output_type": "stream",
     "text": [
      "2020-11-17 11:10:27,315 [WARNI]  From /home/ec2-user/anaconda3/envs/python3/lib/python3.6/site-packages/tensorflow/python/training/tracking/tracking.py:111: Model.state_updates (from tensorflow.python.keras.engine.training) is deprecated and will be removed in a future version.\n",
      "Instructions for updating:\n",
      "This property should not be used in TensorFlow 2.0, as updates are applied automatically.\n",
      "2020-11-17 11:10:27,331 [WARNI]  From /home/ec2-user/anaconda3/envs/python3/lib/python3.6/site-packages/tensorflow/python/training/tracking/tracking.py:111: Layer.updates (from tensorflow.python.keras.engine.base_layer) is deprecated and will be removed in a future version.\n",
      "Instructions for updating:\n",
      "This property should not be used in TensorFlow 2.0, as updates are applied automatically.\n",
      "2020-11-17 11:10:28,025 [INFO ]  Assets written to: ./model_artifacts/autoencoder_model_time/assets\n"
     ]
    }
   ],
   "source": [
    "autoencoder.save('./model_artifacts/autoencoder_model_time')"
   ]
  },
  {
   "cell_type": "code",
   "execution_count": 42,
   "metadata": {},
   "outputs": [
    {
     "data": {
      "image/png": "[encoded data removed]",
      "text/plain": [
       "<Figure size 1080x576 with 1 Axes>"
      ]
     },
     "metadata": {
      "needs_background": "light"
     },
     "output_type": "display_data"
    }
   ],
   "source": [
    "reconstructions=autoencoder.predict(X_test)\n",
    "mse = np.mean(np.power(X_test - reconstructions, 2), axis=1)\n",
    "data = np.column_stack((range(len(mse)), mse))\n",
    "\n",
    "# scatter's x & y\n",
    "clean_x, clean_y = data[Y_test==0][:,0], data[Y_test==0][:,1]\n",
    "fraud_x, fraud_y = data[Y_test==1][:,0], data[Y_test==1][:,1]\n",
    "\n",
    "# instantiate new figure\n",
    "fig, ax = plt.subplots(figsize=(15,8))\n",
    "\n",
    "# plot reconstruction errorsted ou\n",
    "ax.scatter(clean_x, clean_y, s=5, color='g', alpha=0.6, label='Not opt')\n",
    "ax.scatter(fraud_x, fraud_y, s=5.00, color='r', alpha=1,   label='Optouts')\n",
    "\n",
    "\n",
    "# change scale to log & limit x-axis range\n",
    "ax.set_yscale('linear')\n",
    "ax.set_ylim(0,0.04)\n",
    "ax.set_xlim(0, len(mse))\n",
    "\n",
    "# title & labels\n",
    "\n",
    "ax.set_xlabel('EE customer')\n",
    "ax.set_ylabel('Mean Squared Error\\n(linear Scale)')\n",
    "\n",
    "# orange legend for threshold value\n",
    "ax.legend(loc='upper right', prop={'size': 9})\n",
    "\n",
    "# display\n",
    "fig.show();"
   ]
  },
  {
   "cell_type": "markdown",
   "metadata": {},
   "source": [
    "# Out of Sample performance"
   ]
  },
  {
   "cell_type": "code",
   "execution_count": 43,
   "metadata": {},
   "outputs": [],
   "source": [
    "loaded_model = keras.models.load_model(\"./model_artifacts/autoencoder_model_time\")"
   ]
  },
  {
   "cell_type": "code",
   "execution_count": 44,
   "metadata": {},
   "outputs": [
    {
     "name": "stderr",
     "output_type": "stream",
     "text": [
      "2020-11-17 11:10:34,629 [INFO ]  starting Athena query ...\n",
      "2020-11-17 11:16:20,641 [INFO ]  loading 71e8f897-4568-442a-8c0e-3678ba3ffb31.csv\n",
      "2020-11-17 11:16:20,841 [INFO ]  Athena query complete: returning iterator object\n"
     ]
    }
   ],
   "source": [
    "sql_code = '''\n",
    "select * from campaign_data.opt_out_202009_all_combined_comm\n",
    "'''\n",
    "iterator= athena.execute_query(sql_code, **{'chunksize':100000})"
   ]
  },
  {
   "cell_type": "code",
   "execution_count": 45,
   "metadata": {},
   "outputs": [
    {
     "name": "stdout",
     "output_type": "stream",
     "text": [
      "0\n",
      "optout_flag\n",
      "1    189\n",
      "Name: optout_flag, dtype: int64\n",
      "[0 1]\n",
      "1\n",
      "optout_flag\n",
      "1    201\n",
      "Name: optout_flag, dtype: int64\n",
      "[0 1]\n",
      "2\n",
      "optout_flag\n",
      "1    173\n",
      "Name: optout_flag, dtype: int64\n",
      "[0 1]\n",
      "3\n",
      "optout_flag\n",
      "1    196\n",
      "Name: optout_flag, dtype: int64\n",
      "[0 1]\n",
      "4\n",
      "optout_flag\n",
      "1    185\n",
      "Name: optout_flag, dtype: int64\n",
      "[0 1]\n",
      "5\n",
      "optout_flag\n",
      "1    202\n",
      "Name: optout_flag, dtype: int64\n",
      "[0 1]\n",
      "6\n",
      "optout_flag\n",
      "1    208\n",
      "Name: optout_flag, dtype: int64\n",
      "[0 1]\n",
      "7\n",
      "optout_flag\n",
      "1    177\n",
      "Name: optout_flag, dtype: int64\n",
      "[0 1]\n",
      "8\n",
      "optout_flag\n",
      "1    194\n",
      "Name: optout_flag, dtype: int64\n",
      "[0 1]\n",
      "9\n",
      "optout_flag\n",
      "1    183\n",
      "Name: optout_flag, dtype: int64\n",
      "[0 1]\n",
      "10\n",
      "optout_flag\n",
      "1    183\n",
      "Name: optout_flag, dtype: int64\n",
      "[0 1]\n",
      "11\n",
      "optout_flag\n",
      "1    151\n",
      "Name: optout_flag, dtype: int64\n",
      "[0 1]\n",
      "12\n",
      "optout_flag\n",
      "1    203\n",
      "Name: optout_flag, dtype: int64\n",
      "[0 1]\n",
      "13\n",
      "optout_flag\n",
      "1    176\n",
      "Name: optout_flag, dtype: int64\n",
      "[0 1]\n",
      "14\n",
      "optout_flag\n",
      "1    185\n",
      "Name: optout_flag, dtype: int64\n",
      "[0 1]\n",
      "15\n",
      "optout_flag\n",
      "1    186\n",
      "Name: optout_flag, dtype: int64\n",
      "[0 1]\n",
      "16\n",
      "optout_flag\n",
      "1    177\n",
      "Name: optout_flag, dtype: int64\n",
      "[0 1]\n",
      "17\n",
      "optout_flag\n",
      "1    183\n",
      "Name: optout_flag, dtype: int64\n",
      "[0 1]\n",
      "18\n",
      "optout_flag\n",
      "1    187\n",
      "Name: optout_flag, dtype: int64\n",
      "[0 1]\n",
      "19\n",
      "optout_flag\n",
      "1    195\n",
      "Name: optout_flag, dtype: int64\n",
      "[0 1]\n",
      "20\n",
      "optout_flag\n",
      "1    200\n",
      "Name: optout_flag, dtype: int64\n",
      "[0 1]\n",
      "21\n",
      "optout_flag\n",
      "1    173\n",
      "Name: optout_flag, dtype: int64\n",
      "[0 1]\n",
      "22\n",
      "optout_flag\n",
      "1    198\n",
      "Name: optout_flag, dtype: int64\n",
      "[0 1]\n",
      "23\n",
      "optout_flag\n",
      "1    213\n",
      "Name: optout_flag, dtype: int64\n",
      "[0 1]\n",
      "24\n",
      "optout_flag\n",
      "1    209\n",
      "Name: optout_flag, dtype: int64\n",
      "[0 1]\n",
      "25\n",
      "optout_flag\n",
      "1    202\n",
      "Name: optout_flag, dtype: int64\n",
      "[0 1]\n",
      "26\n",
      "optout_flag\n",
      "1    174\n",
      "Name: optout_flag, dtype: int64\n",
      "[0 1]\n",
      "27\n",
      "optout_flag\n",
      "1    155\n",
      "Name: optout_flag, dtype: int64\n",
      "[0 1]\n",
      "28\n",
      "optout_flag\n",
      "1    187\n",
      "Name: optout_flag, dtype: int64\n",
      "[0 1]\n",
      "29\n",
      "optout_flag\n",
      "1    211\n",
      "Name: optout_flag, dtype: int64\n",
      "[0 1]\n",
      "30\n",
      "optout_flag\n",
      "1    200\n",
      "Name: optout_flag, dtype: int64\n",
      "[0 1]\n",
      "31\n",
      "optout_flag\n",
      "1    181\n",
      "Name: optout_flag, dtype: int64\n",
      "[0 1]\n",
      "32\n",
      "optout_flag\n",
      "1    175\n",
      "Name: optout_flag, dtype: int64\n",
      "[0 1]\n",
      "33\n",
      "optout_flag\n",
      "1    207\n",
      "Name: optout_flag, dtype: int64\n",
      "[0 1]\n",
      "34\n",
      "optout_flag\n",
      "1    167\n",
      "Name: optout_flag, dtype: int64\n",
      "[0 1]\n",
      "35\n",
      "optout_flag\n",
      "1    160\n",
      "Name: optout_flag, dtype: int64\n",
      "[0 1]\n",
      "36\n",
      "optout_flag\n",
      "1    182\n",
      "Name: optout_flag, dtype: int64\n",
      "[0 1]\n",
      "37\n",
      "optout_flag\n",
      "1    198\n",
      "Name: optout_flag, dtype: int64\n",
      "[0 1]\n",
      "38\n",
      "optout_flag\n",
      "1    189\n",
      "Name: optout_flag, dtype: int64\n",
      "[0 1]\n",
      "39\n",
      "optout_flag\n",
      "1    202\n",
      "Name: optout_flag, dtype: int64\n",
      "[0 1]\n",
      "40\n",
      "optout_flag\n",
      "1    180\n",
      "Name: optout_flag, dtype: int64\n",
      "[0 1]\n",
      "41\n",
      "optout_flag\n",
      "1    194\n",
      "Name: optout_flag, dtype: int64\n",
      "[0 1]\n",
      "42\n",
      "optout_flag\n",
      "1    177\n",
      "Name: optout_flag, dtype: int64\n",
      "[0 1]\n",
      "43\n",
      "optout_flag\n",
      "1    201\n",
      "Name: optout_flag, dtype: int64\n",
      "[0 1]\n",
      "44\n",
      "optout_flag\n",
      "1    141\n",
      "Name: optout_flag, dtype: int64\n",
      "[0 1]\n"
     ]
    }
   ],
   "source": [
    "scores_list = []\n",
    "i=0\n",
    "for chunk in iterator:\n",
    "    print(i)\n",
    "    print( chunk.groupby('optout_flag')['optout_flag'].count())\n",
    "    chunk = numeric_fill_na(chunk)\n",
    "    chunk = categorical_fill_na(chunk)\n",
    "    chunk = replacing_empty_strings(chunk)\n",
    "    #del chunk['account_num']\n",
    "    del chunk['optout_date']\n",
    "    #del chunk['activesub']\n",
    "    del chunk['ee_customer_id']\n",
    "    del chunk['optout_cnt']\n",
    "   \n",
    "    X_out = chunk.loc[:, chunk.columns != 'optout_flag']\n",
    "    Y_out = chunk.optout_flag.values\n",
    "    X_out = one_hot_encoding_test(X_out)\n",
    "    X_out = scaler.transform(X_out)\n",
    "    predictions = autoencoder.predict(X_out)\n",
    "    mse = np.mean(np.power(X_out - predictions, 2), axis=1)\n",
    "    df_final = pd.DataFrame(columns = ['prediction', 'actual'])\n",
    "    df_final['prediction'] = mse\n",
    "    df_final['actual'] = Y_out\n",
    "    scores_list.append(df_final)\n",
    "    print(df_final.actual.unique())\n",
    "    i=i+1\n",
    "    #del X_out\n",
    "    del predictions\n",
    "    del df_final\n",
    "    del chunk"
   ]
  },
  {
   "cell_type": "code",
   "execution_count": 46,
   "metadata": {},
   "outputs": [],
   "source": [
    "all_scores = pd.concat(scores_list, ignore_index=True)"
   ]
  },
  {
   "cell_type": "code",
   "execution_count": 47,
   "metadata": {},
   "outputs": [],
   "source": [
    "### Plot fraction of converting customers reached vs. n of deciles targeted\n",
    "import numpy as np\n",
    "# all_scores.fillna(0, inplace=True)\n",
    "deciles = []\n",
    "recalls = []\n",
    "precisions = []\n",
    "thresholds = []\n",
    "for n in range(1,11):\n",
    "    \n",
    "    deciles.append(n)\n",
    "    \n",
    "    threshold = np.percentile(all_scores.prediction, np.arange(0,100,10))[-n]\n",
    "    thresholds.append(threshold)\n",
    "    \n",
    "    predictions = []\n",
    "    for value in all_scores.prediction:\n",
    "        if value >= threshold:\n",
    "            predictions.append(1.0)\n",
    "        else:\n",
    "            predictions.append(0.0)\n",
    "            \n",
    "    recall = recall_score(all_scores.actual, predictions)\n",
    "    \n",
    "    recalls.append(recall)\n",
    "    \n",
    "    precision = precision_score(all_scores.actual, predictions)\n",
    "    \n",
    "    precisions.append(precision)"
   ]
  },
  {
   "cell_type": "code",
   "execution_count": 48,
   "metadata": {},
   "outputs": [
    {
     "data": {
      "image/png": "[encoded data removed]",
      "text/plain": [
       "<Figure size 720x360 with 1 Axes>"
      ]
     },
     "metadata": {
      "needs_background": "light"
     },
     "output_type": "display_data"
    }
   ],
   "source": [
    "import matplotlib.pyplot as plt\n",
    "fig, ax = plt.subplots(figsize=(10,5))\n",
    "plt.plot(deciles, [round(x*100,1) for x in recalls], marker='o', c='Indigo', markersize=15, linewidth=3)\n",
    "plt.xlabel('Decile', fontsize=15)\n",
    "plt.ylabel('Fraction of total conversions recovered [%]', fontsize=15)\n",
    "plt.xticks(np.arange(1, 10+1, 1), fontsize=15)\n",
    "plt.yticks(np.arange(10, 100+1, 10), fontsize=15)\n",
    "plt.grid()\n",
    "plt.show()"
   ]
  },
  {
   "cell_type": "markdown",
   "metadata": {},
   "source": [
    "# 2 times better than random "
   ]
  },
  {
   "cell_type": "code",
   "execution_count": 49,
   "metadata": {},
   "outputs": [
    {
     "data": {
      "text/plain": [
       "[0.23638525564803806,\n",
       " 0.3341260404280618,\n",
       " 0.42306777645659926,\n",
       " 0.5046373365041618,\n",
       " 0.5803804994054697,\n",
       " 0.6573127229488704,\n",
       " 0.7298454221165279,\n",
       " 0.7983353151010701,\n",
       " 0.8815695600475624,\n",
       " 1.0]"
      ]
     },
     "execution_count": 49,
     "metadata": {},
     "output_type": "execute_result"
    }
   ],
   "source": [
    "recalls"
   ]
  },
  {
   "cell_type": "code",
   "execution_count": null,
   "metadata": {},
   "outputs": [],
   "source": []
  },
  {
   "cell_type": "code",
   "execution_count": null,
   "metadata": {},
   "outputs": [],
   "source": []
  },
  {
   "cell_type": "code",
   "execution_count": null,
   "metadata": {},
   "outputs": [],
   "source": []
  },
  {
   "cell_type": "code",
   "execution_count": null,
   "metadata": {},
   "outputs": [],
   "source": []
  },
  {
   "cell_type": "code",
   "execution_count": null,
   "metadata": {},
   "outputs": [],
   "source": []
  },
  {
   "cell_type": "code",
   "execution_count": null,
   "metadata": {},
   "outputs": [],
   "source": []
  },
  {
   "cell_type": "code",
   "execution_count": null,
   "metadata": {},
   "outputs": [],
   "source": []
  },
  {
   "cell_type": "code",
   "execution_count": null,
   "metadata": {},
   "outputs": [],
   "source": []
  },
  {
   "cell_type": "code",
   "execution_count": null,
   "metadata": {},
   "outputs": [],
   "source": []
  },
  {
   "cell_type": "code",
   "execution_count": null,
   "metadata": {},
   "outputs": [],
   "source": []
  },
  {
   "cell_type": "code",
   "execution_count": null,
   "metadata": {},
   "outputs": [],
   "source": []
  }
 ],
 "metadata": {
  "kernelspec": {
   "display_name": "conda_python3",
   "language": "python",
   "name": "conda_python3"
  },
  "language_info": {
   "codemirror_mode": {
    "name": "ipython",
    "version": 3
   },
   "file_extension": ".py",
   "mimetype": "text/x-python",
   "name": "python",
   "nbconvert_exporter": "python",
   "pygments_lexer": "ipython3",
   "version": "3.6.10"
  }
 },
 "nbformat": 4,
 "nbformat_minor": 4
}
