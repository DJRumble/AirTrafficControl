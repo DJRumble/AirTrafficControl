{
 "cells": [
  {
   "cell_type": "code",
   "execution_count": 108,
   "metadata": {
    "collapsed": true,
    "jupyter": {
     "outputs_hidden": true
    }
   },
   "outputs": [
    {
     "name": "stdout",
     "output_type": "stream",
     "text": [
      "Requirement already satisfied: pandas==1.0.5 in /home/ec2-user/anaconda3/envs/python3/lib/python3.6/site-packages (1.0.5)\n",
      "Requirement already satisfied: pytz>=2017.2 in /home/ec2-user/anaconda3/envs/python3/lib/python3.6/site-packages (from pandas==1.0.5) (2019.3)\n",
      "Requirement already satisfied: numpy>=1.13.3 in /home/ec2-user/anaconda3/envs/python3/lib/python3.6/site-packages (from pandas==1.0.5) (1.18.1)\n",
      "Requirement already satisfied: python-dateutil>=2.6.1 in /home/ec2-user/anaconda3/envs/python3/lib/python3.6/site-packages (from pandas==1.0.5) (2.8.1)\n",
      "Requirement already satisfied: six>=1.5 in /home/ec2-user/anaconda3/envs/python3/lib/python3.6/site-packages (from python-dateutil>=2.6.1->pandas==1.0.5) (1.14.0)\n",
      "\u001b[33mWARNING: You are using pip version 20.0.2; however, version 20.2.4 is available.\n",
      "You should consider upgrading via the '/home/ec2-user/anaconda3/envs/python3/bin/python -m pip install --upgrade pip' command.\u001b[0m\n",
      "Requirement already satisfied: pyathena in /home/ec2-user/anaconda3/envs/python3/lib/python3.6/site-packages (1.11.2)\n",
      "Requirement already satisfied: boto3>=1.4.4 in /home/ec2-user/anaconda3/envs/python3/lib/python3.6/site-packages (from pyathena) (1.15.8)\n",
      "Requirement already satisfied: botocore>=1.5.52 in /home/ec2-user/anaconda3/envs/python3/lib/python3.6/site-packages (from pyathena) (1.18.8)\n",
      "Requirement already satisfied: future in /home/ec2-user/anaconda3/envs/python3/lib/python3.6/site-packages (from pyathena) (0.18.2)\n",
      "Requirement already satisfied: tenacity>=4.1.0 in /home/ec2-user/anaconda3/envs/python3/lib/python3.6/site-packages (from pyathena) (6.2.0)\n",
      "Requirement already satisfied: s3transfer<0.4.0,>=0.3.0 in /home/ec2-user/anaconda3/envs/python3/lib/python3.6/site-packages (from boto3>=1.4.4->pyathena) (0.3.3)\n",
      "Requirement already satisfied: jmespath<1.0.0,>=0.7.1 in /home/ec2-user/anaconda3/envs/python3/lib/python3.6/site-packages (from boto3>=1.4.4->pyathena) (0.10.0)\n",
      "Requirement already satisfied: python-dateutil<3.0.0,>=2.1 in /home/ec2-user/anaconda3/envs/python3/lib/python3.6/site-packages (from botocore>=1.5.52->pyathena) (2.8.1)\n",
      "Requirement already satisfied: urllib3<1.26,>=1.20; python_version != \"3.4\" in /home/ec2-user/anaconda3/envs/python3/lib/python3.6/site-packages (from botocore>=1.5.52->pyathena) (1.25.8)\n",
      "Requirement already satisfied: six>=1.9.0 in /home/ec2-user/anaconda3/envs/python3/lib/python3.6/site-packages (from tenacity>=4.1.0->pyathena) (1.14.0)\n",
      "\u001b[33mWARNING: You are using pip version 20.0.2; however, version 20.2.4 is available.\n",
      "You should consider upgrading via the '/home/ec2-user/anaconda3/envs/python3/bin/python -m pip install --upgrade pip' command.\u001b[0m\n",
      "Requirement already satisfied: s3fs==0.4.2 in /home/ec2-user/anaconda3/envs/python3/lib/python3.6/site-packages (0.4.2)\n",
      "Requirement already satisfied: botocore>=1.12.91 in /home/ec2-user/anaconda3/envs/python3/lib/python3.6/site-packages (from s3fs==0.4.2) (1.18.8)\n",
      "Requirement already satisfied: fsspec>=0.6.0 in /home/ec2-user/anaconda3/envs/python3/lib/python3.6/site-packages (from s3fs==0.4.2) (0.8.4)\n",
      "Requirement already satisfied: jmespath<1.0.0,>=0.7.1 in /home/ec2-user/anaconda3/envs/python3/lib/python3.6/site-packages (from botocore>=1.12.91->s3fs==0.4.2) (0.10.0)\n",
      "Requirement already satisfied: python-dateutil<3.0.0,>=2.1 in /home/ec2-user/anaconda3/envs/python3/lib/python3.6/site-packages (from botocore>=1.12.91->s3fs==0.4.2) (2.8.1)\n",
      "Requirement already satisfied: urllib3<1.26,>=1.20; python_version != \"3.4\" in /home/ec2-user/anaconda3/envs/python3/lib/python3.6/site-packages (from botocore>=1.12.91->s3fs==0.4.2) (1.25.8)\n",
      "Requirement already satisfied: six>=1.5 in /home/ec2-user/anaconda3/envs/python3/lib/python3.6/site-packages (from python-dateutil<3.0.0,>=2.1->botocore>=1.12.91->s3fs==0.4.2) (1.14.0)\n",
      "\u001b[33mWARNING: You are using pip version 20.0.2; however, version 20.2.4 is available.\n",
      "You should consider upgrading via the '/home/ec2-user/anaconda3/envs/python3/bin/python -m pip install --upgrade pip' command.\u001b[0m\n",
      "Requirement already satisfied: watchtower in /home/ec2-user/.local/lib/python3.6/site-packages (0.8.0)\n",
      "Requirement already satisfied: boto3<2,>=1.9.253 in /home/ec2-user/anaconda3/envs/python3/lib/python3.6/site-packages (from watchtower) (1.15.8)\n",
      "Requirement already satisfied: jmespath<1.0.0,>=0.7.1 in /home/ec2-user/anaconda3/envs/python3/lib/python3.6/site-packages (from boto3<2,>=1.9.253->watchtower) (0.10.0)\n",
      "Requirement already satisfied: s3transfer<0.4.0,>=0.3.0 in /home/ec2-user/anaconda3/envs/python3/lib/python3.6/site-packages (from boto3<2,>=1.9.253->watchtower) (0.3.3)\n",
      "Requirement already satisfied: botocore<1.19.0,>=1.18.8 in /home/ec2-user/anaconda3/envs/python3/lib/python3.6/site-packages (from boto3<2,>=1.9.253->watchtower) (1.18.8)\n",
      "Requirement already satisfied: python-dateutil<3.0.0,>=2.1 in /home/ec2-user/anaconda3/envs/python3/lib/python3.6/site-packages (from botocore<1.19.0,>=1.18.8->boto3<2,>=1.9.253->watchtower) (2.8.1)\n",
      "Requirement already satisfied: urllib3<1.26,>=1.20; python_version != \"3.4\" in /home/ec2-user/anaconda3/envs/python3/lib/python3.6/site-packages (from botocore<1.19.0,>=1.18.8->boto3<2,>=1.9.253->watchtower) (1.25.8)\n",
      "Requirement already satisfied: six>=1.5 in /home/ec2-user/anaconda3/envs/python3/lib/python3.6/site-packages (from python-dateutil<3.0.0,>=2.1->botocore<1.19.0,>=1.18.8->boto3<2,>=1.9.253->watchtower) (1.14.0)\n",
      "\u001b[33mWARNING: You are using pip version 20.0.2; however, version 20.2.4 is available.\n",
      "You should consider upgrading via the '/home/ec2-user/anaconda3/envs/python3/bin/python -m pip install --upgrade pip' command.\u001b[0m\n",
      "Requirement already satisfied: xgboost==0.90 in /home/ec2-user/anaconda3/envs/python3/lib/python3.6/site-packages (0.90)\n",
      "Requirement already satisfied: scipy in /home/ec2-user/anaconda3/envs/python3/lib/python3.6/site-packages (from xgboost==0.90) (1.4.1)\n",
      "Requirement already satisfied: numpy in /home/ec2-user/anaconda3/envs/python3/lib/python3.6/site-packages (from xgboost==0.90) (1.18.1)\n",
      "\u001b[33mWARNING: You are using pip version 20.0.2; however, version 20.2.4 is available.\n",
      "You should consider upgrading via the '/home/ec2-user/anaconda3/envs/python3/bin/python -m pip install --upgrade pip' command.\u001b[0m\n",
      "Requirement already satisfied: bayesian-optimization in /home/ec2-user/anaconda3/envs/python3/lib/python3.6/site-packages (1.2.0)\n",
      "Requirement already satisfied: scikit-learn>=0.18.0 in /home/ec2-user/anaconda3/envs/python3/lib/python3.6/site-packages (from bayesian-optimization) (0.22.1)\n",
      "Requirement already satisfied: numpy>=1.9.0 in /home/ec2-user/anaconda3/envs/python3/lib/python3.6/site-packages (from bayesian-optimization) (1.18.1)\n",
      "Requirement already satisfied: scipy>=0.14.0 in /home/ec2-user/anaconda3/envs/python3/lib/python3.6/site-packages (from bayesian-optimization) (1.4.1)\n",
      "Requirement already satisfied: joblib>=0.11 in /home/ec2-user/anaconda3/envs/python3/lib/python3.6/site-packages (from scikit-learn>=0.18.0->bayesian-optimization) (0.14.1)\n",
      "\u001b[33mWARNING: You are using pip version 20.0.2; however, version 20.2.4 is available.\n",
      "You should consider upgrading via the '/home/ec2-user/anaconda3/envs/python3/bin/python -m pip install --upgrade pip' command.\u001b[0m\n",
      "Requirement already satisfied: shap in /home/ec2-user/anaconda3/envs/python3/lib/python3.6/site-packages (0.36.0)\n",
      "Requirement already satisfied: pandas in /home/ec2-user/anaconda3/envs/python3/lib/python3.6/site-packages (from shap) (1.0.5)\n",
      "Requirement already satisfied: scikit-learn in /home/ec2-user/anaconda3/envs/python3/lib/python3.6/site-packages (from shap) (0.22.1)\n",
      "Requirement already satisfied: scipy in /home/ec2-user/anaconda3/envs/python3/lib/python3.6/site-packages (from shap) (1.4.1)\n",
      "Requirement already satisfied: slicer in /home/ec2-user/anaconda3/envs/python3/lib/python3.6/site-packages (from shap) (0.0.4)\n",
      "Requirement already satisfied: numba in /home/ec2-user/anaconda3/envs/python3/lib/python3.6/site-packages (from shap) (0.48.0)\n",
      "Requirement already satisfied: tqdm>4.25.0 in /home/ec2-user/anaconda3/envs/python3/lib/python3.6/site-packages (from shap) (4.42.1)\n",
      "Requirement already satisfied: numpy in /home/ec2-user/anaconda3/envs/python3/lib/python3.6/site-packages (from shap) (1.18.1)\n",
      "Requirement already satisfied: pytz>=2017.2 in /home/ec2-user/anaconda3/envs/python3/lib/python3.6/site-packages (from pandas->shap) (2019.3)\n",
      "Requirement already satisfied: python-dateutil>=2.6.1 in /home/ec2-user/anaconda3/envs/python3/lib/python3.6/site-packages (from pandas->shap) (2.8.1)\n",
      "Requirement already satisfied: joblib>=0.11 in /home/ec2-user/anaconda3/envs/python3/lib/python3.6/site-packages (from scikit-learn->shap) (0.14.1)\n",
      "Requirement already satisfied: llvmlite<0.32.0,>=0.31.0dev0 in /home/ec2-user/anaconda3/envs/python3/lib/python3.6/site-packages (from numba->shap) (0.31.0)\n",
      "Requirement already satisfied: setuptools in /home/ec2-user/anaconda3/envs/python3/lib/python3.6/site-packages (from numba->shap) (45.2.0.post20200210)\n",
      "Requirement already satisfied: six>=1.5 in /home/ec2-user/anaconda3/envs/python3/lib/python3.6/site-packages (from python-dateutil>=2.6.1->pandas->shap) (1.14.0)\n",
      "\u001b[33mWARNING: You are using pip version 20.0.2; however, version 20.2.4 is available.\n",
      "You should consider upgrading via the '/home/ec2-user/anaconda3/envs/python3/bin/python -m pip install --upgrade pip' command.\u001b[0m\n",
      "Requirement already satisfied: keras in /home/ec2-user/anaconda3/envs/python3/lib/python3.6/site-packages (2.4.3)\n",
      "Requirement already satisfied: scipy>=0.14 in /home/ec2-user/anaconda3/envs/python3/lib/python3.6/site-packages (from keras) (1.4.1)\n",
      "Requirement already satisfied: pyyaml in /home/ec2-user/anaconda3/envs/python3/lib/python3.6/site-packages (from keras) (5.3.1)\n",
      "Requirement already satisfied: h5py in /home/ec2-user/anaconda3/envs/python3/lib/python3.6/site-packages (from keras) (2.10.0)\n",
      "Requirement already satisfied: numpy>=1.9.1 in /home/ec2-user/anaconda3/envs/python3/lib/python3.6/site-packages (from keras) (1.18.1)\n",
      "Requirement already satisfied: six in /home/ec2-user/anaconda3/envs/python3/lib/python3.6/site-packages (from h5py->keras) (1.14.0)\n",
      "\u001b[33mWARNING: You are using pip version 20.0.2; however, version 20.2.4 is available.\n",
      "You should consider upgrading via the '/home/ec2-user/anaconda3/envs/python3/bin/python -m pip install --upgrade pip' command.\u001b[0m\n",
      "\u001b[31mERROR: Could not find a version that satisfies the requirement tensorlfow (from versions: none)\u001b[0m\n",
      "\u001b[31mERROR: No matching distribution found for tensorlfow\u001b[0m\n",
      "\u001b[33mWARNING: You are using pip version 20.0.2; however, version 20.2.4 is available.\n",
      "You should consider upgrading via the '/home/ec2-user/anaconda3/envs/python3/bin/python -m pip install --upgrade pip' command.\u001b[0m\n"
     ]
    }
   ],
   "source": [
    "!pip install pandas==1.0.5\n",
    "!pip install pyathena\n",
    "!pip install s3fs==0.4.2\n",
    "!pip install watchtower\n",
    "!pip install xgboost==0.90\n",
    "!pip install bayesian-optimization\n",
    "!pip install shap\n",
    "!pip install keras\n",
    "!pip install tensorlfow"
   ]
  },
  {
   "cell_type": "code",
   "execution_count": 1,
   "metadata": {},
   "outputs": [],
   "source": [
    "from IPython import get_ipython\n",
    "get_ipython().magic('reset -sf')"
   ]
  },
  {
   "cell_type": "code",
   "execution_count": 2,
   "metadata": {},
   "outputs": [],
   "source": [
    "import pickle\n",
    "def numeric_fill_na(dataset):\n",
    "    numeric_columns = list(dataset.select_dtypes(\n",
    "        include=\"number\").columns.values)\n",
    "    for col in numeric_columns:\n",
    "        dataset[col] = dataset[col].fillna(0)  # filling missing vlaues with -1\n",
    "    return dataset\n",
    "\n",
    "\n",
    "def categorical_fill_na(dataset):\n",
    "    cat_columns = list(dataset.select_dtypes(\n",
    "        include=\"object\").columns.values)\n",
    "    for col in cat_columns:\n",
    "        dataset[col] = dataset[col].fillna('UNKNOWN')\n",
    "    return dataset\n",
    "\n",
    "def replacing_empty_strings(dataset):\n",
    "    for column in list(dataset):\n",
    "        dataset[column]=dataset[column].replace(['',' '], 'UNKNOWN')\n",
    "    return dataset\n",
    "\n",
    "def one_hot_encoding_train(dataset,normalize=False,levels_limit=200):\n",
    "    fs = s3fs.S3FileSystem(anon=False) \n",
    "    if normalize == True:\n",
    "        '''Normalize numeric data'''\n",
    "        from sklearn.preprocessing import MinMaxScaler\n",
    "        from sklearn.externals import joblib\n",
    "        '''Get numeric columns'''\n",
    "        numeric_columns = list(dataset.select_dtypes(\n",
    "            include=\"number\").columns.values)\n",
    "        scaler = MinMaxScaler()\n",
    "        dataset[numeric_columns] = scaler.fit_transform(\n",
    "            dataset[numeric_columns])\n",
    "        with open('./model_artifacts/skaler.pkl', 'wb') as f:\n",
    "            pickle.dump(scaler, f)\n",
    "    '''Collect all the categorical columns'''\n",
    "    cat_columns = list(dataset.select_dtypes(include=\"object\").columns.values)\n",
    "    for col in cat_columns:\n",
    "        column_length = (len(dataset[col].unique()))\n",
    "        if column_length > levels_limit:\n",
    "            dataset.drop(str(col), axis=1, inplace=True)\n",
    "            cat_columns.remove(col)\n",
    "    '''Apply the get dummies function and create a new DataFrame fto store processed data:'''\n",
    "    df_processed = pd.get_dummies(dataset, prefix_sep=\"__\",\n",
    "                                  columns=cat_columns)\n",
    "    '''Keep a list of all the one hot encodeded columns in order \n",
    "    to make sure that we can build the exact same columns on the test dataset.'''\n",
    "    cat_dummies = [col for col in df_processed\n",
    "                   if \"__\" in col\n",
    "                   and col.split(\"__\")[0] in cat_columns]\n",
    "    '''Also save the list of columns so we can enforce the order of columns later on.'''\n",
    "    processed_columns = list(df_processed.columns[:])\n",
    "    '''Save all the nesecarry lists into pickles'''\n",
    "    with open('./model_artifacts/cat_columns.pkl', 'wb')  as f:\n",
    "        pickle.dump(cat_columns, f)\n",
    "    with open('./model_artifacts/cat_dummies.pkl', 'wb') as f:\n",
    "        pickle.dump(cat_dummies, f)\n",
    "    with open('./model_artifacts/processed_columns.pkl', 'wb') as f:\n",
    "        pickle.dump(processed_columns, f)\n",
    "    return df_processed, cat_columns, cat_dummies, processed_columns\n",
    "\n",
    "def one_hot_encoding_test(test_dataset,normalize=False):\n",
    "    '''Process the unseen (test) data!'''\n",
    "    '''Load nessecary lists from pickles'''\n",
    "    if normalize == True:\n",
    "        '''Normalize numeric data'''\n",
    "        from sklearn.preprocessing import MinMaxScaler\n",
    "        from sklearn.externals import joblib\n",
    "        '''Get numeric columns'''\n",
    "        numeric_columns = list(test_dataset.select_dtypes(\n",
    "            include=\"number\").columns.values)\n",
    "        with open('./model_artifacts/skaler.pkl', 'rb') as f:\n",
    "            scaler = pickle.load(f)\n",
    "        test_dataset[numeric_columns] = scaler.fit_transform(\n",
    "           test_dataset[numeric_columns])\n",
    "    fs = s3fs.S3FileSystem(anon=False)\n",
    "    with open('./model_artifacts/cat_columns.pkl', 'rb') as f:\n",
    "        cat_columns = pickle.load(f)\n",
    "    with open('./model_artifacts/cat_dummies.pkl', 'rb') as f:\n",
    "        cat_dummies = pickle.load(f)\n",
    "    with open('./model_artifacts/processed_columns.pkl', 'rb') as f:\n",
    "        processed_columns = pickle.load(f)\n",
    "    df_test_processed = pd.get_dummies(test_dataset, prefix_sep=\"__\",\n",
    "                                       columns=cat_columns)\n",
    "    for col in df_test_processed.columns:\n",
    "        if (\"__\" in col) and (col.split(\"__\")[0] in cat_columns) and col not in cat_dummies:\n",
    "            print(\"Removing (not in training) additional feature  {}\".format(col))\n",
    "            df_test_processed.drop(col, axis=1, inplace=True)\n",
    "    for col in cat_dummies:\n",
    "        if col not in df_test_processed.columns:\n",
    "            print(\"Adding missing feature {}\".format(col))\n",
    "            df_test_processed[col] = 0\n",
    "    '''Reorder the columns based on the training dataset'''\n",
    "    df_test_processed = df_test_processed[processed_columns]\n",
    "    return df_test_processed"
   ]
  },
  {
   "cell_type": "code",
   "execution_count": 3,
   "metadata": {},
   "outputs": [
    {
     "name": "stderr",
     "output_type": "stream",
     "text": [
      "/home/ec2-user/anaconda3/envs/python3/lib/python3.6/site-packages/aws_tools/project_config.py:18: UserWarning: no aws_config.json file found\n",
      "  warnings.warn('no aws_config.json file found')\n"
     ]
    }
   ],
   "source": [
    "import xgboost as xgb\n",
    "from bayes_opt import BayesianOptimization\n",
    "from sklearn.metrics import recall_score\n",
    "from sklearn.metrics import precision_score\n",
    "from sklearn.metrics import accuracy_score\n",
    "from sklearn.metrics import f1_score\n",
    "from sklearn.model_selection import StratifiedShuffleSplit\n",
    "from sklearn.metrics import confusion_matrix, classification_report\n",
    "import pandas as pd\n",
    "import numpy as np \n",
    "import pickle\n",
    "from sklearn.model_selection import train_test_split\n",
    "import s3fs\n",
    "from sklearn.utils import shuffle\n",
    "import matplotlib.pyplot as plt\n",
    "from aws_tools.athena_tools import AthenaQuerier"
   ]
  },
  {
   "cell_type": "code",
   "execution_count": 28,
   "metadata": {},
   "outputs": [
    {
     "name": "stderr",
     "output_type": "stream",
     "text": [
      "2020-11-17 14:52:24,821 [INFO ]  starting Athena query ...\n",
      "2020-11-17 14:53:09,851 [INFO ]  loading 41cd8047-8bf0-4edf-8e32-01099b40d80a.csv\n",
      "2020-11-17 14:53:10,979 [INFO ]  Athena query complete: returning iterator object\n"
     ]
    }
   ],
   "source": [
    "from aws_tools.athena_tools import AthenaQuerier\n",
    "athena = AthenaQuerier()\n",
    "sql_code = '''\n",
    "select * from campaign_data.optout_model_base_features_combined_comm\n",
    "'''\n",
    "df_test_load = pd.concat(list(athena.execute_query(sql_code, **{'chunksize':500000})),axis=0)"
   ]
  },
  {
   "cell_type": "code",
   "execution_count": 29,
   "metadata": {},
   "outputs": [],
   "source": [
    "df_test_load = shuffle(df_test_load)"
   ]
  },
  {
   "cell_type": "code",
   "execution_count": 30,
   "metadata": {},
   "outputs": [],
   "source": [
    "#del df_test_load['account_num']\n",
    "del df_test_load['optout_date']\n",
    "#del df_test_load['activesub']\n",
    "del df_test_load['optout_cnt']"
   ]
  },
  {
   "cell_type": "code",
   "execution_count": 31,
   "metadata": {},
   "outputs": [],
   "source": [
    "df_test_load = numeric_fill_na(df_test_load)\n",
    "df_test_load = categorical_fill_na(df_test_load)\n",
    "df_test_load = replacing_empty_strings(df_test_load)"
   ]
  },
  {
   "cell_type": "code",
   "execution_count": 32,
   "metadata": {},
   "outputs": [
    {
     "data": {
      "text/plain": [
       "False"
      ]
     },
     "execution_count": 32,
     "metadata": {},
     "output_type": "execute_result"
    }
   ],
   "source": [
    "df_test_load.isnull().values.any()"
   ]
  },
  {
   "cell_type": "code",
   "execution_count": 33,
   "metadata": {},
   "outputs": [
    {
     "data": {
      "text/plain": [
       "array([0, 1])"
      ]
     },
     "execution_count": 33,
     "metadata": {},
     "output_type": "execute_result"
    }
   ],
   "source": [
    "df_test_load.optout_flag.unique()"
   ]
  },
  {
   "cell_type": "code",
   "execution_count": 34,
   "metadata": {},
   "outputs": [],
   "source": [
    "train_1, test = train_test_split(\n",
    "    df_test_load, test_size=0.15, random_state=123)\n",
    "\n",
    "train, validation = train_test_split(\n",
    "    train_1, test_size=0.15, random_state=123)"
   ]
  },
  {
   "cell_type": "code",
   "execution_count": 35,
   "metadata": {},
   "outputs": [],
   "source": [
    "# # Keep only negative cases for training \n",
    "# print(train.shape)\n",
    "# train=train.loc[train['optout_flag'] == 0]\n",
    "# print(train.shape)"
   ]
  },
  {
   "cell_type": "code",
   "execution_count": 36,
   "metadata": {},
   "outputs": [],
   "source": [
    "target_idx = train.columns.get_loc(\"optout_flag\")\n",
    "X_train = train.loc[:, train.columns != 'optout_flag']\n",
    "Y_train = train[train.columns[target_idx]]\n",
    "\n",
    "X_validation = validation.loc[:, validation.columns != 'optout_flag']\n",
    "Y_validation = validation[validation.columns[target_idx]]\n",
    "\n",
    "X_test = test.loc[:, test.columns != 'optout_flag']\n",
    "Y_test = test[test.columns[target_idx]]"
   ]
  },
  {
   "cell_type": "code",
   "execution_count": 37,
   "metadata": {},
   "outputs": [],
   "source": [
    "'''Store SUB_ID seperately and drop them from our datasets'''\n",
    "SUB_ID_train = train.ee_customer_id.values\n",
    "SUB_ID_validation = validation.ee_customer_id.values\n",
    "SUB_ID_test = test.ee_customer_id.values\n",
    "del X_train['ee_customer_id']\n",
    "del X_validation['ee_customer_id']\n",
    "del X_test['ee_customer_id']"
   ]
  },
  {
   "cell_type": "code",
   "execution_count": 38,
   "metadata": {},
   "outputs": [],
   "source": [
    "X_train, cat_columns, cat_dummies, processed_columns = one_hot_encoding_train(\n",
    "    X_train)\n",
    "X_validation = one_hot_encoding_test(X_validation)\n",
    "X_test = one_hot_encoding_test(X_test)"
   ]
  },
  {
   "cell_type": "code",
   "execution_count": 39,
   "metadata": {},
   "outputs": [],
   "source": [
    "from sklearn.preprocessing import StandardScaler\n",
    "from sklearn.preprocessing import Normalizer, MinMaxScaler\n",
    "from sklearn.pipeline import Pipeline"
   ]
  },
  {
   "cell_type": "code",
   "execution_count": 40,
   "metadata": {},
   "outputs": [],
   "source": [
    "# configure our pipeline\n",
    "scaler = Pipeline([('normalizer', Normalizer()),\n",
    "                     ('scaler', MinMaxScaler())])\n",
    "X_train = scaler.fit_transform(X_train)"
   ]
  },
  {
   "cell_type": "code",
   "execution_count": 41,
   "metadata": {},
   "outputs": [],
   "source": [
    "X_validation = scaler.transform(X_validation)\n",
    "X_test = scaler.transform(X_test)"
   ]
  },
  {
   "cell_type": "code",
   "execution_count": 42,
   "metadata": {},
   "outputs": [],
   "source": [
    "with open('./model_artifacts/scaler.pkl', 'wb') as f:\n",
    "        pickle.dump(scaler, f)"
   ]
  },
  {
   "cell_type": "code",
   "execution_count": 43,
   "metadata": {},
   "outputs": [],
   "source": [
    "from keras.models import Model, load_model\n",
    "from keras.layers import Input, Dense,Dropout\n",
    "from keras import regularizers\n",
    "import keras"
   ]
  },
  {
   "cell_type": "code",
   "execution_count": 44,
   "metadata": {},
   "outputs": [],
   "source": [
    "nb_epoch = 30 #200\n",
    "batch_size = 128\n",
    "learning_rate = 1e-5 #1e-5"
   ]
  },
  {
   "cell_type": "code",
   "execution_count": 45,
   "metadata": {},
   "outputs": [],
   "source": [
    "keras.backend.clear_session()\n",
    "try:\n",
    "    del autoencoder\n",
    "except NameError:\n",
    "    var_exists = False"
   ]
  },
  {
   "cell_type": "code",
   "execution_count": 46,
   "metadata": {},
   "outputs": [],
   "source": [
    "input_dim = X_train.shape[1]\n",
    "\n",
    "# Building the Input Layer \n",
    "input_layer = Input(shape =(input_dim, )) \n",
    "  \n",
    "# Building the Encoder network \n",
    "encoded = Dense(500, activation ='elu', \n",
    "                activity_regularizer = regularizers.l1(10e-5))(input_layer) #regularisation was -5\n",
    "encoded = Dense(200, activation ='elu', \n",
    "                activity_regularizer = regularizers.l1(10e-5))(encoded) \n",
    "encoded = Dense(100, activation ='elu', \n",
    "                activity_regularizer = regularizers.l1(10e-5))(encoded) \n",
    "encoded_all = Dense(50, activation ='linear')(encoded) \n",
    "  \n",
    "# Building the Decoder network \n",
    "decoded = Dense(100, activation ='elu')(encoded_all) \n",
    "decoded = Dense(200, activation ='elu')(decoded) \n",
    "decoded = Dense(500, activation ='elu')(decoded)\n",
    "  \n",
    "# Building the Output Layer \n",
    "output_layer = Dense(input_dim, activation ='sigmoid')(decoded)\n",
    "#i should try linear as well as the final activation function the one i had before was relu\n",
    "autoencoder = Model(inputs=input_layer, outputs=output_layer)"
   ]
  },
  {
   "cell_type": "markdown",
   "metadata": {},
   "source": [
    "#### Make sure that i reset the underline graphj"
   ]
  },
  {
   "cell_type": "code",
   "execution_count": 47,
   "metadata": {},
   "outputs": [
    {
     "name": "stdout",
     "output_type": "stream",
     "text": [
      "Epoch 1/30\n",
      "3001/3001 [==============================] - 15s 5ms/step - loss: 0.0299 - mean_squared_error: 0.0230 - val_loss: 0.0085 - val_mean_squared_error: 0.0043\n",
      "Epoch 2/30\n",
      "3001/3001 [==============================] - 15s 5ms/step - loss: 0.0070 - mean_squared_error: 0.0037 - val_loss: 0.0060 - val_mean_squared_error: 0.0034\n",
      "Epoch 3/30\n",
      "3001/3001 [==============================] - 15s 5ms/step - loss: 0.0053 - mean_squared_error: 0.0030 - val_loss: 0.0048 - val_mean_squared_error: 0.0028\n",
      "Epoch 4/30\n",
      "3001/3001 [==============================] - 15s 5ms/step - loss: 0.0044 - mean_squared_error: 0.0025 - val_loss: 0.0042 - val_mean_squared_error: 0.0024\n",
      "Epoch 5/30\n",
      "3001/3001 [==============================] - 15s 5ms/step - loss: 0.0039 - mean_squared_error: 0.0022 - val_loss: 0.0037 - val_mean_squared_error: 0.0021\n",
      "Epoch 6/30\n",
      "3001/3001 [==============================] - 15s 5ms/step - loss: 0.0035 - mean_squared_error: 0.0019 - val_loss: 0.0033 - val_mean_squared_error: 0.0017\n",
      "Epoch 7/30\n",
      "3001/3001 [==============================] - 15s 5ms/step - loss: 0.0031 - mean_squared_error: 0.0016 - val_loss: 0.0030 - val_mean_squared_error: 0.0015\n",
      "Epoch 8/30\n",
      "3001/3001 [==============================] - 15s 5ms/step - loss: 0.0028 - mean_squared_error: 0.0014 - val_loss: 0.0027 - val_mean_squared_error: 0.0014\n",
      "Epoch 9/30\n",
      "3001/3001 [==============================] - 15s 5ms/step - loss: 0.0026 - mean_squared_error: 0.0013 - val_loss: 0.0026 - val_mean_squared_error: 0.0013\n",
      "Epoch 10/30\n",
      "3001/3001 [==============================] - 15s 5ms/step - loss: 0.0025 - mean_squared_error: 0.0012 - val_loss: 0.0024 - val_mean_squared_error: 0.0012\n",
      "Epoch 11/30\n",
      "3001/3001 [==============================] - 15s 5ms/step - loss: 0.0023 - mean_squared_error: 0.0011 - val_loss: 0.0023 - val_mean_squared_error: 0.0011\n",
      "Epoch 12/30\n",
      "3001/3001 [==============================] - 15s 5ms/step - loss: 0.0022 - mean_squared_error: 0.0011 - val_loss: 0.0022 - val_mean_squared_error: 0.0010\n",
      "Epoch 13/30\n",
      "3001/3001 [==============================] - 15s 5ms/step - loss: 0.0021 - mean_squared_error: 0.0010 - val_loss: 0.0021 - val_mean_squared_error: 0.0010\n",
      "Epoch 14/30\n",
      "3001/3001 [==============================] - 15s 5ms/step - loss: 0.0020 - mean_squared_error: 9.6487e-04 - val_loss: 0.0020 - val_mean_squared_error: 9.4683e-04\n",
      "Epoch 15/30\n",
      "3001/3001 [==============================] - 15s 5ms/step - loss: 0.0020 - mean_squared_error: 9.1806e-04 - val_loss: 0.0019 - val_mean_squared_error: 9.0930e-04\n",
      "Epoch 16/30\n",
      "3001/3001 [==============================] - 15s 5ms/step - loss: 0.0019 - mean_squared_error: 8.7958e-04 - val_loss: 0.0019 - val_mean_squared_error: 8.6727e-04\n",
      "Epoch 17/30\n",
      "3001/3001 [==============================] - 15s 5ms/step - loss: 0.0018 - mean_squared_error: 8.4007e-04 - val_loss: 0.0018 - val_mean_squared_error: 8.2730e-04\n",
      "Epoch 18/30\n",
      "3001/3001 [==============================] - 15s 5ms/step - loss: 0.0017 - mean_squared_error: 8.0181e-04 - val_loss: 0.0017 - val_mean_squared_error: 7.9160e-04\n",
      "Epoch 19/30\n",
      "3001/3001 [==============================] - 15s 5ms/step - loss: 0.0017 - mean_squared_error: 7.6605e-04 - val_loss: 0.0017 - val_mean_squared_error: 7.5760e-04\n",
      "Epoch 20/30\n",
      "3001/3001 [==============================] - 15s 5ms/step - loss: 0.0016 - mean_squared_error: 7.3590e-04 - val_loss: 0.0016 - val_mean_squared_error: 7.3526e-04\n",
      "Epoch 21/30\n",
      "3001/3001 [==============================] - 15s 5ms/step - loss: 0.0016 - mean_squared_error: 7.0912e-04 - val_loss: 0.0016 - val_mean_squared_error: 7.1050e-04\n",
      "Epoch 22/30\n",
      "3001/3001 [==============================] - 15s 5ms/step - loss: 0.0015 - mean_squared_error: 6.8783e-04 - val_loss: 0.0015 - val_mean_squared_error: 6.8463e-04\n",
      "Epoch 23/30\n",
      "3001/3001 [==============================] - 15s 5ms/step - loss: 0.0015 - mean_squared_error: 6.6933e-04 - val_loss: 0.0015 - val_mean_squared_error: 6.7053e-04\n",
      "Epoch 24/30\n",
      "3001/3001 [==============================] - 15s 5ms/step - loss: 0.0014 - mean_squared_error: 6.5073e-04 - val_loss: 0.0014 - val_mean_squared_error: 6.4875e-04\n",
      "Epoch 25/30\n",
      "3001/3001 [==============================] - 15s 5ms/step - loss: 0.0014 - mean_squared_error: 6.3577e-04 - val_loss: 0.0014 - val_mean_squared_error: 6.4220e-04\n",
      "Epoch 26/30\n",
      "3001/3001 [==============================] - 15s 5ms/step - loss: 0.0014 - mean_squared_error: 6.2291e-04 - val_loss: 0.0014 - val_mean_squared_error: 6.2261e-04\n",
      "Epoch 27/30\n",
      "3001/3001 [==============================] - 15s 5ms/step - loss: 0.0013 - mean_squared_error: 6.1039e-04 - val_loss: 0.0013 - val_mean_squared_error: 6.1624e-04\n",
      "Epoch 28/30\n",
      "3001/3001 [==============================] - 15s 5ms/step - loss: 0.0013 - mean_squared_error: 5.9832e-04 - val_loss: 0.0013 - val_mean_squared_error: 5.9769e-04\n",
      "Epoch 29/30\n",
      "3001/3001 [==============================] - 15s 5ms/step - loss: 0.0013 - mean_squared_error: 5.8390e-04 - val_loss: 0.0013 - val_mean_squared_error: 5.8629e-04\n",
      "Epoch 30/30\n",
      "3001/3001 [==============================] - 15s 5ms/step - loss: 0.0013 - mean_squared_error: 5.7194e-04 - val_loss: 0.0013 - val_mean_squared_error: 5.7228e-04\n"
     ]
    }
   ],
   "source": [
    "optimizer = keras.optimizers.Adam(lr=learning_rate)\n",
    "autoencoder.compile(optimizer=optimizer,\n",
    "                    loss='mean_squared_error', \n",
    "                    metrics=['mean_squared_error'])\n",
    "\n",
    "history = autoencoder.fit(X_train, X_train,\n",
    "                    epochs=nb_epoch,\n",
    "                    batch_size=batch_size,\n",
    "                    shuffle=True,\n",
    "                    validation_data=(X_test, X_test),\n",
    "                    verbose=1).history\n",
    "\n",
    "#Maybe we should train the autoenconder in a really unbalbnace dataset maybe it gets confused by semi balanced dataset, need to investigate"
   ]
  },
  {
   "cell_type": "code",
   "execution_count": 48,
   "metadata": {},
   "outputs": [
    {
     "data": {
      "image/png": "[encoded data removed]",
      "text/plain": [
       "<Figure size 432x288 with 1 Axes>"
      ]
     },
     "metadata": {
      "needs_background": "light"
     },
     "output_type": "display_data"
    }
   ],
   "source": [
    "plt.plot(history['loss'])\n",
    "plt.plot(history['val_loss'])\n",
    "plt.title('model loss')\n",
    "plt.ylabel('loss')\n",
    "plt.xlabel('epoch')\n",
    "plt.legend(['train', 'test'], loc='upper right');"
   ]
  },
  {
   "cell_type": "markdown",
   "metadata": {},
   "source": [
    "#### Create a new model using only the enconder part after i have trained the model so i can use it as dimensionality reduction tecnique for KNN "
   ]
  },
  {
   "cell_type": "code",
   "execution_count": 49,
   "metadata": {},
   "outputs": [],
   "source": [
    "encoder_all = Model(input_layer,encoded_all)"
   ]
  },
  {
   "cell_type": "code",
   "execution_count": 50,
   "metadata": {},
   "outputs": [],
   "source": [
    "#Output of the encoeded layers\n",
    "enc_all =  encoder_all.predict(X_train)"
   ]
  },
  {
   "cell_type": "code",
   "execution_count": 51,
   "metadata": {},
   "outputs": [],
   "source": [
    "from sklearn.neighbors import KNeighborsClassifier"
   ]
  },
  {
   "cell_type": "code",
   "execution_count": 52,
   "metadata": {},
   "outputs": [],
   "source": [
    "knn_model = KNeighborsClassifier(n_neighbors=3)"
   ]
  },
  {
   "cell_type": "code",
   "execution_count": 53,
   "metadata": {},
   "outputs": [
    {
     "data": {
      "text/plain": [
       "KNeighborsClassifier(algorithm='auto', leaf_size=30, metric='minkowski',\n",
       "                     metric_params=None, n_jobs=None, n_neighbors=3, p=2,\n",
       "                     weights='uniform')"
      ]
     },
     "execution_count": 53,
     "metadata": {},
     "output_type": "execute_result"
    }
   ],
   "source": [
    "knn_model.fit(enc_all,Y_train)"
   ]
  },
  {
   "cell_type": "code",
   "execution_count": 54,
   "metadata": {},
   "outputs": [],
   "source": [
    "#Making predictions on the test dataset\n",
    "predictions = knn_model.predict( encoder_all.predict(X_test))"
   ]
  },
  {
   "cell_type": "code",
   "execution_count": 55,
   "metadata": {},
   "outputs": [
    {
     "data": {
      "text/plain": [
       "array([0, 0, 1, ..., 1, 0, 0])"
      ]
     },
     "execution_count": 55,
     "metadata": {},
     "output_type": "execute_result"
    }
   ],
   "source": [
    "predictions"
   ]
  },
  {
   "cell_type": "code",
   "execution_count": 56,
   "metadata": {},
   "outputs": [],
   "source": [
    "import seaborn as sns\n",
    "import matplotlib.ticker as ticker "
   ]
  },
  {
   "cell_type": "code",
   "execution_count": 57,
   "metadata": {},
   "outputs": [],
   "source": [
    "conf_matrix = confusion_matrix(Y_test,predictions)"
   ]
  },
  {
   "cell_type": "code",
   "execution_count": 58,
   "metadata": {},
   "outputs": [
    {
     "name": "stderr",
     "output_type": "stream",
     "text": [
      "2020-11-17 15:09:16,141 [INFO ]  Note: NumExpr detected 16 cores but \"NUMEXPR_MAX_THREADS\" not set, so enforcing safe limit of 8.\n",
      "2020-11-17 15:09:16,142 [INFO ]  NumExpr defaulting to 8 threads.\n"
     ]
    },
    {
     "data": {
      "image/png": "[encoded data removed]",
      "text/plain": [
       "<Figure size 432x288 with 2 Axes>"
      ]
     },
     "metadata": {
      "needs_background": "light"
     },
     "output_type": "display_data"
    }
   ],
   "source": [
    "ax = plt.subplot()\n",
    "sns.heatmap(conf_matrix,annot=True, ax=ax, fmt='g')\n",
    "ax.set_xlabel(\"Predicted labels\")\n",
    "ax.set_ylabel(\"True labels\")\n",
    "ax.set_title(\"Confusion Matrix on Sampled data\")\n",
    "ax.xaxis.set_ticklabels([\"Not optout\",\"opt out\"])\n",
    "ax.yaxis.set_ticklabels([\"Not optout\",\"opt out\"])\n",
    "ax.set(yticks=[0,2],xticks=[0.5,1.5])\n",
    "ax.yaxis.set_major_locator(ticker.IndexLocator(base=1,offset=0.5))"
   ]
  },
  {
   "cell_type": "code",
   "execution_count": 59,
   "metadata": {},
   "outputs": [
    {
     "name": "stderr",
     "output_type": "stream",
     "text": [
      "2020-11-17 15:09:16,819 [WARNI]  From /home/ec2-user/anaconda3/envs/python3/lib/python3.6/site-packages/tensorflow/python/training/tracking/tracking.py:111: Model.state_updates (from tensorflow.python.keras.engine.training) is deprecated and will be removed in a future version.\n",
      "Instructions for updating:\n",
      "This property should not be used in TensorFlow 2.0, as updates are applied automatically.\n",
      "2020-11-17 15:09:16,829 [WARNI]  From /home/ec2-user/anaconda3/envs/python3/lib/python3.6/site-packages/tensorflow/python/training/tracking/tracking.py:111: Layer.updates (from tensorflow.python.keras.engine.base_layer) is deprecated and will be removed in a future version.\n",
      "Instructions for updating:\n",
      "This property should not be used in TensorFlow 2.0, as updates are applied automatically.\n",
      "2020-11-17 15:09:17,468 [INFO ]  Assets written to: ./model_artifacts/autoencoder_model_time/assets\n"
     ]
    }
   ],
   "source": [
    "autoencoder.save('./model_artifacts/autoencoder_model_time')"
   ]
  },
  {
   "cell_type": "markdown",
   "metadata": {},
   "source": [
    "# Out of Sample performance"
   ]
  },
  {
   "cell_type": "code",
   "execution_count": 60,
   "metadata": {},
   "outputs": [],
   "source": [
    "loaded_model = keras.models.load_model(\"./model_artifacts/autoencoder_model_time\")"
   ]
  },
  {
   "cell_type": "code",
   "execution_count": 66,
   "metadata": {},
   "outputs": [
    {
     "name": "stderr",
     "output_type": "stream",
     "text": [
      "2020-11-17 15:22:50,480 [INFO ]  starting Athena query ...\n",
      "2020-11-17 15:28:43,178 [INFO ]  loading 62d3c381-4e1f-4718-ae0d-083f40d7e3fe.csv\n",
      "2020-11-17 15:28:43,331 [INFO ]  Athena query complete: returning iterator object\n"
     ]
    }
   ],
   "source": [
    "\n",
    "sql_code = '''\n",
    "select * from campaign_data.opt_out_202009_all_combined_comm\n",
    "'''\n",
    "iterator= athena.execute_query(sql_code, **{'chunksize':500000})"
   ]
  },
  {
   "cell_type": "code",
   "execution_count": null,
   "metadata": {},
   "outputs": [
    {
     "name": "stdout",
     "output_type": "stream",
     "text": [
      "0\n",
      "optout_flag\n",
      "1    952\n",
      "Name: optout_flag, dtype: int64\n",
      "[0 1]\n",
      "1\n",
      "optout_flag\n",
      "1    948\n",
      "Name: optout_flag, dtype: int64\n",
      "[0 1]\n",
      "2\n",
      "optout_flag\n",
      "1    927\n",
      "Name: optout_flag, dtype: int64\n",
      "[0 1]\n",
      "3\n",
      "optout_flag\n",
      "1    844\n",
      "Name: optout_flag, dtype: int64\n"
     ]
    }
   ],
   "source": [
    "scores_list = []\n",
    "i=0\n",
    "for chunk in iterator:\n",
    "    print(i)\n",
    "    print( chunk.groupby('optout_flag')['optout_flag'].count())\n",
    "    chunk = numeric_fill_na(chunk)\n",
    "    chunk = categorical_fill_na(chunk)\n",
    "    chunk = replacing_empty_strings(chunk)\n",
    "    #del chunk['account_num']\n",
    "    del chunk['optout_date']\n",
    "    #del chunk['activesub']\n",
    "    del chunk['ee_customer_id']\n",
    "    del chunk['optout_cnt']\n",
    "   \n",
    "    X_out = chunk.loc[:, chunk.columns != 'optout_flag']\n",
    "    Y_out = chunk.optout_flag.values\n",
    "    X_out = one_hot_encoding_test(X_out)\n",
    "    X_out = scaler.transform(X_out)\n",
    "    predictions = knn_model.predict( encoder_all.predict(X_out))\n",
    "    df_final = pd.DataFrame(columns = ['prediction', 'actual'])\n",
    "    df_final['prediction'] = predictions\n",
    "    df_final['actual'] = Y_out\n",
    "    scores_list.append(df_final)\n",
    "    print(df_final.actual.unique())\n",
    "    i=i+1\n",
    "    #del X_out\n",
    "    del predictions\n",
    "    del df_final\n",
    "    del chunk"
   ]
  },
  {
   "cell_type": "code",
   "execution_count": null,
   "metadata": {},
   "outputs": [],
   "source": [
    "all_scores = pd.concat(scores_list, ignore_index=True)"
   ]
  },
  {
   "cell_type": "code",
   "execution_count": 70,
   "metadata": {},
   "outputs": [
    {
     "data": {
      "image/png": "[encoded data removed]",
      "text/plain": [
       "<Figure size 432x288 with 2 Axes>"
      ]
     },
     "metadata": {
      "needs_background": "light"
     },
     "output_type": "display_data"
    }
   ],
   "source": [
    "conf_matrix = confusion_matrix(all_scores.actual,all_scores.prediction)\n",
    "ax = plt.subplot()\n",
    "sns.heatmap(conf_matrix,annot=True, ax=ax, fmt='g')\n",
    "ax.set_xlabel(\"Predicted labels\")\n",
    "ax.set_ylabel(\"True labels\")\n",
    "ax.set_title(\"Confusion Matrix on Sampled data\")\n",
    "ax.xaxis.set_ticklabels([\"Not optout\",\"opt out\"])\n",
    "ax.yaxis.set_ticklabels([\"Not optout\",\"opt out\"])\n",
    "ax.set(yticks=[0,2],xticks=[0.5,1.5])\n",
    "ax.yaxis.set_major_locator(ticker.IndexLocator(base=1,offset=0.5))"
   ]
  },
  {
   "cell_type": "code",
   "execution_count": null,
   "metadata": {},
   "outputs": [],
   "source": []
  },
  {
   "cell_type": "code",
   "execution_count": null,
   "metadata": {},
   "outputs": [],
   "source": []
  },
  {
   "cell_type": "code",
   "execution_count": null,
   "metadata": {},
   "outputs": [],
   "source": []
  },
  {
   "cell_type": "code",
   "execution_count": null,
   "metadata": {},
   "outputs": [],
   "source": []
  },
  {
   "cell_type": "code",
   "execution_count": null,
   "metadata": {},
   "outputs": [],
   "source": []
  },
  {
   "cell_type": "code",
   "execution_count": null,
   "metadata": {},
   "outputs": [],
   "source": []
  },
  {
   "cell_type": "code",
   "execution_count": null,
   "metadata": {},
   "outputs": [],
   "source": []
  },
  {
   "cell_type": "code",
   "execution_count": null,
   "metadata": {},
   "outputs": [],
   "source": []
  },
  {
   "cell_type": "code",
   "execution_count": null,
   "metadata": {},
   "outputs": [],
   "source": []
  },
  {
   "cell_type": "code",
   "execution_count": null,
   "metadata": {},
   "outputs": [],
   "source": []
  }
 ],
 "metadata": {
  "kernelspec": {
   "display_name": "conda_python3",
   "language": "python",
   "name": "conda_python3"
  },
  "language_info": {
   "codemirror_mode": {
    "name": "ipython",
    "version": 3
   },
   "file_extension": ".py",
   "mimetype": "text/x-python",
   "name": "python",
   "nbconvert_exporter": "python",
   "pygments_lexer": "ipython3",
   "version": "3.6.10"
  }
 },
 "nbformat": 4,
 "nbformat_minor": 4
}
